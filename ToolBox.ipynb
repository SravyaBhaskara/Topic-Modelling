{
 "cells": [
  {
   "cell_type": "markdown",
   "metadata": {},
   "source": [
    "# Topic Modelling"
   ]
  },
  {
   "cell_type": "code",
   "execution_count": 3,
   "metadata": {},
   "outputs": [],
   "source": [
    "import pandas as pd"
   ]
  },
  {
   "cell_type": "markdown",
   "metadata": {},
   "source": [
    "### Read The Data"
   ]
  },
  {
   "cell_type": "code",
   "execution_count": 4,
   "metadata": {},
   "outputs": [
    {
     "name": "stdout",
     "output_type": "stream",
     "text": [
      "Top 10 rows in the dataframe\n",
      "\n"
     ]
    },
    {
     "data": {
      "text/html": [
       "<div>\n",
       "<style scoped>\n",
       "    .dataframe tbody tr th:only-of-type {\n",
       "        vertical-align: middle;\n",
       "    }\n",
       "\n",
       "    .dataframe tbody tr th {\n",
       "        vertical-align: top;\n",
       "    }\n",
       "\n",
       "    .dataframe thead th {\n",
       "        text-align: right;\n",
       "    }\n",
       "</style>\n",
       "<table border=\"1\" class=\"dataframe\">\n",
       "  <thead>\n",
       "    <tr style=\"text-align: right;\">\n",
       "      <th></th>\n",
       "      <th>text</th>\n",
       "      <th>type</th>\n",
       "      <th>index</th>\n",
       "    </tr>\n",
       "  </thead>\n",
       "  <tbody>\n",
       "    <tr>\n",
       "      <th>0</th>\n",
       "      <td>@ACNI2012 @TheToka920 Never knew having 1 or 2...</td>\n",
       "      <td>sports</td>\n",
       "      <td>0</td>\n",
       "    </tr>\n",
       "    <tr>\n",
       "      <th>1</th>\n",
       "      <td>MYCA Magical Moments:\\n\\nSeptember, 2011: Sham...</td>\n",
       "      <td>sports</td>\n",
       "      <td>1</td>\n",
       "    </tr>\n",
       "    <tr>\n",
       "      <th>2</th>\n",
       "      <td>The current state of last year's @BBL finalist...</td>\n",
       "      <td>sports</td>\n",
       "      <td>2</td>\n",
       "    </tr>\n",
       "    <tr>\n",
       "      <th>3</th>\n",
       "      <td>@HOLLYJISOO Why did you bring a cricket...</td>\n",
       "      <td>sports</td>\n",
       "      <td>3</td>\n",
       "    </tr>\n",
       "    <tr>\n",
       "      <th>4</th>\n",
       "      <td>Babar Azam only Pakistani included in the ICC ...</td>\n",
       "      <td>sports</td>\n",
       "      <td>4</td>\n",
       "    </tr>\n",
       "    <tr>\n",
       "      <th>5</th>\n",
       "      <td>RT @IExpressSports: #INDvAUS \\n\\nRishabh Pant ...</td>\n",
       "      <td>sports</td>\n",
       "      <td>5</td>\n",
       "    </tr>\n",
       "    <tr>\n",
       "      <th>6</th>\n",
       "      <td>RT @ThinkBoiseFirst: @BoiseFryCo &amp;amp; Idaho c...</td>\n",
       "      <td>sports</td>\n",
       "      <td>6</td>\n",
       "    </tr>\n",
       "    <tr>\n",
       "      <th>7</th>\n",
       "      <td>RT @GabbbarSingh: I'm surprised a lot of peopl...</td>\n",
       "      <td>sports</td>\n",
       "      <td>7</td>\n",
       "    </tr>\n",
       "    <tr>\n",
       "      <th>8</th>\n",
       "      <td>RT @BCCI: The ICC ODI Cricketer of the Year aw...</td>\n",
       "      <td>sports</td>\n",
       "      <td>8</td>\n",
       "    </tr>\n",
       "    <tr>\n",
       "      <th>9</th>\n",
       "      <td>RT @WajidAfridi551: #1YearOfTeamISF \\nImran Kh...</td>\n",
       "      <td>sports</td>\n",
       "      <td>9</td>\n",
       "    </tr>\n",
       "  </tbody>\n",
       "</table>\n",
       "</div>"
      ],
      "text/plain": [
       "                                                text    type  index\n",
       "0  @ACNI2012 @TheToka920 Never knew having 1 or 2...  sports      0\n",
       "1  MYCA Magical Moments:\\n\\nSeptember, 2011: Sham...  sports      1\n",
       "2  The current state of last year's @BBL finalist...  sports      2\n",
       "3         @HOLLYJISOO Why did you bring a cricket...  sports      3\n",
       "4  Babar Azam only Pakistani included in the ICC ...  sports      4\n",
       "5  RT @IExpressSports: #INDvAUS \\n\\nRishabh Pant ...  sports      5\n",
       "6  RT @ThinkBoiseFirst: @BoiseFryCo &amp; Idaho c...  sports      6\n",
       "7  RT @GabbbarSingh: I'm surprised a lot of peopl...  sports      7\n",
       "8  RT @BCCI: The ICC ODI Cricketer of the Year aw...  sports      8\n",
       "9  RT @WajidAfridi551: #1YearOfTeamISF \\nImran Kh...  sports      9"
      ]
     },
     "execution_count": 4,
     "metadata": {},
     "output_type": "execute_result"
    }
   ],
   "source": [
    "data = pd.read_excel('text_classification_dataset.xlsx')  \n",
    "# data = pd.read_csv()\n",
    "# data = pd.read_json()\n",
    "\n",
    "\n",
    "data.shape\n",
    "data['index'] = data.index\n",
    "print(\"Top 10 rows in the dataframe\\n\")\n",
    "data.head(10)\n"
   ]
  },
  {
   "cell_type": "code",
   "execution_count": 5,
   "metadata": {},
   "outputs": [
    {
     "name": "stdout",
     "output_type": "stream",
     "text": [
      "The shape of original data set \n"
     ]
    },
    {
     "data": {
      "text/plain": [
       "(611, 3)"
      ]
     },
     "execution_count": 5,
     "metadata": {},
     "output_type": "execute_result"
    }
   ],
   "source": [
    "print(\"The shape of original data set \")\n",
    "data.shape"
   ]
  },
  {
   "cell_type": "code",
   "execution_count": 6,
   "metadata": {},
   "outputs": [],
   "source": [
    "# data['Topic and Des'] = data['Description'].combine_first(data['Topics'])\n",
    "# data.head(10)"
   ]
  },
  {
   "cell_type": "code",
   "execution_count": 7,
   "metadata": {},
   "outputs": [],
   "source": [
    "\n",
    "from nltk.corpus import stopwords \n",
    "from nltk.tokenize import word_tokenize \n",
    "import re"
   ]
  },
  {
   "cell_type": "code",
   "execution_count": 8,
   "metadata": {},
   "outputs": [],
   "source": [
    "df = data[data['text'].notna()]"
   ]
  },
  {
   "cell_type": "code",
   "execution_count": 9,
   "metadata": {},
   "outputs": [],
   "source": [
    "Text = pd.concat([df['type'], df['text']], axis=1, keys=['Division', 'Description'])"
   ]
  },
  {
   "cell_type": "code",
   "execution_count": 10,
   "metadata": {},
   "outputs": [],
   "source": [
    "# Text.head()"
   ]
  },
  {
   "cell_type": "code",
   "execution_count": 11,
   "metadata": {},
   "outputs": [],
   "source": [
    "# Text.shape"
   ]
  },
  {
   "cell_type": "code",
   "execution_count": 153,
   "metadata": {},
   "outputs": [
    {
     "data": {
      "text/plain": [
       "(333, 7)"
      ]
     },
     "execution_count": 153,
     "metadata": {},
     "output_type": "execute_result"
    }
   ],
   "source": [
    "Text = Text.dropna()\n",
    "Text.shape"
   ]
  },
  {
   "cell_type": "markdown",
   "metadata": {},
   "source": [
    "### Remove Stop Words"
   ]
  },
  {
   "cell_type": "code",
   "execution_count": 13,
   "metadata": {},
   "outputs": [
    {
     "name": "stderr",
     "output_type": "stream",
     "text": [
      "[nltk_data] Downloading package stopwords to C:\\Users\\Sravya\n",
      "[nltk_data]     Bhaskara\\AppData\\Roaming\\nltk_data...\n",
      "[nltk_data]   Package stopwords is already up-to-date!\n"
     ]
    }
   ],
   "source": [
    "from nltk.corpus import stopwords\n",
    "\n",
    "# You will have to download the set of stop words the first time\n",
    "import nltk\n",
    "nltk.download('stopwords')\n",
    "stop_words = stopwords.words('english')\n",
    "\n",
    "\n",
    "def remove_stopwords(documents):\n",
    "    x = []\n",
    "    for line in documents:\n",
    "        l = line.split()\n",
    "        cleaned = [word for word in l if word not in stop_words]\n",
    "        s = \" \"\n",
    "        s = s.join(cleaned)\n",
    "        x.append(s)\n",
    "    return x\n",
    "\n",
    "\n",
    "x = remove_stopwords(Text['Description'])\n",
    "Text['removed_stopword'] = x"
   ]
  },
  {
   "cell_type": "code",
   "execution_count": 14,
   "metadata": {},
   "outputs": [],
   "source": [
    "# Text.head()"
   ]
  },
  {
   "cell_type": "markdown",
   "metadata": {},
   "source": [
    "### Remove Punctuation"
   ]
  },
  {
   "cell_type": "code",
   "execution_count": 15,
   "metadata": {},
   "outputs": [],
   "source": [
    "def Punctuation(string): \n",
    "  \n",
    "    # punctuation marks \n",
    "    punctuations = '''!()-[]{};:'\"\\,<>./?@#$%^&*_~'''\n",
    "#     print(string)\n",
    "    for x in string: \n",
    "        if x in punctuations: \n",
    "            string = string.replace(x, \"\") \n",
    "    return string\n",
    "\n",
    "u = []\n",
    "for line in Text['removed_stopword']:\n",
    "    x = Punctuation(line)\n",
    "    u.append(x)\n",
    "    \n",
    "Text['removed_punctuation'] = u"
   ]
  },
  {
   "cell_type": "code",
   "execution_count": 16,
   "metadata": {},
   "outputs": [],
   "source": [
    "# Text.head()"
   ]
  },
  {
   "cell_type": "markdown",
   "metadata": {},
   "source": [
    "### Stemming"
   ]
  },
  {
   "cell_type": "code",
   "execution_count": 17,
   "metadata": {},
   "outputs": [],
   "source": [
    "from nltk.stem import PorterStemmer\n",
    "porter = PorterStemmer()\n",
    "def stemmer(stringlist):\n",
    "    s = \" \"\n",
    "    for word in stringlist:\n",
    "        s = s + porter.stem(word) + \" \"\n",
    "    return s\n",
    "\n",
    "s = []\n",
    "for line in Text['removed_punctuation']:\n",
    "    l = line.split(\" \")\n",
    "    x = stemmer(l)\n",
    "    s.append(x)\n",
    "    \n",
    "Text['Updated'] = s"
   ]
  },
  {
   "cell_type": "code",
   "execution_count": 18,
   "metadata": {},
   "outputs": [
    {
     "data": {
      "text/html": [
       "<div>\n",
       "<style scoped>\n",
       "    .dataframe tbody tr th:only-of-type {\n",
       "        vertical-align: middle;\n",
       "    }\n",
       "\n",
       "    .dataframe tbody tr th {\n",
       "        vertical-align: top;\n",
       "    }\n",
       "\n",
       "    .dataframe thead th {\n",
       "        text-align: right;\n",
       "    }\n",
       "</style>\n",
       "<table border=\"1\" class=\"dataframe\">\n",
       "  <thead>\n",
       "    <tr style=\"text-align: right;\">\n",
       "      <th></th>\n",
       "      <th>Division</th>\n",
       "      <th>Description</th>\n",
       "      <th>removed_stopword</th>\n",
       "      <th>removed_punctuation</th>\n",
       "      <th>Updated</th>\n",
       "    </tr>\n",
       "  </thead>\n",
       "  <tbody>\n",
       "    <tr>\n",
       "      <th>0</th>\n",
       "      <td>sports</td>\n",
       "      <td>@ACNI2012 @TheToka920 Never knew having 1 or 2...</td>\n",
       "      <td>@ACNI2012 @TheToka920 Never knew 1 2 followers...</td>\n",
       "      <td>ACNI2012 TheToka920 Never knew 1 2 followers a...</td>\n",
       "      <td>acni2012 thetoka920 never knew 1 2 follow any...</td>\n",
       "    </tr>\n",
       "    <tr>\n",
       "      <th>1</th>\n",
       "      <td>sports</td>\n",
       "      <td>MYCA Magical Moments:\\n\\nSeptember, 2011: Sham...</td>\n",
       "      <td>MYCA Magical Moments: September, 2011: Sham Ch...</td>\n",
       "      <td>MYCA Magical Moments September 2011 Sham Choto...</td>\n",
       "      <td>myca magic moment septemb 2011 sham chotoo bo...</td>\n",
       "    </tr>\n",
       "    <tr>\n",
       "      <th>2</th>\n",
       "      <td>sports</td>\n",
       "      <td>The current state of last year's @BBL finalist...</td>\n",
       "      <td>The current state last year's @BBL finalists -...</td>\n",
       "      <td>The current state last years BBL finalists  St...</td>\n",
       "      <td>the current state last year bbl finalist  sta...</td>\n",
       "    </tr>\n",
       "    <tr>\n",
       "      <th>3</th>\n",
       "      <td>sports</td>\n",
       "      <td>@HOLLYJISOO Why did you bring a cricket...</td>\n",
       "      <td>@HOLLYJISOO Why bring cricket...</td>\n",
       "      <td>HOLLYJISOO Why bring cricket</td>\n",
       "      <td>hollyjisoo whi bring cricket</td>\n",
       "    </tr>\n",
       "    <tr>\n",
       "      <th>4</th>\n",
       "      <td>sports</td>\n",
       "      <td>Babar Azam only Pakistani included in the ICC ...</td>\n",
       "      <td>Babar Azam Pakistani included ICC ODI team yea...</td>\n",
       "      <td>Babar Azam Pakistani included ICC ODI team yea...</td>\n",
       "      <td>babar azam pakistani includ icc odi team year...</td>\n",
       "    </tr>\n",
       "  </tbody>\n",
       "</table>\n",
       "</div>"
      ],
      "text/plain": [
       "  Division                                        Description  \\\n",
       "0   sports  @ACNI2012 @TheToka920 Never knew having 1 or 2...   \n",
       "1   sports  MYCA Magical Moments:\\n\\nSeptember, 2011: Sham...   \n",
       "2   sports  The current state of last year's @BBL finalist...   \n",
       "3   sports         @HOLLYJISOO Why did you bring a cricket...   \n",
       "4   sports  Babar Azam only Pakistani included in the ICC ...   \n",
       "\n",
       "                                    removed_stopword  \\\n",
       "0  @ACNI2012 @TheToka920 Never knew 1 2 followers...   \n",
       "1  MYCA Magical Moments: September, 2011: Sham Ch...   \n",
       "2  The current state last year's @BBL finalists -...   \n",
       "3                   @HOLLYJISOO Why bring cricket...   \n",
       "4  Babar Azam Pakistani included ICC ODI team yea...   \n",
       "\n",
       "                                 removed_punctuation  \\\n",
       "0  ACNI2012 TheToka920 Never knew 1 2 followers a...   \n",
       "1  MYCA Magical Moments September 2011 Sham Choto...   \n",
       "2  The current state last years BBL finalists  St...   \n",
       "3                       HOLLYJISOO Why bring cricket   \n",
       "4  Babar Azam Pakistani included ICC ODI team yea...   \n",
       "\n",
       "                                             Updated  \n",
       "0   acni2012 thetoka920 never knew 1 2 follow any...  \n",
       "1   myca magic moment septemb 2011 sham chotoo bo...  \n",
       "2   the current state last year bbl finalist  sta...  \n",
       "3                      hollyjisoo whi bring cricket   \n",
       "4   babar azam pakistani includ icc odi team year...  "
      ]
     },
     "execution_count": 18,
     "metadata": {},
     "output_type": "execute_result"
    }
   ],
   "source": [
    "Text.head()"
   ]
  },
  {
   "cell_type": "code",
   "execution_count": 19,
   "metadata": {
    "scrolled": false
   },
   "outputs": [],
   "source": [
    "# print the text data of all the documents (rows)\n",
    "\n",
    "# for t in Text['Updated']:\n",
    "#     print(t)"
   ]
  },
  {
   "cell_type": "code",
   "execution_count": 20,
   "metadata": {},
   "outputs": [
    {
     "name": "stdout",
     "output_type": "stream",
     "text": [
      "The dataset has the following shape after removing stop words, punctuation and applying stemming.\n"
     ]
    },
    {
     "data": {
      "text/plain": [
       "(333, 5)"
      ]
     },
     "execution_count": 20,
     "metadata": {},
     "output_type": "execute_result"
    }
   ],
   "source": [
    "\n",
    "print(\"The dataset has the following shape after removing stop words, punctuation and applying stemming.\")\n",
    "Text.shape"
   ]
  },
  {
   "cell_type": "markdown",
   "metadata": {},
   "source": [
    "<!-- ### TF - IDF -->"
   ]
  },
  {
   "cell_type": "code",
   "execution_count": 21,
   "metadata": {},
   "outputs": [],
   "source": [
    "# from sklearn.feature_extraction.text import TfidfVectorizer\n",
    "\n",
    "# tfidf = TfidfVectorizer()\n",
    "# tfidf.fit(Text['Updated'])\n",
    "# feature_names = tfidf.get_feature_names()\n",
    "# # prints all the words in the documents\n",
    "# # print(feature_names)\n",
    "# print(\"Number of feature names \",len(feature_names))\n",
    "# print(\"\\n\")\n",
    "# def get_tfidf_for_words(text):\n",
    "#     tfidf_matrix= tfidf.transform([text]).todense()\n",
    "#     feature_index = tfidf_matrix[0,:].nonzero()[1]\n",
    "#     tfidf_scores = zip([feature_names[i] for i in feature_index], [tfidf_matrix[0, x] for x in feature_index])\n",
    "#     return dict(tfidf_scores)\n",
    "\n",
    "# # Call the function to get word with tf-idf score\n",
    "# for text in Text['Updated']:\n",
    "#     text = str(text)\n",
    "#     print(get_tfidf_for_words(text))\n",
    "    "
   ]
  },
  {
   "cell_type": "code",
   "execution_count": 22,
   "metadata": {},
   "outputs": [],
   "source": [
    "# #prints tf-idf matrix where the rows are the number of documents and columns are the feature words (all the words in documents)\n",
    "# # The matrix element is the score of the word in particular document.\n",
    "# def tfidf_matrix():\n",
    "#     tfidf_matrix = tfidf.fit_transform(Text['Updated'])\n",
    "#     tfidf_matrix = pd.DataFrame(tfidf_matrix.toarray(), columns = tfidf.get_feature_names())\n",
    "#     print(\"Size of the Matrix\", tfidf_matrix.shape)\n",
    "#     print(tfidf_matrix)\n",
    "    \n",
    "    \n",
    "# tfidf_matrix()"
   ]
  },
  {
   "cell_type": "markdown",
   "metadata": {},
   "source": [
    "# 1.  Word2Vec"
   ]
  },
  {
   "cell_type": "code",
   "execution_count": 23,
   "metadata": {},
   "outputs": [],
   "source": [
    "data = Text['Updated'].to_list()\n",
    "datanew = []\n",
    "\n",
    "# Converts the dataframe to list and has words in the form of array of lists\n",
    "for d in data:\n",
    "    datanew.append(d.split())\n",
    "    \n",
    "# datanew"
   ]
  },
  {
   "cell_type": "code",
   "execution_count": 24,
   "metadata": {},
   "outputs": [],
   "source": [
    "from nltk.tokenize import sent_tokenize, word_tokenize \n",
    "import warnings  \n",
    "warnings.filterwarnings(action = 'ignore') \n",
    "import gensim \n",
    "from gensim.models import Word2Vec \n",
    "from gensim.test.utils import common_texts\n",
    "from gensim.sklearn_api import W2VTransformer\n",
    "from gensim.models import phrases, word2vec\n",
    "from gensim.test.utils import common_texts\n",
    "from gensim.models import Word2Vec\n",
    "import pandas as pd\n",
    "import numpy as np\n",
    "\n",
    "from scipy.spatial.distance import cdist\n"
   ]
  },
  {
   "cell_type": "markdown",
   "metadata": {},
   "source": [
    "### Set the hyperparameters"
   ]
  },
  {
   "cell_type": "code",
   "execution_count": 25,
   "metadata": {},
   "outputs": [],
   "source": [
    "from nltk.cluster.kmeans import KMeansClusterer\n",
    "from sklearn.cluster import KMeans\n",
    "\n",
    "def vectorizer(sent, model):\n",
    "    vec = []\n",
    "    numw = 0\n",
    "    for w in sent:\n",
    "        try:\n",
    "            if numw == 0:\n",
    "                vec = model[w]\n",
    "            else:\n",
    "                vec = np.add(vec, m[w])\n",
    "            numw += 1\n",
    "        except:\n",
    "            pass\n",
    "    return np.asarray(vec) / numw\n",
    "\n",
    "def hyperparametersW(): \n",
    "    bigrams = phrases.Phrases(datanew)\n",
    "    params = []\n",
    "    distortions = []\n",
    "\n",
    "    # model = Word2Vec(datanew, size=10, window=4, workers=4)\n",
    "    \n",
    "    for p in range(1, 6):\n",
    "#         for p in range(1, 5):\n",
    "#             print(\"for dimension: \",n, \" For window size\", p)\n",
    "        model1 = Word2Vec(datanew, size=50, window=p, min_count=2, workers=4)\n",
    "        word_vectors = model1.wv   \n",
    "        l = []\n",
    "        for i in datanew:\n",
    "            l.append(vectorizer(i, model1))\n",
    "\n",
    "        word2vec_vectors = pd.DataFrame([l[0]])\n",
    "        for i in range(1, len(l)):\n",
    "            additional_row = pd.DataFrame([l[i]])\n",
    "            word2vec_vectors = word2vec_vectors.append(additional_row)\n",
    "\n",
    "#             print(word2vec_vectors.shape)\n",
    "        # print(word2vec_vectors)\n",
    "        # np.where(word2vec_vectors.values >= np.finfo(np.float64).max)\n",
    "        word2vec_vectors[word2vec_vectors==np.inf]=np.nan\n",
    "        word2vec_vectors.fillna(word2vec_vectors.mean(), inplace=True)\n",
    "\n",
    "        params.append(p)\n",
    "        no = 4\n",
    "        kmeans = KMeans (n_clusters = no,\n",
    "                        max_iter = 100,\n",
    "                        init = 'k-means++',\n",
    "                        n_init = 1)\n",
    "\n",
    "        K_labels = kmeans.fit_predict(word2vec_vectors)\n",
    "        distortions.append(sum(np.min(cdist(word2vec_vectors, kmeans.cluster_centers_, 'euclidean'), axis=1)) / word2vec_vectors.shape[0])\n",
    "\n",
    "\n",
    "#             clusterReport(word2vec_vectors, K_labels)\n",
    "#             print(\"\\n\")\n",
    "    return params, distortions\n",
    "\n",
    "def hyperparametersD(): \n",
    "    bigrams = phrases.Phrases(datanew)\n",
    "    params = []\n",
    "    distortions = []\n",
    "\n",
    "    # model = Word2Vec(datanew, size=10, window=4, workers=4)\n",
    "    \n",
    "    for n in range(10, 101, 10):\n",
    "#         for p in range(1, 5):\n",
    "#             print(\"for dimension: \",n, \" For window size\", p)\n",
    "        model1 = Word2Vec(datanew, size=n, window=5, min_count=2, workers=4)\n",
    "        word_vectors = model1.wv   \n",
    "        l = []\n",
    "        for i in datanew:\n",
    "            l.append(vectorizer(i, model1))\n",
    "\n",
    "        word2vec_vectors = pd.DataFrame([l[0]])\n",
    "        for i in range(1, len(l)):\n",
    "            additional_row = pd.DataFrame([l[i]])\n",
    "            word2vec_vectors = word2vec_vectors.append(additional_row)\n",
    "\n",
    "#             print(word2vec_vectors.shape)\n",
    "        # print(word2vec_vectors)\n",
    "        # np.where(word2vec_vectors.values >= np.finfo(np.float64).max)\n",
    "        word2vec_vectors[word2vec_vectors==np.inf]=np.nan\n",
    "        word2vec_vectors.fillna(word2vec_vectors.mean(), inplace=True)\n",
    "\n",
    "        params.append(n)\n",
    "        no = 4\n",
    "        kmeans = KMeans (n_clusters = no,\n",
    "                        max_iter = 100,\n",
    "                        init = 'k-means++',\n",
    "                        n_init = 1)\n",
    "\n",
    "        K_labels = kmeans.fit_predict(word2vec_vectors)\n",
    "        distortions.append(sum(np.min(cdist(word2vec_vectors, kmeans.cluster_centers_, 'euclidean'), axis=1)) / word2vec_vectors.shape[0])\n",
    "\n",
    "\n",
    "#             clusterReport(word2vec_vectors, K_labels)\n",
    "#             print(\"\\n\")\n",
    "    return params, distortions\n",
    "\n",
    "    \n",
    "#     counting_pair_measures(K_labels, H_labels)\n",
    "    "
   ]
  },
  {
   "cell_type": "code",
   "execution_count": 26,
   "metadata": {},
   "outputs": [],
   "source": [
    "params_dimension , distortion_dimension = hyperparametersD()"
   ]
  },
  {
   "cell_type": "code",
   "execution_count": 27,
   "metadata": {},
   "outputs": [],
   "source": [
    "params_window , distortion_window = hyperparametersW()"
   ]
  },
  {
   "cell_type": "code",
   "execution_count": 28,
   "metadata": {},
   "outputs": [],
   "source": [
    "# distortion_dimension\n",
    "# [distortion_dimension[i - 1] - x for i, x in enumerate(distortion_dimension)][1:]"
   ]
  },
  {
   "cell_type": "code",
   "execution_count": 29,
   "metadata": {},
   "outputs": [],
   "source": [
    "# params_dimension"
   ]
  },
  {
   "cell_type": "code",
   "execution_count": 30,
   "metadata": {},
   "outputs": [],
   "source": [
    "# distortion_window"
   ]
  },
  {
   "cell_type": "code",
   "execution_count": 31,
   "metadata": {},
   "outputs": [
    {
     "data": {
      "image/png": "[encoded data removed]",
      "text/plain": [
       "<Figure size 432x288 with 1 Axes>"
      ]
     },
     "metadata": {
      "needs_background": "light"
     },
     "output_type": "display_data"
    }
   ],
   "source": [
    "import matplotlib.pyplot as plt\n",
    "\n",
    "plt.plot(params_dimension, distortion_dimension, 'bx-')\n",
    "plt.xlabel('parameters - dimension size')\n",
    "plt.ylabel('Distortion')\n",
    "plt.title('The Elbow Method showing the optimal parameters for dimension')\n",
    "plt.show()"
   ]
  },
  {
   "cell_type": "code",
   "execution_count": 32,
   "metadata": {},
   "outputs": [
    {
     "data": {
      "image/png": "[encoded data removed]",
      "text/plain": [
       "<Figure size 432x288 with 1 Axes>"
      ]
     },
     "metadata": {
      "needs_background": "light"
     },
     "output_type": "display_data"
    }
   ],
   "source": [
    "plt.plot(params_window, distortion_window, 'bx-')\n",
    "plt.xlabel('parameters - window size')\n",
    "plt.ylabel('Distortion')\n",
    "plt.title('The Elbow Method showing the optimal parameters for window size')\n",
    "plt.show()"
   ]
  },
  {
   "cell_type": "markdown",
   "metadata": {},
   "source": [
    "The parameters choses are:\n",
    " 60 for dimension size and\n",
    " 5 for window size.\n",
    " \n",
    "The word2vector model is built using four different methods.\n",
    "1. Word2vector using bigrams\n",
    "2. Word2vector using bigrams and PCA\n",
    "3. Word2vector using TFIDF\n",
    "4. Word2vector using TFIDF and PCA\n",
    "\n",
    "The word2vector model returns the vectors which are used for clustering "
   ]
  },
  {
   "cell_type": "code",
   "execution_count": 33,
   "metadata": {},
   "outputs": [],
   "source": [
    "# Word2Vector with bigrams\n",
    "\n",
    "# Function vectorizer takes the word2vec model and \n",
    "# returns the vectorized value of a particular word in the each document\n",
    "def vectorizer(sent, model):\n",
    "    vec = []\n",
    "    numw = 0\n",
    "    for w in sent:\n",
    "        try:\n",
    "            if numw == 0:\n",
    "                vec = model[w]\n",
    "            else:\n",
    "                vec = np.add(vec, m[w])\n",
    "            numw += 1\n",
    "        except:\n",
    "            pass\n",
    "    return np.asarray(vec) / numw\n",
    "    \n",
    "\n",
    "# The word2vec model is returned by taking bigrams of the whole document\n",
    "def word2vec_bigram():\n",
    "    bigrams = phrases.Phrases(datanew)\n",
    "    # model = Word2Vec(datanew, size=100, window= 5, min_count=2, workers=4)\n",
    "    w2v_bigram_model = Word2Vec(bigrams[datanew], size=60, window= 5, min_count=2, workers=4)\n",
    "    word_vectors = w2v_bigram_model.wv\n",
    "    index2word = w2v_bigram_model.wv.index2word\n",
    "    # print (w2v_bigram_model.similarity('Skin', 'HIV'))\n",
    "    # print(w2v_bigram_model.most_similar([\"Connective\"]))\n",
    "    word_vectors = w2v_bigram_model.wv\n",
    "    return w2v_bigram_model\n",
    "\n",
    "\n",
    "\n",
    "l = []\n",
    "w2v_bigram_model = word2vec_bigram()\n",
    "for i in datanew:\n",
    "    l.append(vectorizer(i, w2v_bigram_model))\n",
    "    \n",
    "word2vec_vectors = []\n",
    "\n",
    "# The vectors are in dimension of 100 for all the given documents\n",
    "\n",
    "# print(len(l))\n",
    "# print(l[0])\n",
    "word2vec_vectors = pd.DataFrame([l[0]])\n",
    "\n",
    "for i in range(1, len(l)):\n",
    "    additional_row = pd.DataFrame([l[i]])\n",
    "#     print(additional_row)\n",
    "    word2vec_vectors = word2vec_vectors.append(additional_row)\n",
    "    \n",
    "# print(word2vec_vectors.shape)\n",
    "# print(word2vec_vectors)\n",
    "# np.where(word2vec_vectors.values >= np.finfo(np.float64).max)\n",
    "word2vec_vectors[word2vec_vectors==np.inf]=np.nan\n",
    "word2vec_vectors.fillna(word2vec_vectors.mean(), inplace=True)"
   ]
  },
  {
   "cell_type": "code",
   "execution_count": 34,
   "metadata": {},
   "outputs": [],
   "source": [
    "# Word2vec with bigrams and pca\n",
    "\n",
    "from sklearn.decomposition import PCA\n",
    "\n",
    "# takes 100 D vectors and returns reduced 2D component for each doc.\n",
    "def pca(vectors):\n",
    "    pca = PCA(n_components=2)\n",
    "    principalComponents = pca.fit_transform(vectors)\n",
    "    word2vec_vectors_pca = pd.DataFrame(data = principalComponents\n",
    "                 , columns = ['0', '1'])\n",
    "    return word2vec_vectors_pca\n",
    "\n",
    "word2vec_vectors_pca = pca(word2vec_vectors)\n",
    "# word2vec_vectors_pca"
   ]
  },
  {
   "cell_type": "code",
   "execution_count": 35,
   "metadata": {},
   "outputs": [],
   "source": [
    "# def w2v_avg():\n",
    "#     w2v_avg_model = Word2Vec(datanew, min_count=5, size= 100, workers = 4)\n",
    "#     w2v_words = list(w2v_avg_model.wv.vocab)\n",
    "#     sent_vectors = []\n",
    "#     for sent in datanew:\n",
    "#         sent_vec = np.zeros(100)\n",
    "#         cnt_words = 0\n",
    "#         for word in sent:\n",
    "#             if word in w2v_words:\n",
    "#                 vec = w2v_avg_model.wv[word]\n",
    "#                 sent_vec += vec\n",
    "#                 cnt_words += 1\n",
    "#         if cnt_words != 0:\n",
    "#             sent_vec /= cnt_words\n",
    "#         sent_vectors.append(sent_vec)\n",
    "#     return sent_vectors"
   ]
  },
  {
   "cell_type": "code",
   "execution_count": 36,
   "metadata": {},
   "outputs": [],
   "source": [
    "# sent_vectors = w2v_avg()\n",
    "# word2vec_vectors_avg = np.array(sent_vectors)\n",
    "# word2vec_vectors_avg"
   ]
  },
  {
   "cell_type": "code",
   "execution_count": 37,
   "metadata": {},
   "outputs": [],
   "source": [
    "# word2vec_vectors_avg.shape"
   ]
  },
  {
   "cell_type": "code",
   "execution_count": 38,
   "metadata": {},
   "outputs": [],
   "source": [
    "# Word2vec with bigrams and tfidf''\n",
    "\n",
    "\n",
    "from sklearn.feature_extraction.text import TfidfVectorizer\n",
    "def w2v_tfidf():\n",
    "    model = TfidfVectorizer()\n",
    "    model.fit(Text['Updated'])\n",
    "    dictionary = dict(zip(model.get_feature_names(), list(model.idf_)))\n",
    "    tfidf_feat = model.get_feature_names()\n",
    "    \n",
    "    w2v_tfidf_model = Word2Vec(datanew, min_count=5, size= 100, workers = 4)\n",
    "    w2v_words = list(w2v_tfidf_model.wv.vocab)\n",
    "\n",
    "\n",
    "    tfidf_sent_vectors = []\n",
    "    row= 0\n",
    "    for sent in datanew:\n",
    "        sent_vec = np.zeros(100)\n",
    "        weight_sum = 0\n",
    "        for word in sent:\n",
    "            if word in w2v_words and word in tfidf_feat:\n",
    "                vec = w2v_tfidf_model.wv[word]\n",
    "                tf_idf = dictionary[word] * (sent.count(word)/len(sent))\n",
    "\n",
    "                sent_vec += (vec * tf_idf)\n",
    "                weight_sum += tf_idf\n",
    "        if weight_sum != 0:\n",
    "            sent_vec /= weight_sum\n",
    "        tfidf_sent_vectors.append(sent_vec)\n",
    "        row += 1\n",
    "    return tfidf_sent_vectors"
   ]
  },
  {
   "cell_type": "code",
   "execution_count": 39,
   "metadata": {},
   "outputs": [],
   "source": [
    "tfidf_sent_vectors = w2v_tfidf()\n",
    "word2vec_vectors_tfidf = np.array(tfidf_sent_vectors)\n",
    "# word2vec_vectors_tfidf"
   ]
  },
  {
   "cell_type": "code",
   "execution_count": 40,
   "metadata": {},
   "outputs": [],
   "source": [
    "# word2vec_vectors_tfidf.shape"
   ]
  },
  {
   "cell_type": "code",
   "execution_count": 41,
   "metadata": {},
   "outputs": [],
   "source": [
    "# Word2vec with bigrams and tfidf and pca\n",
    "\n",
    "word2vec_vectors_tfidf_pca = pca(word2vec_vectors_tfidf)\n",
    "# word2vec_vectors_tfidf_pca"
   ]
  },
  {
   "cell_type": "code",
   "execution_count": null,
   "metadata": {},
   "outputs": [],
   "source": []
  },
  {
   "cell_type": "markdown",
   "metadata": {},
   "source": [
    "# Clustering"
   ]
  },
  {
   "cell_type": "code",
   "execution_count": 42,
   "metadata": {},
   "outputs": [],
   "source": [
    "# Grid Search CV"
   ]
  },
  {
   "cell_type": "code",
   "execution_count": 43,
   "metadata": {},
   "outputs": [],
   "source": [
    "# from sklearn.model_selection import GridSearchCV\n",
    "# from nltk.cluster.kmeans import KMeansClusterer\n",
    "# from sklearn.cluster import KMeans\n",
    "# kmeans = KMeans ()\n",
    "# param_grid = {'n_clusters': [4, 5, 6, 7]}\n",
    "# grid = GridSearchCV(kmeans, param_grid)\n",
    "# grid.fit(word2vec_vectors)\n",
    "    "
   ]
  },
  {
   "cell_type": "code",
   "execution_count": 44,
   "metadata": {},
   "outputs": [],
   "source": [
    "# grid.cv_results_"
   ]
  },
  {
   "cell_type": "code",
   "execution_count": 45,
   "metadata": {},
   "outputs": [],
   "source": [
    "# grid.best_estimator_"
   ]
  },
  {
   "cell_type": "code",
   "execution_count": 46,
   "metadata": {},
   "outputs": [],
   "source": [
    "# grid.best_score_"
   ]
  },
  {
   "cell_type": "code",
   "execution_count": 47,
   "metadata": {},
   "outputs": [],
   "source": [
    "# def kmeans_euclidean(df, n):\n",
    "#     X = df\n",
    "#     number = n\n",
    "#     kmeans = KMeans (n_clusters = number,\n",
    "#                     max_iter = 100,\n",
    "#                     init = 'k-means++',\n",
    "#                     n_init = 1)\n",
    "#     euclidean_labels = kmeans.fit_predict(X)\n",
    "#     print(euclidean_labels)\n",
    "#     return kmeans, euclidean_labels"
   ]
  },
  {
   "cell_type": "code",
   "execution_count": 48,
   "metadata": {},
   "outputs": [],
   "source": [
    "# The grid searach gives the best estimator with the cluster size of 7"
   ]
  },
  {
   "cell_type": "code",
   "execution_count": 49,
   "metadata": {},
   "outputs": [],
   "source": [
    "# Word2vec - Kmeans clustering with euclidean distance and cosine distance\n",
    "# w2v_cosine_model, w2v_cosine_labels = kmeans_cosine(word2vec_vectors, 4)\n",
    "# w2v_euclidean_model, w2v_euclidean_labels = kmeans_euclidean(word2vec_vectors, 4)"
   ]
  },
  {
   "cell_type": "code",
   "execution_count": 50,
   "metadata": {},
   "outputs": [],
   "source": [
    "# model = {0:'Food', 1:'Animal', 2:'Shop', 3:'Figure out'}"
   ]
  },
  {
   "cell_type": "code",
   "execution_count": 51,
   "metadata": {},
   "outputs": [],
   "source": [
    "# zippedList =  list(zip(w2v_euclidean_labels, Text['Updated']))\n",
    "# clusters = pd.DataFrame(zippedList, columns = ['label', 'Text'])\n",
    "# # clusters['Title'] = clusters['label'].map(model)\n",
    "# clusters.head(100)\n"
   ]
  },
  {
   "cell_type": "code",
   "execution_count": 52,
   "metadata": {},
   "outputs": [],
   "source": [
    "# import matplotlib.pyplot as plt\n",
    "# import seaborn as sns; sns.set()  # for plot styling\n",
    "\n",
    "# plt.figure(figsize=(15,9))\n",
    "# sns.countplot(x = 'label', data = clusters)"
   ]
  },
  {
   "cell_type": "code",
   "execution_count": 53,
   "metadata": {},
   "outputs": [],
   "source": [
    "# Visulaization"
   ]
  },
  {
   "cell_type": "code",
   "execution_count": 54,
   "metadata": {},
   "outputs": [],
   "source": [
    "import matplotlib.pyplot as plt\n",
    "import seaborn as sns; sns.set()  # for plot styling\n",
    "\n",
    "from matplotlib import pyplot as plt\n",
    "import numpy as np\n",
    "from collections import Counter\n",
    "\n",
    "\n",
    "def pie_chart(labels):\n",
    "    \n",
    "    clusters = Counter(labels).keys() # equals to list(set(words))\n",
    "    count = Counter(labels).values() # counts the elements' frequency\n",
    "    \n",
    "    list_of_tuples = list(zip(clusters, count))   \n",
    "    df = pd.DataFrame(list_of_tuples, columns = ['Cluster', 'Count']) \n",
    "    print(df)\n",
    "    \n",
    "    fig = plt.figure()\n",
    "    ax = fig.add_axes([0,0,1,1])\n",
    "    ax.axis('equal')\n",
    "    ax.pie(count, labels = clusters,autopct='%1.2f%%')\n",
    "    plt.show()\n",
    "    \n"
   ]
  },
  {
   "cell_type": "code",
   "execution_count": 55,
   "metadata": {},
   "outputs": [],
   "source": [
    "th_props = [\n",
    "  ('font-size', '11px'),\n",
    "  ('text-align', 'center'),\n",
    "  ('font-weight', 'bold'),\n",
    "  ('color', '#6d6d6d'),\n",
    "  ('background-color', '#f7f7f9')\n",
    "  ]\n",
    "\n",
    "# Set CSS properties for td elements in dataframe\n",
    "td_props = [\n",
    "  ('font-size', '11px')\n",
    "  ]\n",
    "\n",
    "styles = [\n",
    "  dict(selector=\"th\", props=th_props),\n",
    "  dict(selector=\"td\", props=td_props)\n",
    "  ]\n"
   ]
  },
  {
   "cell_type": "markdown",
   "metadata": {},
   "source": [
    "Two types of clustering methods are used.\n",
    "1. kmeans\n",
    "2. hierarcheal"
   ]
  },
  {
   "cell_type": "markdown",
   "metadata": {},
   "source": [
    "### K Means Clusters"
   ]
  },
  {
   "cell_type": "code",
   "execution_count": 56,
   "metadata": {},
   "outputs": [],
   "source": [
    "from nltk.cluster.kmeans import KMeansClusterer\n",
    "from sklearn.cluster import KMeans\n",
    "\n",
    "def kmeans_cosine(df, n):\n",
    "    cluster_size = n\n",
    "    kclusterer = KMeansClusterer(cluster_size, distance=nltk.cluster.util.cosine_distance, avoid_empty_clusters = True)\n",
    "    cosine_clusters = kclusterer.cluster(df, assign_clusters=True)\n",
    "    print(cosine_clusters)\n",
    "    return kclusterer, cosine_clusters\n",
    "\n",
    "# -------------------------------------------------------------\n",
    "\n",
    "def kmeans_euclidean(df, n):\n",
    "    X = df\n",
    "    number = n\n",
    "    kmeans = KMeans (n_clusters = number,\n",
    "                    max_iter = 100,\n",
    "                    init = 'k-means++',\n",
    "                    n_init = 1)\n",
    "    euclidean_labels = kmeans.fit_predict(X)\n",
    "#     print(euclidean_labels)\n",
    "    return kmeans, euclidean_labels\n",
    "#     kmeans.cluster_centers_\n",
    "#     kmeans.inertia_\n",
    "#     kmeans.cluster_centers_.shape\n",
    "    # The result is 4 clusters in 100 dimensions. \n",
    "    # Notice that the cluster centers themselves are 100-dimensional points, \n",
    "    # and can themselves be interpreted as the \"typical\" document within the cluster\n",
    "    # kmeansCluster = kmeans.fit(X)\n",
    "    # kmeansCluster\n",
    "    # cluster_distance = kmeans.fit_transform(X)\n",
    "    # cluster_distance\n",
    "    # kmeans.get_params()\n",
    "    # kmeans.score(X)"
   ]
  },
  {
   "cell_type": "code",
   "execution_count": 57,
   "metadata": {},
   "outputs": [],
   "source": [
    "w2v_euclidean_model, w2v_euclidean_labels = kmeans_euclidean(word2vec_vectors, 4)\n",
    "w2vpca_euclidean_model, w2vpca_euclidean_labels = kmeans_euclidean(word2vec_vectors_pca, 4)\n",
    "w2vtfidf_euclidean_model, w2vtfidf_euclidean_labels = kmeans_euclidean(word2vec_vectors_tfidf, 4)\n",
    "w2v_tfidf_pca_euclidean_model, w2v_tfidf_pca_euclidean_labels = kmeans_euclidean(word2vec_vectors_tfidf_pca, 4)\n"
   ]
  },
  {
   "cell_type": "markdown",
   "metadata": {},
   "source": [
    "1. Word2vec - Kmeans clustering with euclidean distance"
   ]
  },
  {
   "cell_type": "code",
   "execution_count": 58,
   "metadata": {},
   "outputs": [
    {
     "name": "stdout",
     "output_type": "stream",
     "text": [
      "   Cluster  Count\n",
      "0        2    103\n",
      "1        1     28\n",
      "2        0    197\n",
      "3        3      5\n"
     ]
    },
    {
     "data": {
      "image/png": "[encoded data removed]",
      "text/plain": [
       "<Figure size 432x288 with 1 Axes>"
      ]
     },
     "metadata": {},
     "output_type": "display_data"
    }
   ],
   "source": [
    "# # w2vpca_cosine_model, w2vpca_cosine_labels =  kmeans_cosine(word2vec_vectors_pca, 4)\n",
    "pie_chart(w2v_euclidean_labels)"
   ]
  },
  {
   "cell_type": "markdown",
   "metadata": {},
   "source": [
    "2. Word2vec with pca - Kmeans clustering with euclidean distance"
   ]
  },
  {
   "cell_type": "code",
   "execution_count": 59,
   "metadata": {},
   "outputs": [
    {
     "name": "stdout",
     "output_type": "stream",
     "text": [
      "   Cluster  Count\n",
      "0        1     64\n",
      "1        2     19\n",
      "2        0    197\n",
      "3        3     53\n"
     ]
    },
    {
     "data": {
      "image/png": "[encoded data removed]",
      "text/plain": [
       "<Figure size 432x288 with 1 Axes>"
      ]
     },
     "metadata": {},
     "output_type": "display_data"
    }
   ],
   "source": [
    "# # w2vpca_cosine_model, w2vpca_cosine_labels =  kmeans_cosine(word2vec_vectors_pca, 4)\n",
    "pie_chart(w2vpca_euclidean_labels)"
   ]
  },
  {
   "cell_type": "markdown",
   "metadata": {},
   "source": [
    "3. Word2vec with tdidf - Kmeans clustering with euclidean distance"
   ]
  },
  {
   "cell_type": "code",
   "execution_count": 60,
   "metadata": {},
   "outputs": [
    {
     "name": "stdout",
     "output_type": "stream",
     "text": [
      "   Cluster  Count\n",
      "0        2    176\n",
      "1        3     89\n",
      "2        0     59\n",
      "3        1      9\n"
     ]
    },
    {
     "data": {
      "image/png": "[encoded data removed]",
      "text/plain": [
       "<Figure size 432x288 with 1 Axes>"
      ]
     },
     "metadata": {},
     "output_type": "display_data"
    }
   ],
   "source": [
    "pie_chart(w2vtfidf_euclidean_labels)"
   ]
  },
  {
   "cell_type": "markdown",
   "metadata": {},
   "source": [
    "4. Word2vec with tdidf and pca - Kmeans clustering with euclidean distance"
   ]
  },
  {
   "cell_type": "code",
   "execution_count": 61,
   "metadata": {},
   "outputs": [
    {
     "name": "stdout",
     "output_type": "stream",
     "text": [
      "   Cluster  Count\n",
      "0        3    201\n",
      "1        0     73\n",
      "2        2     52\n",
      "3        1      7\n"
     ]
    },
    {
     "data": {
      "image/png": "[encoded data removed]",
      "text/plain": [
       "<Figure size 432x288 with 1 Axes>"
      ]
     },
     "metadata": {},
     "output_type": "display_data"
    }
   ],
   "source": [
    "pie_chart(w2v_tfidf_pca_euclidean_labels)"
   ]
  },
  {
   "cell_type": "markdown",
   "metadata": {},
   "source": [
    "### Hierarchical Clusters"
   ]
  },
  {
   "cell_type": "code",
   "execution_count": 62,
   "metadata": {},
   "outputs": [],
   "source": [
    "from sklearn.cluster import AgglomerativeClustering\n",
    "\n",
    "def h_euclidean(X, n):\n",
    "    Hcluster_euclidean = AgglomerativeClustering(n_clusters=n, affinity='euclidean', linkage='ward')\n",
    "    Hlabel_euclidean = Hcluster_euclidean.fit_predict(X)\n",
    "    return Hcluster_euclidean, Hlabel_euclidean\n",
    "\n",
    "def h_manhattan(X, n):\n",
    "    Hcluster_manhattan = AgglomerativeClustering(n_clusters=n, affinity='manhattan', linkage = 'average')\n",
    "    Hlabel_manhattan = Hcluster_manhattan.fit_predict(X)\n",
    "    return Hcluster_manhattan, Hlabel_manhattan\n",
    "\n",
    "def h_cosine(X, n):\n",
    "    Hcluster_cosine = AgglomerativeClustering(n_clusters=n, affinity='cosine', linkage = 'single')\n",
    "    Hlabel_cosine = Hcluster_cosine.fit_predict(X)\n",
    "    return Hcluster_cosine, Hlabel_cosine"
   ]
  },
  {
   "cell_type": "code",
   "execution_count": 63,
   "metadata": {},
   "outputs": [],
   "source": [
    "# # Word2Vec with bigrams - Hierarcheal clustering\n",
    "\n",
    "# Hw2v_euclidean_model, Hw2v_euclidean_labels = h_euclidean(word2vec_vectors, 4)\n",
    "# Hw2v_manhattan_model, Hw2v_manhattan_labels = h_manhattan(word2vec_vectors, 4)\n",
    "# Hw2v_cosine_model, Hw2v_cosine_labels = h_cosine(word2vec_vectors, 4)\n",
    "\n",
    "# Hw2v_euclidean_labels"
   ]
  },
  {
   "cell_type": "code",
   "execution_count": 64,
   "metadata": {},
   "outputs": [],
   "source": [
    "Hw2v_euclidean_model, Hw2v_euclidean_labels = h_euclidean(word2vec_vectors, 4)\n",
    "Hw2v_pca_euclidean_model, Hw2v_pca_euclidean_labels = h_euclidean(word2vec_vectors_pca, 4)\n",
    "Hw2v_tfidf_euclidean_model, Hw2v_tfidf_euclidean_labels = h_euclidean(word2vec_vectors_tfidf, 4)\n",
    "Hw2v_tfidf_pca_euclidean_model, Hw2v_tfidf_pca_euclidean_labels = h_euclidean(word2vec_vectors_tfidf_pca, 4)"
   ]
  },
  {
   "cell_type": "markdown",
   "metadata": {},
   "source": [
    "1. Word2Vec - Hierarcheal Clustering with euclidean distance"
   ]
  },
  {
   "cell_type": "code",
   "execution_count": 65,
   "metadata": {},
   "outputs": [
    {
     "name": "stdout",
     "output_type": "stream",
     "text": [
      "   Cluster  Count\n",
      "0        2    118\n",
      "1        0     13\n",
      "2        1    197\n",
      "3        3      5\n"
     ]
    },
    {
     "data": {
      "image/png": "[encoded data removed]",
      "text/plain": [
       "<Figure size 432x288 with 1 Axes>"
      ]
     },
     "metadata": {},
     "output_type": "display_data"
    }
   ],
   "source": [
    "pie_chart(Hw2v_euclidean_labels)"
   ]
  },
  {
   "cell_type": "markdown",
   "metadata": {},
   "source": [
    "2. Word2Vec with PCA - Hierarcheal Clustering with euclidean distance"
   ]
  },
  {
   "cell_type": "code",
   "execution_count": 66,
   "metadata": {},
   "outputs": [
    {
     "name": "stdout",
     "output_type": "stream",
     "text": [
      "   Cluster  Count\n",
      "0        0     69\n",
      "1        1     49\n",
      "2        2     19\n",
      "3        3    196\n"
     ]
    },
    {
     "data": {
      "image/png": "[encoded data removed]",
      "text/plain": [
       "<Figure size 432x288 with 1 Axes>"
      ]
     },
     "metadata": {},
     "output_type": "display_data"
    }
   ],
   "source": [
    "pie_chart(Hw2v_pca_euclidean_labels)"
   ]
  },
  {
   "cell_type": "markdown",
   "metadata": {},
   "source": [
    "3. Word2Vec with tfidf - Hierarcheal Clustering with euclidean distance"
   ]
  },
  {
   "cell_type": "code",
   "execution_count": 67,
   "metadata": {},
   "outputs": [
    {
     "name": "stdout",
     "output_type": "stream",
     "text": [
      "   Cluster  Count\n",
      "0        0    311\n",
      "1        3      6\n",
      "2        2      9\n",
      "3        1      7\n"
     ]
    },
    {
     "data": {
      "image/png": "[encoded data removed]",
      "text/plain": [
       "<Figure size 432x288 with 1 Axes>"
      ]
     },
     "metadata": {},
     "output_type": "display_data"
    }
   ],
   "source": [
    "pie_chart(Hw2v_tfidf_euclidean_labels)"
   ]
  },
  {
   "cell_type": "markdown",
   "metadata": {},
   "source": [
    "4. Word2Vec with tfifd and pca - Hierarcheal Clustering with euclidean distance"
   ]
  },
  {
   "cell_type": "code",
   "execution_count": 68,
   "metadata": {},
   "outputs": [
    {
     "name": "stdout",
     "output_type": "stream",
     "text": [
      "   Cluster  Count\n",
      "0        0    270\n",
      "1        1     40\n",
      "2        2     16\n",
      "3        3      7\n"
     ]
    },
    {
     "data": {
      "image/png": "[encoded data removed]",
      "text/plain": [
       "<Figure size 432x288 with 1 Axes>"
      ]
     },
     "metadata": {},
     "output_type": "display_data"
    }
   ],
   "source": [
    "pie_chart(Hw2v_tfidf_pca_euclidean_labels)"
   ]
  },
  {
   "cell_type": "code",
   "execution_count": 69,
   "metadata": {},
   "outputs": [],
   "source": [
    "# Mapping"
   ]
  },
  {
   "cell_type": "code",
   "execution_count": 70,
   "metadata": {},
   "outputs": [],
   "source": [
    "# # If the clusters are formed with two clustering sizes, to look at the sub clusters:\n",
    "# # Returns a data frame\n",
    "# zippedList =  list(zip(main_label, sub_labels))\n",
    "# clusters = pd.DataFrame(zippedList, columns = ['Main Division', 'Sub Division'])\n",
    "\n",
    "\n",
    "\n",
    "# # Maps the main dic to sub dic in the form of a dictionary\n",
    "# MainDic = {}\n",
    "# for i in clusters['Main Division']:\n",
    "#     if i not in MainDic:\n",
    "#         MainDic[i] = 1\n",
    "#     else:\n",
    "#         MainDic[i] += 1`\n",
    "    \n",
    "\n",
    "# print(MainDic)\n",
    "# print(\"\\n\")\n",
    "\n",
    "# SubDic = {}\n",
    "\n",
    "# # print(clusters.shape[0])\n",
    "# for index in range(0, clusters.shape[0]-1):\n",
    "#     a = clusters.iloc[index]\n",
    "#     division = a['Main Division']\n",
    "#     irg = a['Sub Division']\n",
    "# #     print(a['4 Division'], \": \",a['25 Division'])\n",
    "#     if division not in SubDic:\n",
    "#         SubDic[division] = []\n",
    "#         SubDic[division].append([irg, index])\n",
    "#     else:\n",
    "#         SubDic[division].append([irg, index])\n",
    "    \n",
    "    \n",
    "# # print(dic25)\n",
    "# for key, value in SubDic.items():\n",
    "#     print(key, ' : ', value)\n",
    "#     print(\"\\n\")"
   ]
  },
  {
   "cell_type": "code",
   "execution_count": 71,
   "metadata": {},
   "outputs": [],
   "source": [
    "# from pandas import DataFrame\n",
    "# import pandas as pd \n",
    "# index, kdiv, kirg, hdiv, hirg = ([] for i in range(5)) \n",
    "# print(\"index \", \"kdiv \", \"kirg \", \"hdiv \",\"hirg\")\n",
    "# for key, value in Hdic25.items():\n",
    "#     for i in value:\n",
    "#         for key1, value1 in dic25.items():\n",
    "#             for i1 in value1:\n",
    "#                 if i[1] == i1[1]:\n",
    "#                     index.append(int(i[1]))\n",
    "#                     kdiv.append(int(key1))\n",
    "#                     kirg.append(int(i1[0]))\n",
    "#                     hdiv.append(int(key))\n",
    "#                     hirg.append(int(i[0]))\n",
    "                    \n",
    "#                     print(i[1],\" --> \",key1, \" --> \", i1[0], \" --> \", key, \" --> \",i[0])\n",
    "# #                     print(i[1],\"-->\",i1[0],\"-->\", i[0])\n"
   ]
  },
  {
   "cell_type": "code",
   "execution_count": 72,
   "metadata": {},
   "outputs": [],
   "source": [
    "# map_df = pd.DataFrame(list(zip(index, kdiv, kirg, hdiv, hirg)), \n",
    "#                columns =['Document Index', 'Kmeans div', 'Kmeans irg', 'H div', 'Hirg']) "
   ]
  },
  {
   "cell_type": "code",
   "execution_count": 73,
   "metadata": {},
   "outputs": [],
   "source": [
    "# Freqwords"
   ]
  },
  {
   "cell_type": "code",
   "execution_count": 74,
   "metadata": {},
   "outputs": [],
   "source": [
    "# wordfreq = {}\n",
    "\n",
    "# for index, doc in enumerate(datanew):\n",
    "# #     print(str(labels[index]) + \":\" + str(doc))\n",
    "#     i = labels[index]\n",
    "#     if i not in wordfreq:\n",
    "#         temp = {}\n",
    "        \n",
    "#         for word in doc:\n",
    "#             if word not in temp:\n",
    "#                  temp[word] = 1\n",
    "#             else:\n",
    "#                  temp[word] += 1\n",
    "#         wordfreq[i] = temp\n",
    "#     else:\n",
    "#         atemp = wordfreq[i]\n",
    "#         for word in doc:\n",
    "#             if word not in atemp:\n",
    "#                  atemp[word] = 1\n",
    "#             else:\n",
    "#                  atemp[word] += 1\n",
    "#         wordfreq[i] = atemp\n",
    "        \n",
    "# print(wordfreq)"
   ]
  },
  {
   "cell_type": "code",
   "execution_count": 75,
   "metadata": {},
   "outputs": [],
   "source": [
    "# a = {k: v for k, v in sorted(wordfreq[0].items(), key=lambda item: item[1],reverse=True)}\n",
    "# print(a)\n",
    "# # print(len(a))"
   ]
  },
  {
   "cell_type": "markdown",
   "metadata": {},
   "source": [
    "# Evaluations"
   ]
  },
  {
   "cell_type": "markdown",
   "metadata": {},
   "source": [
    "### Visualization"
   ]
  },
  {
   "cell_type": "markdown",
   "metadata": {},
   "source": [
    "Done for 2 dimensional vector -- word 2 vec with pca"
   ]
  },
  {
   "cell_type": "code",
   "execution_count": 76,
   "metadata": {},
   "outputs": [],
   "source": [
    "%matplotlib inline\n",
    "import matplotlib.pyplot as plt\n",
    "import seaborn as sns; sns.set()  # for plot styling\n",
    "import numpy as np\n",
    "from sklearn.datasets.samples_generator import make_blobs"
   ]
  },
  {
   "cell_type": "code",
   "execution_count": 77,
   "metadata": {},
   "outputs": [],
   "source": [
    "def plot(df, labels, model):\n",
    "    plt.scatter(df['0'], df['1'], c= labels, s=20, cmap='viridis')\n",
    "\n",
    "    centers = model.cluster_centers_\n",
    "    plt.scatter(centers[:, 0], centers[:, 1], c='black', s=200, alpha=0.5);"
   ]
  },
  {
   "cell_type": "code",
   "execution_count": 78,
   "metadata": {},
   "outputs": [
    {
     "data": {
      "image/png": "[encoded data removed]",
      "text/plain": [
       "<Figure size 432x288 with 1 Axes>"
      ]
     },
     "metadata": {},
     "output_type": "display_data"
    }
   ],
   "source": [
    "# call plot function with word2vec-pca dataframe,  word2vec-pca labels and kmeans model\n",
    "plot(word2vec_vectors_pca, w2vpca_euclidean_labels, w2vpca_euclidean_model)"
   ]
  },
  {
   "cell_type": "markdown",
   "metadata": {},
   "source": [
    "### Internal Evaluation"
   ]
  },
  {
   "cell_type": "code",
   "execution_count": 79,
   "metadata": {},
   "outputs": [],
   "source": [
    "from sklearn.metrics import davies_bouldin_score\n",
    "from sklearn import metrics"
   ]
  },
  {
   "cell_type": "code",
   "execution_count": 80,
   "metadata": {},
   "outputs": [],
   "source": [
    "def clusterReport(dataset, labels):\n",
    "    report = []\n",
    "    silhoutte = metrics.silhouette_score(dataset, labels, metric='euclidean')\n",
    "    report.append(silhoutte)\n",
    "    calinski = metrics.calinski_harabasz_score(dataset, labels)\n",
    "    report.append(calinski)\n",
    "    davies = davies_bouldin_score(dataset, labels)\n",
    "    report.append(davies)\n",
    "    return report"
   ]
  },
  {
   "cell_type": "code",
   "execution_count": 81,
   "metadata": {},
   "outputs": [],
   "source": [
    "# silhoutte\n",
    "# The score is bounded between -1 for incorrect clustering and +1 for highly dense clustering. \n",
    "# Scores around zero indicate overlapping clusters.\n",
    "# The score is higher when clusters are dense and well separated, which relates to a standard concept of a cluster.\n",
    "\n",
    "\n",
    "# calsinski\n",
    "# the Variance Ratio Criterion - can be used to evaluate the model, \n",
    "# where a higher Calinski-Harabasz score relates to a model with better defined clusters.\n",
    "# The index is the ratio of the sum of between-clusters dispersion and \n",
    "# of inter-cluster dispersion for all clusters (where dispersion is defined as the sum of distances squared):\n",
    "# The score is higher when clusters are dense and well separated, which relates to a standard concept of a cluster.\n",
    "\n",
    "\n",
    "# Davies\n",
    "# This index signifies the average ‘similarity’ between clusters, where the similarity is a measure \n",
    "# that compares the distance between clusters with the size of the clusters themselves.\n",
    "# Zero is the lowest possible score. \n",
    "# Values closer to zero indicate a better partition."
   ]
  },
  {
   "cell_type": "code",
   "execution_count": 82,
   "metadata": {},
   "outputs": [],
   "source": [
    "\n",
    "# # Word2Vec\n",
    "# print('Word2Vec with K means Cluster using cosine distance\\n')\n",
    "# clusterReport(word2vec_vectors, w2v_cosine_labels)\n",
    "# print('\\n')\n",
    "# print('Word2Vec with K means Cluster using eucidean distance\\n')\n",
    "# clusterReport(word2vec_vectors, w2v_euclidean_labels)\n",
    "\n",
    "# # Word2Vec - PCA\n",
    "# print('\\n')\n",
    "# print('Word2Vec and PCA with K means Cluster using euclidean distance\\n')\n",
    "# clusterReport(word2vec_vectors_pca, w2vpca_euclidean_labels)\n",
    "\n",
    "\n"
   ]
  },
  {
   "cell_type": "code",
   "execution_count": 83,
   "metadata": {},
   "outputs": [],
   "source": [
    "table = []\n",
    "def generate_report(report, name):\n",
    "    \n",
    "    report.insert(0, name)\n",
    "    table.append(report)"
   ]
  },
  {
   "cell_type": "code",
   "execution_count": 84,
   "metadata": {},
   "outputs": [],
   "source": [
    "\n",
    "word2vec_Kmeans_report = clusterReport(word2vec_vectors, w2v_euclidean_labels)\n",
    "word2vec_pca_Kmeans_report = clusterReport(word2vec_vectors_pca, w2vpca_euclidean_labels)\n",
    "word2vec_tfidf_Kmeans_report = clusterReport(word2vec_vectors_tfidf, w2vtfidf_euclidean_labels)\n",
    "word2vec_tfidf_pca_Kmeans_report = clusterReport(word2vec_vectors_tfidf_pca, w2v_tfidf_pca_euclidean_labels)\n",
    "\n",
    "\n",
    "word2vec_h_report = clusterReport(word2vec_vectors, Hw2v_euclidean_labels)\n",
    "word2vec_pca_h_report = clusterReport(word2vec_vectors_pca, Hw2v_pca_euclidean_labels)\n",
    "word2vec_tfidf_h_report = clusterReport(word2vec_vectors_tfidf, Hw2v_tfidf_euclidean_labels)\n",
    "word2vec_tfidf_pca_h_report = clusterReport(word2vec_vectors_tfidf_pca, Hw2v_tfidf_pca_euclidean_labels)\n",
    "\n",
    "generate_report(word2vec_Kmeans_report, \"word2vec_Kmeans_report\")\n",
    "generate_report(word2vec_pca_Kmeans_report, \"word2vec_pca_Kmeans_report\")\n",
    "generate_report(word2vec_tfidf_Kmeans_report, \"word2vec_tfidf_Kmeans_report\")\n",
    "generate_report(word2vec_tfidf_pca_Kmeans_report, \"word2vec_tfidf_pca_Kmeans_report\")\n",
    "generate_report(word2vec_h_report, \"word2vec_h_report\")\n",
    "generate_report(word2vec_pca_h_report, \"word2vec_pca_h_report\")\n",
    "generate_report(word2vec_tfidf_h_report, \"word2vec_tfidf_h_report\")\n",
    "generate_report(word2vec_tfidf_pca_h_report, \"word2vec_tfidf_pca_h_report\")\n",
    "\n",
    "# table"
   ]
  },
  {
   "cell_type": "code",
   "execution_count": 85,
   "metadata": {},
   "outputs": [
    {
     "name": "stdout",
     "output_type": "stream",
     "text": [
      "Silhoutte Score: Range: -1 to 1, 1 being dense cluster\n",
      "Calinski Score: Higher score - better defined cluster\n",
      "Davies Score: Values closer to zero indicate a better partition.\n"
     ]
    }
   ],
   "source": [
    "print(\"Silhoutte Score: Range: -1 to 1, 1 being dense cluster\")\n",
    "print(\"Calinski Score: Higher score - better defined cluster\")\n",
    "print(\"Davies Score: Values closer to zero indicate a better partition.\")"
   ]
  },
  {
   "cell_type": "code",
   "execution_count": 86,
   "metadata": {},
   "outputs": [],
   "source": [
    "# from tabulate import tabulate\n",
    "# names = [\"Cluster Name\", \"Silhoutte Score\", \"Calinski Score\", \"Davies Score\"]\n",
    "# print(tabulate(table, headers = names, tablefmt = \"grid\"))\n",
    "\n",
    "internal_df = pd.DataFrame(table, \n",
    "               columns =[\"Cluster Name\", \"Silhoutte Score\", \"Calinski Score\", \"Davies Score\"]) \n",
    "# internal_df"
   ]
  },
  {
   "cell_type": "code",
   "execution_count": 87,
   "metadata": {},
   "outputs": [
    {
     "data": {
      "text/html": [
       "<style  type=\"text/css\" >\n",
       "    #T_dfab732e_9610_11ea_b947_b808cfc629dc th {\n",
       "          font-size: 11px;\n",
       "          text-align: center;\n",
       "          font-weight: bold;\n",
       "          color: #6d6d6d;\n",
       "          background-color: #f7f7f9;\n",
       "    }    #T_dfab732e_9610_11ea_b947_b808cfc629dc td {\n",
       "          font-size: 11px;\n",
       "    }    #T_dfab732e_9610_11ea_b947_b808cfc629dcrow0_col1 {\n",
       "            background-color:  #ffb630;\n",
       "            color:  #000000;\n",
       "            : ;\n",
       "        }    #T_dfab732e_9610_11ea_b947_b808cfc629dcrow0_col2 {\n",
       "            background-color:  #fff4e0;\n",
       "            color:  #000000;\n",
       "            : ;\n",
       "        }    #T_dfab732e_9610_11ea_b947_b808cfc629dcrow0_col3 {\n",
       "            background-color:  #ffcc6e;\n",
       "            color:  #000000;\n",
       "            : ;\n",
       "        }    #T_dfab732e_9610_11ea_b947_b808cfc629dcrow1_col1 {\n",
       "            background-color:  #ffa500;\n",
       "            color:  #000000;\n",
       "            background-color:  yellow;\n",
       "        }    #T_dfab732e_9610_11ea_b947_b808cfc629dcrow1_col2 {\n",
       "            background-color:  #ffa500;\n",
       "            color:  #000000;\n",
       "            background-color:  yellow;\n",
       "        }    #T_dfab732e_9610_11ea_b947_b808cfc629dcrow1_col3 {\n",
       "            background-color:  #fff6e5;\n",
       "            color:  #000000;\n",
       "            : ;\n",
       "        }    #T_dfab732e_9610_11ea_b947_b808cfc629dcrow2_col1 {\n",
       "            background-color:  #fff6e5;\n",
       "            color:  #000000;\n",
       "            : ;\n",
       "        }    #T_dfab732e_9610_11ea_b947_b808cfc629dcrow2_col2 {\n",
       "            background-color:  #fff6e5;\n",
       "            color:  #000000;\n",
       "            : ;\n",
       "        }    #T_dfab732e_9610_11ea_b947_b808cfc629dcrow2_col3 {\n",
       "            background-color:  #ffa500;\n",
       "            color:  #000000;\n",
       "            background-color:  yellow;\n",
       "        }    #T_dfab732e_9610_11ea_b947_b808cfc629dcrow3_col1 {\n",
       "            background-color:  #ffd17e;\n",
       "            color:  #000000;\n",
       "            : ;\n",
       "        }    #T_dfab732e_9610_11ea_b947_b808cfc629dcrow3_col2 {\n",
       "            background-color:  #fff1d8;\n",
       "            color:  #000000;\n",
       "            : ;\n",
       "        }    #T_dfab732e_9610_11ea_b947_b808cfc629dcrow3_col3 {\n",
       "            background-color:  #ffeed0;\n",
       "            color:  #000000;\n",
       "            : ;\n",
       "        }    #T_dfab732e_9610_11ea_b947_b808cfc629dcrow4_col1 {\n",
       "            background-color:  #ffb52e;\n",
       "            color:  #000000;\n",
       "            : ;\n",
       "        }    #T_dfab732e_9610_11ea_b947_b808cfc629dcrow4_col2 {\n",
       "            background-color:  #fff4e0;\n",
       "            color:  #000000;\n",
       "            : ;\n",
       "        }    #T_dfab732e_9610_11ea_b947_b808cfc629dcrow4_col3 {\n",
       "            background-color:  #ffdfa5;\n",
       "            color:  #000000;\n",
       "            : ;\n",
       "        }    #T_dfab732e_9610_11ea_b947_b808cfc629dcrow5_col1 {\n",
       "            background-color:  #ffa603;\n",
       "            color:  #000000;\n",
       "            : ;\n",
       "        }    #T_dfab732e_9610_11ea_b947_b808cfc629dcrow5_col2 {\n",
       "            background-color:  #ffad17;\n",
       "            color:  #000000;\n",
       "            : ;\n",
       "        }    #T_dfab732e_9610_11ea_b947_b808cfc629dcrow5_col3 {\n",
       "            background-color:  #fff5e2;\n",
       "            color:  #000000;\n",
       "            : ;\n",
       "        }    #T_dfab732e_9610_11ea_b947_b808cfc629dcrow6_col1 {\n",
       "            background-color:  #ffe8bd;\n",
       "            color:  #000000;\n",
       "            : ;\n",
       "        }    #T_dfab732e_9610_11ea_b947_b808cfc629dcrow6_col2 {\n",
       "            background-color:  #fff6e5;\n",
       "            color:  #000000;\n",
       "            : ;\n",
       "        }    #T_dfab732e_9610_11ea_b947_b808cfc629dcrow6_col3 {\n",
       "            background-color:  #fff3dd;\n",
       "            color:  #000000;\n",
       "            : ;\n",
       "        }    #T_dfab732e_9610_11ea_b947_b808cfc629dcrow7_col1 {\n",
       "            background-color:  #ffce73;\n",
       "            color:  #000000;\n",
       "            : ;\n",
       "        }    #T_dfab732e_9610_11ea_b947_b808cfc629dcrow7_col2 {\n",
       "            background-color:  #fff1d8;\n",
       "            color:  #000000;\n",
       "            : ;\n",
       "        }    #T_dfab732e_9610_11ea_b947_b808cfc629dcrow7_col3 {\n",
       "            background-color:  #fff5e3;\n",
       "            color:  #000000;\n",
       "            : ;\n",
       "        }</style><table id=\"T_dfab732e_9610_11ea_b947_b808cfc629dc\" ><caption>Highest to lowest - Yellow to Orange</caption><thead>    <tr>        <th class=\"blank level0\" ></th>        <th class=\"col_heading level0 col0\" >Cluster Name</th>        <th class=\"col_heading level0 col1\" >Silhoutte Score</th>        <th class=\"col_heading level0 col2\" >Calinski Score</th>        <th class=\"col_heading level0 col3\" >Davies Score</th>    </tr></thead><tbody>\n",
       "                <tr>\n",
       "                        <th id=\"T_dfab732e_9610_11ea_b947_b808cfc629dclevel0_row0\" class=\"row_heading level0 row0\" >0</th>\n",
       "                        <td id=\"T_dfab732e_9610_11ea_b947_b808cfc629dcrow0_col0\" class=\"data row0 col0\" >word2vec_Kmeans_report</td>\n",
       "                        <td id=\"T_dfab732e_9610_11ea_b947_b808cfc629dcrow0_col1\" class=\"data row0 col1\" >0.608648</td>\n",
       "                        <td id=\"T_dfab732e_9610_11ea_b947_b808cfc629dcrow0_col2\" class=\"data row0 col2\" >82.665214</td>\n",
       "                        <td id=\"T_dfab732e_9610_11ea_b947_b808cfc629dcrow0_col3\" class=\"data row0 col3\" >2.095075</td>\n",
       "            </tr>\n",
       "            <tr>\n",
       "                        <th id=\"T_dfab732e_9610_11ea_b947_b808cfc629dclevel0_row1\" class=\"row_heading level0 row1\" >1</th>\n",
       "                        <td id=\"T_dfab732e_9610_11ea_b947_b808cfc629dcrow1_col0\" class=\"data row1 col0\" >word2vec_pca_Kmeans_report</td>\n",
       "                        <td id=\"T_dfab732e_9610_11ea_b947_b808cfc629dcrow1_col1\" class=\"data row1 col1\" >0.755481</td>\n",
       "                        <td id=\"T_dfab732e_9610_11ea_b947_b808cfc629dcrow1_col2\" class=\"data row1 col2\" >2685.620988</td>\n",
       "                        <td id=\"T_dfab732e_9610_11ea_b947_b808cfc629dcrow1_col3\" class=\"data row1 col3\" >0.661937</td>\n",
       "            </tr>\n",
       "            <tr>\n",
       "                        <th id=\"T_dfab732e_9610_11ea_b947_b808cfc629dclevel0_row2\" class=\"row_heading level0 row2\" >2</th>\n",
       "                        <td id=\"T_dfab732e_9610_11ea_b947_b808cfc629dcrow2_col0\" class=\"data row2 col0\" >word2vec_tfidf_Kmeans_report</td>\n",
       "                        <td id=\"T_dfab732e_9610_11ea_b947_b808cfc629dcrow2_col1\" class=\"data row2 col1\" >0.057394</td>\n",
       "                        <td id=\"T_dfab732e_9610_11ea_b947_b808cfc629dcrow2_col2\" class=\"data row2 col2\" >14.320206</td>\n",
       "                        <td id=\"T_dfab732e_9610_11ea_b947_b808cfc629dcrow2_col3\" class=\"data row2 col3\" >3.400851</td>\n",
       "            </tr>\n",
       "            <tr>\n",
       "                        <th id=\"T_dfab732e_9610_11ea_b947_b808cfc629dclevel0_row3\" class=\"row_heading level0 row3\" >3</th>\n",
       "                        <td id=\"T_dfab732e_9610_11ea_b947_b808cfc629dcrow3_col0\" class=\"data row3 col0\" >word2vec_tfidf_pca_Kmeans_report</td>\n",
       "                        <td id=\"T_dfab732e_9610_11ea_b947_b808cfc629dcrow3_col1\" class=\"data row3 col1\" >0.372268</td>\n",
       "                        <td id=\"T_dfab732e_9610_11ea_b947_b808cfc629dcrow3_col2\" class=\"data row3 col2\" >177.486612</td>\n",
       "                        <td id=\"T_dfab732e_9610_11ea_b947_b808cfc629dcrow3_col3\" class=\"data row3 col3\" >0.918726</td>\n",
       "            </tr>\n",
       "            <tr>\n",
       "                        <th id=\"T_dfab732e_9610_11ea_b947_b808cfc629dclevel0_row4\" class=\"row_heading level0 row4\" >4</th>\n",
       "                        <td id=\"T_dfab732e_9610_11ea_b947_b808cfc629dcrow4_col0\" class=\"data row4 col0\" >word2vec_h_report</td>\n",
       "                        <td id=\"T_dfab732e_9610_11ea_b947_b808cfc629dcrow4_col1\" class=\"data row4 col1\" >0.614404</td>\n",
       "                        <td id=\"T_dfab732e_9610_11ea_b947_b808cfc629dcrow4_col2\" class=\"data row4 col2\" >84.090788</td>\n",
       "                        <td id=\"T_dfab732e_9610_11ea_b947_b808cfc629dcrow4_col3\" class=\"data row4 col3\" >1.435373</td>\n",
       "            </tr>\n",
       "            <tr>\n",
       "                        <th id=\"T_dfab732e_9610_11ea_b947_b808cfc629dclevel0_row5\" class=\"row_heading level0 row5\" >5</th>\n",
       "                        <td id=\"T_dfab732e_9610_11ea_b947_b808cfc629dcrow5_col0\" class=\"data row5 col0\" >word2vec_pca_h_report</td>\n",
       "                        <td id=\"T_dfab732e_9610_11ea_b947_b808cfc629dcrow5_col1\" class=\"data row5 col1\" >0.745028</td>\n",
       "                        <td id=\"T_dfab732e_9610_11ea_b947_b808cfc629dcrow5_col2\" class=\"data row5 col2\" >2403.959465</td>\n",
       "                        <td id=\"T_dfab732e_9610_11ea_b947_b808cfc629dcrow5_col3\" class=\"data row5 col3\" >0.706882</td>\n",
       "            </tr>\n",
       "            <tr>\n",
       "                        <th id=\"T_dfab732e_9610_11ea_b947_b808cfc629dclevel0_row6\" class=\"row_heading level0 row6\" >6</th>\n",
       "                        <td id=\"T_dfab732e_9610_11ea_b947_b808cfc629dcrow6_col0\" class=\"data row6 col0\" >word2vec_tfidf_h_report</td>\n",
       "                        <td id=\"T_dfab732e_9610_11ea_b947_b808cfc629dcrow6_col1\" class=\"data row6 col1\" >0.182765</td>\n",
       "                        <td id=\"T_dfab732e_9610_11ea_b947_b808cfc629dcrow6_col2\" class=\"data row6 col2\" >16.062921</td>\n",
       "                        <td id=\"T_dfab732e_9610_11ea_b947_b808cfc629dcrow6_col3\" class=\"data row6 col3\" >0.759993</td>\n",
       "            </tr>\n",
       "            <tr>\n",
       "                        <th id=\"T_dfab732e_9610_11ea_b947_b808cfc629dclevel0_row7\" class=\"row_heading level0 row7\" >7</th>\n",
       "                        <td id=\"T_dfab732e_9610_11ea_b947_b808cfc629dcrow7_col0\" class=\"data row7 col0\" >word2vec_tfidf_pca_h_report</td>\n",
       "                        <td id=\"T_dfab732e_9610_11ea_b947_b808cfc629dcrow7_col1\" class=\"data row7 col1\" >0.405432</td>\n",
       "                        <td id=\"T_dfab732e_9610_11ea_b947_b808cfc629dcrow7_col2\" class=\"data row7 col2\" >172.654950</td>\n",
       "                        <td id=\"T_dfab732e_9610_11ea_b947_b808cfc629dcrow7_col3\" class=\"data row7 col3\" >0.695238</td>\n",
       "            </tr>\n",
       "    </tbody></table>"
      ],
      "text/plain": [
       "<pandas.io.formats.style.Styler at 0x19596a6d448>"
      ]
     },
     "execution_count": 87,
     "metadata": {},
     "output_type": "execute_result"
    }
   ],
   "source": [
    "cm = sns.light_palette(\"orange\", as_cmap=True)\n",
    "\n",
    "(internal_df.style\n",
    "  .background_gradient(cmap=cm, subset=[\"Silhoutte Score\", \"Calinski Score\", \"Davies Score\"])\n",
    "  .highlight_max(subset=[\"Silhoutte Score\", \"Calinski Score\", \"Davies Score\"])\n",
    "  .set_caption('Highest to lowest - Yellow to Orange')\n",
    "  .format({'total_amt_usd_pct_diff': \"{:.2%}\"})\n",
    "  .set_table_styles(styles))"
   ]
  },
  {
   "cell_type": "markdown",
   "metadata": {},
   "source": [
    "### Counting pair measures"
   ]
  },
  {
   "cell_type": "code",
   "execution_count": 88,
   "metadata": {},
   "outputs": [],
   "source": [
    "import itertools \n",
    "import math"
   ]
  },
  {
   "cell_type": "code",
   "execution_count": 89,
   "metadata": {},
   "outputs": [],
   "source": [
    "# Jacard:\n",
    "# The Jaccard index is used to quantify the similarity between two datasets.\n",
    "# It is verysimilar to the Rand Index, however it disregards the pairs of elements that\n",
    "# are in different clusters for both clusterings\n",
    "\n",
    "# Rand:\n",
    "# One can also view the Rand index as a measure of the percentage of correct decisions made by the algorithm\n",
    "# R ranges from 0 (no pair classified in the same way under both clusterings)\n",
    "# to 1 (identical clusterings). The value of R depends on both, the number\n",
    "# of clusters and the number of elements.\n",
    "\n",
    "# Fowlkes-Mallows:\n",
    "# this measure can be interpreted as\n",
    "# the geometric mean of precision (ratio of the number of retrieved relevant\n",
    "# documents to the total number of retrieved documents = n11/n11+n10 and recall\n",
    "# (ratio of the number of retrieved relevant documents to the total number of\n",
    "# relevant documents = n11/n11+n01\n",
    "\n",
    "# Mirkin:\n",
    "# It corresponds to the Hamming distance for binary vectors.\n",
    "\n",
    "# Dice:\n",
    "# The Dice symmetric measure doubles the weight on TP while still ignoring TN:\n",
    "\n",
    "\n",
    "# The Partition Difference:\n",
    "# simply counts the pairs of elements that belong\n",
    "# to different clusters unter both clusterings:\n"
   ]
  },
  {
   "cell_type": "code",
   "execution_count": 90,
   "metadata": {},
   "outputs": [],
   "source": [
    "def counting_pair_measures(labels1, labels2):\n",
    "    n11 = n10 = n01 = n00 = 0\n",
    "    n = len(labels1)\n",
    "    for i, j in itertools.combinations(range(n), 2):\n",
    "        c1 = labels1[i] == labels1[j]\n",
    "        c2 = labels2[i] == labels2[j]\n",
    "        if c1 and c2:\n",
    "            n11 += 1\n",
    "        elif c1 and not c2:\n",
    "            n10 += 1\n",
    "        elif not c1 and c2:\n",
    "            n01 += 1\n",
    "        elif not c1 and not c2:\n",
    "            n00 += 1\n",
    "    jacard = float(n11) / (n11 + n10 + n01)\n",
    "    rand = (n11 + n00)/(n)\n",
    "    p = n11/(n11+n10)\n",
    "    r = n11/(n11+n01)\n",
    "    fowlkes = math.sqrt(p*r)\n",
    "    mirkin = 2*(n01 + n10)\n",
    "    partition = n00\n",
    "    dice = (2*n11)/((2*n11) + n10 + n01)\n",
    "    report = []\n",
    "    report.extend([n00, n11, n10, n01,p, r, jacard, rand,fowlkes, mirkin, partition, dice ])\n",
    "#     report += \"n00: \"+ str(n00)+ \" n11: \"+ str(n11)+ \" n10: \"+ str(n10)+ \" n01: \"+ str(n01) +\"\\n\"\n",
    "#     report += \"Jacard Similarity of two clusters: \"+  str(jacard)+\"\\n\"\n",
    "#     report +=\"Rand Similarity of two clusters: \"+ str(rand)+\"\\n\"\n",
    "#     report +=\"Precision and recall of two clusters: \"+ str(p)+ \" , \"+ str(r)+\"\\n\"\n",
    "#     report +=\"Fowlkes Similarity of two clusters: \" +  str(fowlkes)+\"\\n\"\n",
    "#     report +=\"Mirkin Similarity of two clusters: \"+ str(mirkin)+\"\\n\"\n",
    "#     report +=\"Dice Similarity of two clusters: \"+ str(dice)+\"\\n\"\n",
    "#     report +=\"Partition Similarity of two clusters: \" + str(partition)+\"\\n\"\n",
    "    return report\n",
    "\n",
    "    "
   ]
  },
  {
   "cell_type": "code",
   "execution_count": 91,
   "metadata": {},
   "outputs": [],
   "source": [
    "# Compare labels for kmeans cluster and hierrarcheal cluster\n",
    "\n",
    "word2vec_k_h = counting_pair_measures(w2v_euclidean_labels, Hw2v_euclidean_labels)\n",
    "word2vec_pca_k_h = counting_pair_measures(w2vpca_euclidean_labels, Hw2v_pca_euclidean_labels)\n",
    "word2vec_tfidf_k_h = counting_pair_measures(w2vtfidf_euclidean_labels, Hw2v_tfidf_euclidean_labels)\n",
    "word2vec_tfidf_pca_k_h = counting_pair_measures(w2v_tfidf_pca_euclidean_labels, Hw2v_tfidf_pca_euclidean_labels)\n",
    "\n"
   ]
  },
  {
   "cell_type": "code",
   "execution_count": 92,
   "metadata": {},
   "outputs": [
    {
     "name": "stdout",
     "output_type": "stream",
     "text": [
      "A similarity measure between two clusters (kmeans and hierarcheal)\n"
     ]
    }
   ],
   "source": [
    "print(\"A similarity measure between two clusters (kmeans and hierarcheal)\")\n",
    "counting_pair_list = [word2vec_k_h, word2vec_pca_k_h, word2vec_tfidf_k_h, word2vec_tfidf_pca_k_h]\n",
    "# counting_pair_list\n",
    "counting_pair_df = pd.DataFrame(counting_pair_list, \n",
    "               columns =['n00', 'n11', 'n10', 'n01', 'precision', 'recall', \n",
    "                         'Jacard Similarity', 'Rand Similarity', 'Fowlkes Similarity', 'Mirkin Similarity',\n",
    "                         'Partition Similarity', 'Dice Similarity'], index = ['w2v', 'w2v with pca', 'w2v with tfidf', 'w2v with tfidf and pca']) \n",
    "# counting_pair_df"
   ]
  },
  {
   "cell_type": "code",
   "execution_count": 93,
   "metadata": {},
   "outputs": [
    {
     "data": {
      "text/html": [
       "<style  type=\"text/css\" >\n",
       "    #T_e03a1812_9610_11ea_96bf_b808cfc629dc th {\n",
       "          font-size: 11px;\n",
       "          text-align: center;\n",
       "          font-weight: bold;\n",
       "          color: #6d6d6d;\n",
       "          background-color: #f7f7f9;\n",
       "    }    #T_e03a1812_9610_11ea_96bf_b808cfc629dc td {\n",
       "          font-size: 11px;\n",
       "    }    #T_e03a1812_9610_11ea_96bf_b808cfc629dcrow0_col0 {\n",
       "            background-color:  #ffad17;\n",
       "            color:  #000000;\n",
       "            background-color:  #ffad17;\n",
       "            color:  #000000;\n",
       "            : ;\n",
       "            : ;\n",
       "        }    #T_e03a1812_9610_11ea_96bf_b808cfc629dcrow0_col1 {\n",
       "            background-color:  #ffa500;\n",
       "            color:  #000000;\n",
       "            background-color:  yellow;\n",
       "        }    #T_e03a1812_9610_11ea_96bf_b808cfc629dcrow0_col2 {\n",
       "            background-color:  #fff6e5;\n",
       "            color:  #000000;\n",
       "            : ;\n",
       "        }    #T_e03a1812_9610_11ea_96bf_b808cfc629dcrow0_col3 {\n",
       "            background-color:  #fff5e2;\n",
       "            color:  #000000;\n",
       "            : ;\n",
       "        }    #T_e03a1812_9610_11ea_96bf_b808cfc629dcrow0_col4 {\n",
       "            background-color:  #ffa500;\n",
       "            color:  #000000;\n",
       "            background-color:  yellow;\n",
       "        }    #T_e03a1812_9610_11ea_96bf_b808cfc629dcrow0_col5 {\n",
       "            background-color:  #ffa705;\n",
       "            color:  #000000;\n",
       "            : ;\n",
       "        }    #T_e03a1812_9610_11ea_96bf_b808cfc629dcrow0_col6 {\n",
       "            background-color:  #ffa500;\n",
       "            color:  #000000;\n",
       "            background-color:  yellow;\n",
       "        }    #T_e03a1812_9610_11ea_96bf_b808cfc629dcrow0_col7 {\n",
       "            background-color:  #ffa500;\n",
       "            color:  #000000;\n",
       "            background-color:  yellow;\n",
       "        }    #T_e03a1812_9610_11ea_96bf_b808cfc629dcrow0_col8 {\n",
       "            background-color:  #ffa500;\n",
       "            color:  #000000;\n",
       "            background-color:  yellow;\n",
       "        }    #T_e03a1812_9610_11ea_96bf_b808cfc629dcrow0_col9 {\n",
       "            background-color:  #fff6e5;\n",
       "            color:  #000000;\n",
       "            : ;\n",
       "        }    #T_e03a1812_9610_11ea_96bf_b808cfc629dcrow0_col10 {\n",
       "            background-color:  #ffad17;\n",
       "            color:  #000000;\n",
       "            : ;\n",
       "        }    #T_e03a1812_9610_11ea_96bf_b808cfc629dcrow0_col11 {\n",
       "            background-color:  #ffa500;\n",
       "            color:  #000000;\n",
       "            background-color:  yellow;\n",
       "        }    #T_e03a1812_9610_11ea_96bf_b808cfc629dcrow1_col0 {\n",
       "            background-color:  #ffa500;\n",
       "            color:  #000000;\n",
       "            background-color:  #ffa500;\n",
       "            color:  #000000;\n",
       "            background-color:  yellow;\n",
       "            background-color:  yellow;\n",
       "        }    #T_e03a1812_9610_11ea_96bf_b808cfc629dcrow1_col1 {\n",
       "            background-color:  #ffda97;\n",
       "            color:  #000000;\n",
       "            : ;\n",
       "        }    #T_e03a1812_9610_11ea_96bf_b808cfc629dcrow1_col2 {\n",
       "            background-color:  #ffe2ad;\n",
       "            color:  #000000;\n",
       "            : ;\n",
       "        }    #T_e03a1812_9610_11ea_96bf_b808cfc629dcrow1_col3 {\n",
       "            background-color:  #fff6e5;\n",
       "            color:  #000000;\n",
       "            : ;\n",
       "        }    #T_e03a1812_9610_11ea_96bf_b808cfc629dcrow1_col4 {\n",
       "            background-color:  #ffba3c;\n",
       "            color:  #000000;\n",
       "            : ;\n",
       "        }    #T_e03a1812_9610_11ea_96bf_b808cfc629dcrow1_col5 {\n",
       "            background-color:  #ffa500;\n",
       "            color:  #000000;\n",
       "            background-color:  yellow;\n",
       "        }    #T_e03a1812_9610_11ea_96bf_b808cfc629dcrow1_col6 {\n",
       "            background-color:  #ffa80a;\n",
       "            color:  #000000;\n",
       "            : ;\n",
       "        }    #T_e03a1812_9610_11ea_96bf_b808cfc629dcrow1_col7 {\n",
       "            background-color:  #ffa603;\n",
       "            color:  #000000;\n",
       "            : ;\n",
       "        }    #T_e03a1812_9610_11ea_96bf_b808cfc629dcrow1_col8 {\n",
       "            background-color:  #ffa809;\n",
       "            color:  #000000;\n",
       "            : ;\n",
       "        }    #T_e03a1812_9610_11ea_96bf_b808cfc629dcrow1_col9 {\n",
       "            background-color:  #fff5e3;\n",
       "            color:  #000000;\n",
       "            : ;\n",
       "        }    #T_e03a1812_9610_11ea_96bf_b808cfc629dcrow1_col10 {\n",
       "            background-color:  #ffa500;\n",
       "            color:  #000000;\n",
       "            background-color:  yellow;\n",
       "        }    #T_e03a1812_9610_11ea_96bf_b808cfc629dcrow1_col11 {\n",
       "            background-color:  #ffa807;\n",
       "            color:  #000000;\n",
       "            : ;\n",
       "        }    #T_e03a1812_9610_11ea_96bf_b808cfc629dcrow2_col0 {\n",
       "            background-color:  #fff6e5;\n",
       "            color:  #000000;\n",
       "            background-color:  #fff6e5;\n",
       "            color:  #000000;\n",
       "            : ;\n",
       "            : ;\n",
       "        }    #T_e03a1812_9610_11ea_96bf_b808cfc629dcrow2_col1 {\n",
       "            background-color:  #fff4e0;\n",
       "            color:  #000000;\n",
       "            : ;\n",
       "        }    #T_e03a1812_9610_11ea_96bf_b808cfc629dcrow2_col2 {\n",
       "            background-color:  #ffeac4;\n",
       "            color:  #000000;\n",
       "            : ;\n",
       "        }    #T_e03a1812_9610_11ea_96bf_b808cfc629dcrow2_col3 {\n",
       "            background-color:  #ffa500;\n",
       "            color:  #000000;\n",
       "            background-color:  yellow;\n",
       "        }    #T_e03a1812_9610_11ea_96bf_b808cfc629dcrow2_col4 {\n",
       "            background-color:  #ffb328;\n",
       "            color:  #000000;\n",
       "            : ;\n",
       "        }    #T_e03a1812_9610_11ea_96bf_b808cfc629dcrow2_col5 {\n",
       "            background-color:  #fff6e5;\n",
       "            color:  #000000;\n",
       "            : ;\n",
       "        }    #T_e03a1812_9610_11ea_96bf_b808cfc629dcrow2_col6 {\n",
       "            background-color:  #fff6e5;\n",
       "            color:  #000000;\n",
       "            : ;\n",
       "        }    #T_e03a1812_9610_11ea_96bf_b808cfc629dcrow2_col7 {\n",
       "            background-color:  #fff6e5;\n",
       "            color:  #000000;\n",
       "            : ;\n",
       "        }    #T_e03a1812_9610_11ea_96bf_b808cfc629dcrow2_col8 {\n",
       "            background-color:  #fff6e5;\n",
       "            color:  #000000;\n",
       "            : ;\n",
       "        }    #T_e03a1812_9610_11ea_96bf_b808cfc629dcrow2_col9 {\n",
       "            background-color:  #ffa500;\n",
       "            color:  #000000;\n",
       "            background-color:  yellow;\n",
       "        }    #T_e03a1812_9610_11ea_96bf_b808cfc629dcrow2_col10 {\n",
       "            background-color:  #fff6e5;\n",
       "            color:  #000000;\n",
       "            : ;\n",
       "        }    #T_e03a1812_9610_11ea_96bf_b808cfc629dcrow2_col11 {\n",
       "            background-color:  #fff6e5;\n",
       "            color:  #000000;\n",
       "            : ;\n",
       "        }    #T_e03a1812_9610_11ea_96bf_b808cfc629dcrow3_col0 {\n",
       "            background-color:  #ffdd9e;\n",
       "            color:  #000000;\n",
       "            background-color:  #ffdd9e;\n",
       "            color:  #000000;\n",
       "            : ;\n",
       "            : ;\n",
       "        }    #T_e03a1812_9610_11ea_96bf_b808cfc629dcrow3_col1 {\n",
       "            background-color:  #fff6e5;\n",
       "            color:  #000000;\n",
       "            : ;\n",
       "        }    #T_e03a1812_9610_11ea_96bf_b808cfc629dcrow3_col2 {\n",
       "            background-color:  #ffa500;\n",
       "            color:  #000000;\n",
       "            background-color:  yellow;\n",
       "        }    #T_e03a1812_9610_11ea_96bf_b808cfc629dcrow3_col3 {\n",
       "            background-color:  #ffc65d;\n",
       "            color:  #000000;\n",
       "            : ;\n",
       "        }    #T_e03a1812_9610_11ea_96bf_b808cfc629dcrow3_col4 {\n",
       "            background-color:  #fff6e5;\n",
       "            color:  #000000;\n",
       "            : ;\n",
       "        }    #T_e03a1812_9610_11ea_96bf_b808cfc629dcrow3_col5 {\n",
       "            background-color:  #ffe4b1;\n",
       "            color:  #000000;\n",
       "            : ;\n",
       "        }    #T_e03a1812_9610_11ea_96bf_b808cfc629dcrow3_col6 {\n",
       "            background-color:  #ffeac3;\n",
       "            color:  #000000;\n",
       "            : ;\n",
       "        }    #T_e03a1812_9610_11ea_96bf_b808cfc629dcrow3_col7 {\n",
       "            background-color:  #ffdea3;\n",
       "            color:  #000000;\n",
       "            : ;\n",
       "        }    #T_e03a1812_9610_11ea_96bf_b808cfc629dcrow3_col8 {\n",
       "            background-color:  #ffedcb;\n",
       "            color:  #000000;\n",
       "            : ;\n",
       "        }    #T_e03a1812_9610_11ea_96bf_b808cfc629dcrow3_col9 {\n",
       "            background-color:  #ffbd43;\n",
       "            color:  #000000;\n",
       "            : ;\n",
       "        }    #T_e03a1812_9610_11ea_96bf_b808cfc629dcrow3_col10 {\n",
       "            background-color:  #ffdd9e;\n",
       "            color:  #000000;\n",
       "            : ;\n",
       "        }    #T_e03a1812_9610_11ea_96bf_b808cfc629dcrow3_col11 {\n",
       "            background-color:  #ffe6b9;\n",
       "            color:  #000000;\n",
       "            : ;\n",
       "        }</style><table id=\"T_e03a1812_9610_11ea_96bf_b808cfc629dc\" ><caption>Highest to lowest - Yellow to Orange</caption><thead>    <tr>        <th class=\"blank level0\" ></th>        <th class=\"col_heading level0 col0\" >n00</th>        <th class=\"col_heading level0 col1\" >n11</th>        <th class=\"col_heading level0 col2\" >n10</th>        <th class=\"col_heading level0 col3\" >n01</th>        <th class=\"col_heading level0 col4\" >precision</th>        <th class=\"col_heading level0 col5\" >recall</th>        <th class=\"col_heading level0 col6\" >Jacard Similarity</th>        <th class=\"col_heading level0 col7\" >Rand Similarity</th>        <th class=\"col_heading level0 col8\" >Fowlkes Similarity</th>        <th class=\"col_heading level0 col9\" >Mirkin Similarity</th>        <th class=\"col_heading level0 col10\" >Partition Similarity</th>        <th class=\"col_heading level0 col11\" >Dice Similarity</th>    </tr></thead><tbody>\n",
       "                <tr>\n",
       "                        <th id=\"T_e03a1812_9610_11ea_96bf_b808cfc629dclevel0_row0\" class=\"row_heading level0 row0\" >w2v</th>\n",
       "                        <td id=\"T_e03a1812_9610_11ea_96bf_b808cfc629dcrow0_col0\" class=\"data row0 col0\" >28786</td>\n",
       "                        <td id=\"T_e03a1812_9610_11ea_96bf_b808cfc629dcrow0_col1\" class=\"data row0 col1\" >24752</td>\n",
       "                        <td id=\"T_e03a1812_9610_11ea_96bf_b808cfc629dcrow0_col2\" class=\"data row0 col2\" >195</td>\n",
       "                        <td id=\"T_e03a1812_9610_11ea_96bf_b808cfc629dcrow0_col3\" class=\"data row0 col3\" >1545</td>\n",
       "                        <td id=\"T_e03a1812_9610_11ea_96bf_b808cfc629dcrow0_col4\" class=\"data row0 col4\" >0.992183</td>\n",
       "                        <td id=\"T_e03a1812_9610_11ea_96bf_b808cfc629dcrow0_col5\" class=\"data row0 col5\" >0.941248</td>\n",
       "                        <td id=\"T_e03a1812_9610_11ea_96bf_b808cfc629dcrow0_col6\" class=\"data row0 col6\" >0.934320</td>\n",
       "                        <td id=\"T_e03a1812_9610_11ea_96bf_b808cfc629dcrow0_col7\" class=\"data row0 col7\" >160.774775</td>\n",
       "                        <td id=\"T_e03a1812_9610_11ea_96bf_b808cfc629dcrow0_col8\" class=\"data row0 col8\" >0.966380</td>\n",
       "                        <td id=\"T_e03a1812_9610_11ea_96bf_b808cfc629dcrow0_col9\" class=\"data row0 col9\" >3480</td>\n",
       "                        <td id=\"T_e03a1812_9610_11ea_96bf_b808cfc629dcrow0_col10\" class=\"data row0 col10\" >28786</td>\n",
       "                        <td id=\"T_e03a1812_9610_11ea_96bf_b808cfc629dcrow0_col11\" class=\"data row0 col11\" >0.966045</td>\n",
       "            </tr>\n",
       "            <tr>\n",
       "                        <th id=\"T_e03a1812_9610_11ea_96bf_b808cfc629dclevel0_row1\" class=\"row_heading level0 row1\" >w2v with pca</th>\n",
       "                        <td id=\"T_e03a1812_9610_11ea_96bf_b808cfc629dcrow1_col0\" class=\"data row1 col0\" >31378</td>\n",
       "                        <td id=\"T_e03a1812_9610_11ea_96bf_b808cfc629dcrow1_col1\" class=\"data row1 col1\" >21774</td>\n",
       "                        <td id=\"T_e03a1812_9610_11ea_96bf_b808cfc629dcrow1_col2\" class=\"data row1 col2\" >1097</td>\n",
       "                        <td id=\"T_e03a1812_9610_11ea_96bf_b808cfc629dcrow1_col3\" class=\"data row1 col3\" >1029</td>\n",
       "                        <td id=\"T_e03a1812_9610_11ea_96bf_b808cfc629dcrow1_col4\" class=\"data row1 col4\" >0.952035</td>\n",
       "                        <td id=\"T_e03a1812_9610_11ea_96bf_b808cfc629dcrow1_col5\" class=\"data row1 col5\" >0.954874</td>\n",
       "                        <td id=\"T_e03a1812_9610_11ea_96bf_b808cfc629dcrow1_col6\" class=\"data row1 col6\" >0.911046</td>\n",
       "                        <td id=\"T_e03a1812_9610_11ea_96bf_b808cfc629dcrow1_col7\" class=\"data row1 col7\" >159.615616</td>\n",
       "                        <td id=\"T_e03a1812_9610_11ea_96bf_b808cfc629dcrow1_col8\" class=\"data row1 col8\" >0.953454</td>\n",
       "                        <td id=\"T_e03a1812_9610_11ea_96bf_b808cfc629dcrow1_col9\" class=\"data row1 col9\" >4252</td>\n",
       "                        <td id=\"T_e03a1812_9610_11ea_96bf_b808cfc629dcrow1_col10\" class=\"data row1 col10\" >31378</td>\n",
       "                        <td id=\"T_e03a1812_9610_11ea_96bf_b808cfc629dcrow1_col11\" class=\"data row1 col11\" >0.953453</td>\n",
       "            </tr>\n",
       "            <tr>\n",
       "                        <th id=\"T_e03a1812_9610_11ea_96bf_b808cfc629dclevel0_row2\" class=\"row_heading level0 row2\" >w2v with tfidf</th>\n",
       "                        <td id=\"T_e03a1812_9610_11ea_96bf_b808cfc629dcrow2_col0\" class=\"data row2 col0\" >6273</td>\n",
       "                        <td id=\"T_e03a1812_9610_11ea_96bf_b808cfc629dcrow2_col1\" class=\"data row2 col1\" >20335</td>\n",
       "                        <td id=\"T_e03a1812_9610_11ea_96bf_b808cfc629dcrow2_col2\" class=\"data row2 col2\" >728</td>\n",
       "                        <td id=\"T_e03a1812_9610_11ea_96bf_b808cfc629dcrow2_col3\" class=\"data row2 col3\" >27942</td>\n",
       "                        <td id=\"T_e03a1812_9610_11ea_96bf_b808cfc629dcrow2_col4\" class=\"data row2 col4\" >0.965437</td>\n",
       "                        <td id=\"T_e03a1812_9610_11ea_96bf_b808cfc629dcrow2_col5\" class=\"data row2 col5\" >0.421215</td>\n",
       "                        <td id=\"T_e03a1812_9610_11ea_96bf_b808cfc629dcrow2_col6\" class=\"data row2 col6\" >0.414958</td>\n",
       "                        <td id=\"T_e03a1812_9610_11ea_96bf_b808cfc629dcrow2_col7\" class=\"data row2 col7\" >79.903904</td>\n",
       "                        <td id=\"T_e03a1812_9610_11ea_96bf_b808cfc629dcrow2_col8\" class=\"data row2 col8\" >0.637696</td>\n",
       "                        <td id=\"T_e03a1812_9610_11ea_96bf_b808cfc629dcrow2_col9\" class=\"data row2 col9\" >57340</td>\n",
       "                        <td id=\"T_e03a1812_9610_11ea_96bf_b808cfc629dcrow2_col10\" class=\"data row2 col10\" >6273</td>\n",
       "                        <td id=\"T_e03a1812_9610_11ea_96bf_b808cfc629dcrow2_col11\" class=\"data row2 col11\" >0.586530</td>\n",
       "            </tr>\n",
       "            <tr>\n",
       "                        <th id=\"T_e03a1812_9610_11ea_96bf_b808cfc629dclevel0_row3\" class=\"row_heading level0 row3\" >w2v with tfidf and pca</th>\n",
       "                        <td id=\"T_e03a1812_9610_11ea_96bf_b808cfc629dcrow3_col0\" class=\"data row3 col0\" >14190</td>\n",
       "                        <td id=\"T_e03a1812_9610_11ea_96bf_b808cfc629dcrow3_col1\" class=\"data row3 col1\" >20223</td>\n",
       "                        <td id=\"T_e03a1812_9610_11ea_96bf_b808cfc629dcrow3_col2\" class=\"data row3 col2\" >3852</td>\n",
       "                        <td id=\"T_e03a1812_9610_11ea_96bf_b808cfc629dcrow3_col3\" class=\"data row3 col3\" >17013</td>\n",
       "                        <td id=\"T_e03a1812_9610_11ea_96bf_b808cfc629dcrow3_col4\" class=\"data row3 col4\" >0.840000</td>\n",
       "                        <td id=\"T_e03a1812_9610_11ea_96bf_b808cfc629dcrow3_col5\" class=\"data row3 col5\" >0.543103</td>\n",
       "                        <td id=\"T_e03a1812_9610_11ea_96bf_b808cfc629dcrow3_col6\" class=\"data row3 col6\" >0.492188</td>\n",
       "                        <td id=\"T_e03a1812_9610_11ea_96bf_b808cfc629dcrow3_col7\" class=\"data row3 col7\" >103.342342</td>\n",
       "                        <td id=\"T_e03a1812_9610_11ea_96bf_b808cfc629dcrow3_col8\" class=\"data row3 col8\" >0.675431</td>\n",
       "                        <td id=\"T_e03a1812_9610_11ea_96bf_b808cfc629dcrow3_col9\" class=\"data row3 col9\" >41730</td>\n",
       "                        <td id=\"T_e03a1812_9610_11ea_96bf_b808cfc629dcrow3_col10\" class=\"data row3 col10\" >14190</td>\n",
       "                        <td id=\"T_e03a1812_9610_11ea_96bf_b808cfc629dcrow3_col11\" class=\"data row3 col11\" >0.659686</td>\n",
       "            </tr>\n",
       "    </tbody></table>"
      ],
      "text/plain": [
       "<pandas.io.formats.style.Styler at 0x19596cfe108>"
      ]
     },
     "execution_count": 93,
     "metadata": {},
     "output_type": "execute_result"
    }
   ],
   "source": [
    "cm = sns.light_palette(\"orange\", as_cmap=True)\n",
    "\n",
    "(counting_pair_df.style\n",
    "  .background_gradient(cmap=cm, subset=['n00','n00', 'n11', 'n10', 'n01', 'precision', 'recall', \n",
    "                         'Jacard Similarity', 'Rand Similarity', 'Fowlkes Similarity', 'Mirkin Similarity',\n",
    "                         'Partition Similarity', 'Dice Similarity'])\n",
    "  .highlight_max(subset=['n00', 'n00', 'n11', 'n10', 'n01', 'precision', 'recall', \n",
    "                         'Jacard Similarity', 'Rand Similarity', 'Fowlkes Similarity', 'Mirkin Similarity',\n",
    "                         'Partition Similarity', 'Dice Similarity'])\n",
    "  .set_caption('Highest to lowest - Yellow to Orange')\n",
    "  .format({'total_amt_usd_pct_diff': \"{:.2%}\"})\n",
    "  .set_table_styles(styles))"
   ]
  },
  {
   "cell_type": "markdown",
   "metadata": {},
   "source": [
    "After these evaluations, it is observed that Word2Vector with PCA model is giving the better results comparatively."
   ]
  },
  {
   "cell_type": "code",
   "execution_count": 94,
   "metadata": {},
   "outputs": [],
   "source": [
    "# <!-- ### Word2Vec Hyper-Parameters Measure -->"
   ]
  },
  {
   "cell_type": "code",
   "execution_count": 95,
   "metadata": {},
   "outputs": [],
   "source": [
    "# def hyperparameters(s, win, m, wor): \n",
    "#     bigrams = phrases.Phrases(datanew)\n",
    "#     # model = Word2Vec(datanew, size=100, window= 5, min_count=2, workers=4)\n",
    "#     model = Word2Vec(bigrams[datanew], size=s, window=win, min_count=m, workers=wor)\n",
    "#     word_vectors = model.wv   \n",
    "#     l = []\n",
    "#     for i in datanew:\n",
    "#         l.append(vectorizer(i, model))\n",
    "#     X = np.array(l)\n",
    "#     n = 4\n",
    "#     kmeans = KMeans (n_clusters = n,\n",
    "#                     max_iter = 100,\n",
    "#                     init = 'k-means++',\n",
    "#                     n_init = 1)\n",
    "#     K_labels = kmeans.fit_predict(X)\n",
    "#     print(\"kmeans\")\n",
    "#     clusterReport(X, K_labels)\n",
    "\n",
    "#     Hcluster_euclidean = AgglomerativeClustering(n_clusters=4, affinity='euclidean', linkage='ward')\n",
    "#     H_labels = Hcluster_euclidean.fit_predict(X)\n",
    "#     print(\"Hierarcheal\")\n",
    "#     clusterReport(X, H_labels)\n",
    "    \n",
    "#     counting_pair_measures(K_labels, H_labels)\n",
    "    "
   ]
  },
  {
   "cell_type": "code",
   "execution_count": 96,
   "metadata": {},
   "outputs": [],
   "source": [
    "# hyperparameters(200, 5, 2, 4)\n",
    "# print('\\n')\n",
    "# hyperparameters(100, 5, 2, 4)\n",
    "# print('\\n')\n",
    "# hyperparameters(50, 5, 2, 4)"
   ]
  },
  {
   "cell_type": "code",
   "execution_count": null,
   "metadata": {},
   "outputs": [],
   "source": []
  },
  {
   "cell_type": "code",
   "execution_count": 97,
   "metadata": {},
   "outputs": [],
   "source": [
    "# file1 = open(\"TopicModelling.txt\",\"w\") "
   ]
  },
  {
   "cell_type": "code",
   "execution_count": 98,
   "metadata": {},
   "outputs": [],
   "source": [
    "\n",
    "# file1.write(\"Word2Vector \\n\")\n",
    "\n",
    "# file1.write(\"\\n Word2vector with bigrams\\n\")\n",
    "# file1.write(\"Using Kmeans Clustering\\n\")\n",
    "# file1.write(\"%s\" % w2v_euclidean_labels)\n",
    "# file1.write(\"\\n Using Hieracheal Clustering\\n\")\n",
    "# file1.write(\"%s\" % Hw2v_euclidean_labels)\n",
    "\n",
    "\n",
    "# file1.write(\"\\n Word2vector with bigrams and pca\\n\")\n",
    "# file1.write(\"Using Kmeans Clustering\\n\")\n",
    "# file1.write(\"%s\" % w2vpca_euclidean_labels)\n",
    "# file1.write(\"\\n Using Hieracheal Clustering\\n\")\n",
    "# file1.write(\"%s\" % Hw2v_pca_euclidean_labels)\n",
    "\n",
    "# file1.write(\"\\n Word2vector with TFIDF\\n\")\n",
    "# file1.write(\"Using Kmeans Clustering\\n\")\n",
    "# file1.write(\"%s\" % w2vtfidf_euclidean_labels)\n",
    "# file1.write(\"\\n Using Hieracheal Clustering\\n\")\n",
    "# file1.write(\"%s\" % Hw2v_tfidf_euclidean_labels)\n",
    "\n",
    "# file1.write(\"\\n Word2vector with TFIDF and pca\\n\")\n",
    "# file1.write(\"Using Kmeans Clustering\\n\")\n",
    "# file1.write(\"%s\" %  w2v_tfidf_pca_euclidean_labels)\n",
    "# file1.write(\"\\n Using Hieracheal Clustering\\n\")\n",
    "# file1.write(\"%s\" % Hw2v_tfidf_pca_euclidean_labels)\n",
    "\n",
    "# file1.write(\"\\n\")\n",
    "# file1.write(\"\\n Internal Evaluation for the clusters\\n\")\n",
    "# file1.write(\"\\n Word2vec for kmeans and hierarcheal\\n\")\n",
    "# file1.write(\"%s\" % word2vec_Kmeans_report)\n",
    "# file1.write(\"\\n\")\n",
    "# file1.write(\"%s\" % word2vec_h_report)\n",
    "\n",
    "# file1.write(\"\\n Word2vec with pca for kmeans and hierarcheal\\n\")\n",
    "# file1.write(\"%s\" % word2vec_pca_Kmeans_report )\n",
    "# file1.write(\"\\n\")\n",
    "# file1.write(\"%s\" % word2vec_pca_h_report)\n",
    "\n",
    "# file1.write(\"\\n Word2vec with tfidf with kmeans and hierarcheal\\n\")\n",
    "# file1.write(\"%s\" % word2vec_tfidf_Kmeans_report)\n",
    "# file1.write(\"\\n\")\n",
    "# file1.write(\"%s\" % word2vec_tfidf_h_report)\n",
    "\n",
    "# file1.write(\"\\n Word2vec wit tfidf and pca with kmeans and hierarcheal\\n\")\n",
    "# file1.write(\"%s\" % word2vec_tfidf_pca_Kmeans_report)\n",
    "# file1.write(\"\\n\")\n",
    "# file1.write(\"%s\" % word2vec_tfidf_pca_h_report)\n",
    "\n",
    "# file1.write(\"\\n Counting pair evaluation\\n\")\n",
    "\n",
    "# file1.write(\"\\n Comparing word2vec kmeans and hierarcheal\\n\")\n",
    "# file1.write(\"%s\" % word2vec_k_h)\n",
    "# file1.write(\"\\n Comparing word2vec pca kmeans and hierarcheal\\n\")\n",
    "# file1.write(\"%s\" % word2vec_pca_k_h )\n",
    "# file1.write(\"\\n Comparing word2vec tfidf kmeans and hierarcheal\\n\")\n",
    "# file1.write(\"%s\" % word2vec_tfidf_k_h)\n",
    "# file1.write(\"\\n Comparing word2vec tfidf with pca kmeans and hierarcheal\\n\")\n",
    "# file1.write(\"%s\" % word2vec_tfidf_pca_k_h)\n",
    "\n",
    "# file1.write(\"\\n\")\n",
    "# file1.write(\"Latent Semantic Analysis \\n\")\n",
    "# file1.write(\"Latent Semantic Analysis produces a similarity matrix for the corpus and clusters are computed those matrix.\\n\")\n",
    "# file1.write(\"LSA Cluster using Spectral Clustering: %s\" % lsa_cluster_array)\n",
    "# file1.write(\"\\n\")\n",
    "# file1.write(\"LSA Cluster using Spectral Clustering: %s\" % lsa_dbscan)\n",
    "# file1.write(\"\\n\")\n",
    "\n",
    "\n",
    "# file1.write(\"\\n\")\n",
    "# file1.write(\"Latent Dirichlet Allocation \\n\")\n",
    "# file1.write(\"LDA Model %s\" % lda_model)\n",
    "# file1.write(\"\\n\")\n",
    "# file1.write(\"LDA word percentages for each cluster: %s\" % lda_words)\n",
    "# file1.write(\"\\n\")\n",
    "\n",
    "\n",
    "# file1.write(\"\\n\")\n",
    "# file1.write(\"Non Negative Matrix Factorization \\n\")\n",
    "# file1.write(\"NMF Parameters: %s\" % nmf_model)\n",
    "# file1.write(\"\\n\")\n",
    "# file1.write(\"Frequent words in NMF for each cluster \\n\")\n",
    "# file1.write(\"%s\" % freq_words)\n",
    "# file1.write(\"\\n\")\n",
    "# file1.write(\"NMF labels\\n\")\n",
    "# file1.write(\"%s\" % nmf_labels)\n",
    "# file1.write(\"\\n\")\n",
    "# file1.write(\"cluster counts \\n\")\n",
    "# file1.write(\"%s\" % counts)\n",
    "# file1.write(\"\\n\")\n",
    "\n",
    "\n",
    "\n",
    "\n",
    "\n"
   ]
  },
  {
   "cell_type": "code",
   "execution_count": null,
   "metadata": {},
   "outputs": [],
   "source": []
  },
  {
   "cell_type": "markdown",
   "metadata": {},
   "source": [
    "# 2. Latent Semantic Analysis"
   ]
  },
  {
   "cell_type": "code",
   "execution_count": 99,
   "metadata": {},
   "outputs": [],
   "source": [
    "import sklearn\n",
    "from sklearn.decomposition import TruncatedSVD\n",
    "from sklearn.feature_extraction.text import TfidfVectorizer\n",
    "from sklearn.feature_extraction.text import CountVectorizer\n",
    "from sklearn.preprocessing import Normalizer\n",
    "from sklearn import metrics\n",
    "from sklearn.cluster import KMeans, MiniBatchKMeans"
   ]
  },
  {
   "cell_type": "code",
   "execution_count": 100,
   "metadata": {},
   "outputs": [],
   "source": [
    "def lsa_similarity_matrix():\n",
    "#     vectorizer values\n",
    "    vectorizer = CountVectorizer(min_df = 1, stop_words = 'english')\n",
    "    dtm = vectorizer.fit_transform(Text['Updated'])\n",
    "    \n",
    "#     pd.DataFrame(dtm.toarray(),index=Text['Division'],columns=vectorizer.get_feature_names\n",
    "#     ()).head(10)\n",
    "\n",
    "#     All the feature names of the words in the documents\n",
    "    vectorizer.get_feature_names()\n",
    "    \n",
    "#     Lsa method - reduced to 2 vectors\n",
    "    lsa = TruncatedSVD(2, algorithm = 'randomized')\n",
    "    dtm_lsa = lsa.fit_transform(dtm)\n",
    "    dtm_lsa = Normalizer(copy=False).fit_transform(dtm_lsa)\n",
    "    \n",
    "#     Prints the data frame with 2 components as rows and words as columns\n",
    "    pd.DataFrame(lsa.components_,index = [\"component_1\",\"component_2\"],columns =\n",
    "    vectorizer.get_feature_names())\n",
    "    \n",
    "#     Prints the data frame with 2 vector components as columns and documents as rows\n",
    "    pd.DataFrame(dtm_lsa, index = Text['Division'], columns = [\"component_1\",\"component_2\"])\n",
    "    \n",
    "#     Similarity between the 2 Component vectors.\n",
    "    similarity = np.asarray(np.asmatrix(dtm_lsa) * np.asmatrix(dtm_lsa).T)\n",
    "    \n",
    "#     prints the similarity between all the documents in the form of matrix\n",
    "    similarity_matrix = pd.DataFrame(similarity,index=Text['Division'], columns=Text['Division'])\n",
    "    return similarity_matrix\n",
    "    "
   ]
  },
  {
   "cell_type": "code",
   "execution_count": 101,
   "metadata": {},
   "outputs": [],
   "source": [
    "# calls the function lsa \n",
    "similarity_matrix = lsa_similarity_matrix()\n",
    "# similarity_matrix"
   ]
  },
  {
   "cell_type": "markdown",
   "metadata": {},
   "source": [
    "LSA gives a similarity matix which gives the vectors as output in dataframe. \n",
    "The data frame has similarity between all the documents in the form of matrix"
   ]
  },
  {
   "cell_type": "markdown",
   "metadata": {},
   "source": [
    "### Clustering"
   ]
  },
  {
   "cell_type": "markdown",
   "metadata": {},
   "source": [
    "The clustering is done using two techniques.\n",
    "1. Spectral Clustering\n",
    "2. DB Scan"
   ]
  },
  {
   "cell_type": "markdown",
   "metadata": {},
   "source": [
    "1. Spectral clusterung is applied for a similarity matrix."
   ]
  },
  {
   "cell_type": "code",
   "execution_count": 102,
   "metadata": {},
   "outputs": [],
   "source": [
    "import numpy as np\n",
    "from sklearn.cluster import SpectralClustering"
   ]
  },
  {
   "cell_type": "code",
   "execution_count": 103,
   "metadata": {},
   "outputs": [],
   "source": [
    "def spectral_cluster(similarity_matrix, n):\n",
    "\n",
    "    lsa_cluster_array = SpectralClustering(n).fit_predict(similarity_matrix)\n",
    "    return lsa_cluster_array"
   ]
  },
  {
   "cell_type": "code",
   "execution_count": 104,
   "metadata": {},
   "outputs": [
    {
     "name": "stdout",
     "output_type": "stream",
     "text": [
      "   Cluster  Count\n",
      "0        1     26\n",
      "1        0    228\n",
      "2        2     37\n",
      "3        3     42\n"
     ]
    },
    {
     "data": {
      "image/png": "[encoded data removed]",
      "text/plain": [
       "<Figure size 432x288 with 1 Axes>"
      ]
     },
     "metadata": {},
     "output_type": "display_data"
    }
   ],
   "source": [
    "lsa_cluster_array = spectral_cluster(similarity_matrix, 4)\n",
    "# lsa_cluster_array\n",
    "pie_chart(lsa_cluster_array)"
   ]
  },
  {
   "cell_type": "markdown",
   "metadata": {},
   "source": [
    "2. For the cases you want the algorithm to figure out the number of clusters by itself, \n",
    "you can use Density Based Clustering Algorithms like DBSCAN:"
   ]
  },
  {
   "cell_type": "code",
   "execution_count": 105,
   "metadata": {},
   "outputs": [
    {
     "name": "stdout",
     "output_type": "stream",
     "text": [
      "    Cluster  Count\n",
      "0         0     21\n",
      "1         1    216\n",
      "2         2      3\n",
      "3         3      3\n",
      "4         4     30\n",
      "5         5      2\n",
      "6         6      1\n",
      "7         7      1\n",
      "8         8      9\n",
      "9         9      3\n",
      "10       10     39\n",
      "11       11      1\n",
      "12       12      1\n",
      "13       13      1\n",
      "14       14      1\n",
      "15       15      1\n"
     ]
    },
    {
     "data": {
      "image/png": "[encoded data removed]",
      "text/plain": [
       "<Figure size 432x288 with 1 Axes>"
      ]
     },
     "metadata": {},
     "output_type": "display_data"
    }
   ],
   "source": [
    "from sklearn.cluster import DBSCAN\n",
    "lsa_dbscan = DBSCAN(min_samples=1).fit_predict(similarity_matrix)\n",
    "pie_chart(lsa_dbscan)"
   ]
  },
  {
   "cell_type": "markdown",
   "metadata": {},
   "source": [
    "# Evaluation"
   ]
  },
  {
   "cell_type": "markdown",
   "metadata": {},
   "source": [
    "### Internal Evaluation"
   ]
  },
  {
   "cell_type": "code",
   "execution_count": 106,
   "metadata": {},
   "outputs": [],
   "source": [
    "lsa_spectral_report = clusterReport(similarity_matrix, lsa_cluster_array)\n",
    "lsa_dbscan_report = clusterReport(similarity_matrix, lsa_dbscan)\n",
    "\n",
    "lsa_report = [lsa_spectral_report, lsa_dbscan_report]\n",
    "\n",
    "lsa_internal_df = pd.DataFrame(lsa_report, \n",
    "               columns =[\"Silhoutte Score\", \"Calinski Score\", \"Davies Score\"], index = [\"LSA with spectral\", \"LSA with DBScan\"]) "
   ]
  },
  {
   "cell_type": "code",
   "execution_count": 107,
   "metadata": {},
   "outputs": [
    {
     "data": {
      "text/html": [
       "<style  type=\"text/css\" >\n",
       "    #T_e2120ad2_9610_11ea_8ca4_b808cfc629dc th {\n",
       "          font-size: 11px;\n",
       "          text-align: center;\n",
       "          font-weight: bold;\n",
       "          color: #6d6d6d;\n",
       "          background-color: #f7f7f9;\n",
       "    }    #T_e2120ad2_9610_11ea_8ca4_b808cfc629dc td {\n",
       "          font-size: 11px;\n",
       "    }    #T_e2120ad2_9610_11ea_8ca4_b808cfc629dcrow0_col0 {\n",
       "            background-color:  #ffa500;\n",
       "            color:  #000000;\n",
       "            background-color:  yellow;\n",
       "        }    #T_e2120ad2_9610_11ea_8ca4_b808cfc629dcrow0_col1 {\n",
       "            background-color:  #ffa500;\n",
       "            color:  #000000;\n",
       "            background-color:  yellow;\n",
       "        }    #T_e2120ad2_9610_11ea_8ca4_b808cfc629dcrow0_col2 {\n",
       "            background-color:  #ffa500;\n",
       "            color:  #000000;\n",
       "            background-color:  yellow;\n",
       "        }    #T_e2120ad2_9610_11ea_8ca4_b808cfc629dcrow1_col0 {\n",
       "            background-color:  #fff6e5;\n",
       "            color:  #000000;\n",
       "            : ;\n",
       "        }    #T_e2120ad2_9610_11ea_8ca4_b808cfc629dcrow1_col1 {\n",
       "            background-color:  #fff6e5;\n",
       "            color:  #000000;\n",
       "            : ;\n",
       "        }    #T_e2120ad2_9610_11ea_8ca4_b808cfc629dcrow1_col2 {\n",
       "            background-color:  #fff6e5;\n",
       "            color:  #000000;\n",
       "            : ;\n",
       "        }</style><table id=\"T_e2120ad2_9610_11ea_8ca4_b808cfc629dc\" ><caption>Highest to lowest - Yellow to Orange</caption><thead>    <tr>        <th class=\"blank level0\" ></th>        <th class=\"col_heading level0 col0\" >Silhoutte Score</th>        <th class=\"col_heading level0 col1\" >Calinski Score</th>        <th class=\"col_heading level0 col2\" >Davies Score</th>    </tr></thead><tbody>\n",
       "                <tr>\n",
       "                        <th id=\"T_e2120ad2_9610_11ea_8ca4_b808cfc629dclevel0_row0\" class=\"row_heading level0 row0\" >LSA with spectral</th>\n",
       "                        <td id=\"T_e2120ad2_9610_11ea_8ca4_b808cfc629dcrow0_col0\" class=\"data row0 col0\" >0.742229</td>\n",
       "                        <td id=\"T_e2120ad2_9610_11ea_8ca4_b808cfc629dcrow0_col1\" class=\"data row0 col1\" >1459.340080</td>\n",
       "                        <td id=\"T_e2120ad2_9610_11ea_8ca4_b808cfc629dcrow0_col2\" class=\"data row0 col2\" >0.303644</td>\n",
       "            </tr>\n",
       "            <tr>\n",
       "                        <th id=\"T_e2120ad2_9610_11ea_8ca4_b808cfc629dclevel0_row1\" class=\"row_heading level0 row1\" >LSA with DBScan</th>\n",
       "                        <td id=\"T_e2120ad2_9610_11ea_8ca4_b808cfc629dcrow1_col0\" class=\"data row1 col0\" >0.471758</td>\n",
       "                        <td id=\"T_e2120ad2_9610_11ea_8ca4_b808cfc629dcrow1_col1\" class=\"data row1 col1\" >486.515150</td>\n",
       "                        <td id=\"T_e2120ad2_9610_11ea_8ca4_b808cfc629dcrow1_col2\" class=\"data row1 col2\" >0.285430</td>\n",
       "            </tr>\n",
       "    </tbody></table>"
      ],
      "text/plain": [
       "<pandas.io.formats.style.Styler at 0x19592eda288>"
      ]
     },
     "execution_count": 107,
     "metadata": {},
     "output_type": "execute_result"
    }
   ],
   "source": [
    "cm = sns.light_palette(\"orange\", as_cmap=True)\n",
    "\n",
    "(lsa_internal_df.style\n",
    "  .background_gradient(cmap=cm, subset=[\"Silhoutte Score\", \"Calinski Score\", \"Davies Score\"])\n",
    "  .highlight_max(subset=[\"Silhoutte Score\", \"Calinski Score\", \"Davies Score\"])\n",
    "  .set_caption('Highest to lowest - Yellow to Orange')\n",
    "  .format({'total_amt_usd_pct_diff': \"{:.2%}\"})\n",
    "  .set_table_styles(styles))"
   ]
  },
  {
   "cell_type": "markdown",
   "metadata": {},
   "source": [
    "### Counting Pair evaluation between spectral and DBscan"
   ]
  },
  {
   "cell_type": "code",
   "execution_count": 108,
   "metadata": {},
   "outputs": [],
   "source": [
    "lsa_spectral_dbscan = counting_pair_measures(lsa_cluster_array, lsa_dbscan)\n",
    "lsa_spectral_dbscan = [lsa_spectral_dbscan]"
   ]
  },
  {
   "cell_type": "code",
   "execution_count": 109,
   "metadata": {},
   "outputs": [
    {
     "data": {
      "text/html": [
       "<div>\n",
       "<style scoped>\n",
       "    .dataframe tbody tr th:only-of-type {\n",
       "        vertical-align: middle;\n",
       "    }\n",
       "\n",
       "    .dataframe tbody tr th {\n",
       "        vertical-align: top;\n",
       "    }\n",
       "\n",
       "    .dataframe thead th {\n",
       "        text-align: right;\n",
       "    }\n",
       "</style>\n",
       "<table border=\"1\" class=\"dataframe\">\n",
       "  <thead>\n",
       "    <tr style=\"text-align: right;\">\n",
       "      <th></th>\n",
       "      <th>n00</th>\n",
       "      <th>n11</th>\n",
       "      <th>n10</th>\n",
       "      <th>n01</th>\n",
       "      <th>precision</th>\n",
       "      <th>recall</th>\n",
       "      <th>Jacard Similarity</th>\n",
       "      <th>Rand Similarity</th>\n",
       "      <th>Fowlkes Similarity</th>\n",
       "      <th>Mirkin Similarity</th>\n",
       "      <th>Partition Similarity</th>\n",
       "      <th>Dice Similarity</th>\n",
       "    </tr>\n",
       "  </thead>\n",
       "  <tbody>\n",
       "    <tr>\n",
       "      <th>LSA between spectral and dbscan</th>\n",
       "      <td>27548</td>\n",
       "      <td>24652</td>\n",
       "      <td>3078</td>\n",
       "      <td>0</td>\n",
       "      <td>0.889001</td>\n",
       "      <td>1.0</td>\n",
       "      <td>0.889001</td>\n",
       "      <td>156.756757</td>\n",
       "      <td>0.942869</td>\n",
       "      <td>6156</td>\n",
       "      <td>27548</td>\n",
       "      <td>0.941239</td>\n",
       "    </tr>\n",
       "  </tbody>\n",
       "</table>\n",
       "</div>"
      ],
      "text/plain": [
       "                                   n00    n11   n10  n01  precision  recall  \\\n",
       "LSA between spectral and dbscan  27548  24652  3078    0   0.889001     1.0   \n",
       "\n",
       "                                 Jacard Similarity  Rand Similarity  \\\n",
       "LSA between spectral and dbscan           0.889001       156.756757   \n",
       "\n",
       "                                 Fowlkes Similarity  Mirkin Similarity  \\\n",
       "LSA between spectral and dbscan            0.942869               6156   \n",
       "\n",
       "                                 Partition Similarity  Dice Similarity  \n",
       "LSA between spectral and dbscan                 27548         0.941239  "
      ]
     },
     "execution_count": 109,
     "metadata": {},
     "output_type": "execute_result"
    }
   ],
   "source": [
    "lsa_counting_pair_df = pd.DataFrame(lsa_spectral_dbscan, \n",
    "               columns =['n00', 'n11', 'n10', 'n01', 'precision', 'recall', \n",
    "                         'Jacard Similarity', 'Rand Similarity', 'Fowlkes Similarity', 'Mirkin Similarity',\n",
    "                         'Partition Similarity', 'Dice Similarity'], index = [\"LSA between spectral and dbscan\"]) \n",
    "lsa_counting_pair_df"
   ]
  },
  {
   "cell_type": "markdown",
   "metadata": {},
   "source": [
    "# 3. Latent Dirichlet Allocation"
   ]
  },
  {
   "cell_type": "code",
   "execution_count": 110,
   "metadata": {},
   "outputs": [],
   "source": [
    "from gensim import corpora, models\n",
    "\n",
    "# list_of_list_of_tokens = [[\"a\",\"b\",\"c\"], [\"d\",\"e\",\"f\"]]\n",
    "# [\"a\",\"b\",\"c\"] are the tokens of document 1, [\"d\",\"e\",\"f\"] are the tokens of document 2...\n",
    "# dictionary_LDA = corpora.Dictionary(list_of_list_of_tokens)\n",
    "\n",
    "\n",
    "dictionary_LDA = corpora.Dictionary(datanew)\n",
    "dictionary_LDA.filter_extremes(no_below=3)\n",
    "corpus = [dictionary_LDA.doc2bow(list_of_tokens) for list_of_tokens in datanew]\n"
   ]
  },
  {
   "cell_type": "code",
   "execution_count": 111,
   "metadata": {},
   "outputs": [],
   "source": [
    "# for k, v in dictionary_LDA.items():\n",
    "#     print(v)"
   ]
  },
  {
   "cell_type": "code",
   "execution_count": 112,
   "metadata": {},
   "outputs": [],
   "source": [
    "# corpus"
   ]
  },
  {
   "cell_type": "code",
   "execution_count": 113,
   "metadata": {},
   "outputs": [],
   "source": [
    "# len(corpus)"
   ]
  },
  {
   "cell_type": "code",
   "execution_count": 114,
   "metadata": {},
   "outputs": [],
   "source": [
    "def lda():\n",
    "    num_topics = 4\n",
    "    lda_model = models.LdaModel(corpus, num_topics=num_topics, \\\n",
    "                                      id2word=dictionary_LDA, \\\n",
    "                                      passes=4, alpha=[0.01]*num_topics, \\\n",
    "                                      eta=[0.01]*len(dictionary_LDA.keys()))\n",
    "    lda_words = {}\n",
    "    for i,topic in lda_model.show_topics(formatted=True, num_topics=num_topics, num_words=10):\n",
    "        print(str(i)+\": \"+ topic)\n",
    "        lda_words[i] = topic\n",
    "    return lda_model, lda_words\n",
    "    "
   ]
  },
  {
   "cell_type": "code",
   "execution_count": 115,
   "metadata": {},
   "outputs": [
    {
     "name": "stdout",
     "output_type": "stream",
     "text": [
      "word distribuion in each cluster\n",
      "0: 0.068*\"movi\" + 0.039*\"I\" + 0.022*\"watch\" + 0.017*\"cricket\" + 0.016*\"medic\" + 0.015*\"peopl\" + 0.015*\"tenni\" + 0.015*\"the\" + 0.012*\"trump\" + 0.012*\"best\"\n",
      "1: 0.062*\"tenni\" + 0.039*\"the\" + 0.031*\"year\" + 0.023*\"day\" + 0.021*\"player\" + 0.020*\"icc\" + 0.016*\"show\" + 0.016*\"test\" + 0.014*\"cricket\" + 0.013*\"I\"\n",
      "2: 0.037*\"tenni\" + 0.035*\"cricket\" + 0.021*\"australian\" + 0.020*\"one\" + 0.019*\"australia\" + 0.019*\"play\" + 0.018*\"medic\" + 0.016*\"today\" + 0.015*\"A\" + 0.015*\"year\"\n",
      "3: 0.046*\"medic\" + 0.025*\"tenni\" + 0.022*\"cricket\" + 0.021*\"doctor\" + 0.017*\"new\" + 0.016*\"world\" + 0.016*\"amp\" + 0.016*\"the\" + 0.014*\"senat\" + 0.012*\"modi\"\n"
     ]
    }
   ],
   "source": [
    "print(\"word distribuion in each cluster\")\n",
    "lda_model, lda_words = lda()"
   ]
  },
  {
   "cell_type": "code",
   "execution_count": 116,
   "metadata": {},
   "outputs": [],
   "source": [
    "# lda_model.get_topic_terms(topicid = 2, topn=20)"
   ]
  },
  {
   "cell_type": "code",
   "execution_count": 117,
   "metadata": {},
   "outputs": [],
   "source": [
    "# lda_model.get_term_topics(word_id = 288, minimum_probability=None)"
   ]
  },
  {
   "cell_type": "code",
   "execution_count": 118,
   "metadata": {},
   "outputs": [],
   "source": [
    "# for i in corpus:\n",
    "#     print(lda_model[i])"
   ]
  },
  {
   "cell_type": "code",
   "execution_count": 119,
   "metadata": {},
   "outputs": [],
   "source": [
    "# for a in lda_model.get_document_topics(bow = corpus, minimum_probability=None, minimum_phi_value=None, per_word_topics=False):\n",
    "#     print(a)\n",
    "    "
   ]
  },
  {
   "cell_type": "code",
   "execution_count": 120,
   "metadata": {},
   "outputs": [
    {
     "data": {
      "text/html": [
       "\n",
       "<link rel=\"stylesheet\" type=\"text/css\" href=\"https://cdn.rawgit.com/bmabey/pyLDAvis/files/ldavis.v1.0.0.css\">\n",
       "\n",
       "\n",
       "<div id=\"ldavis_el1175217419275826644112704463\"></div>\n",
       "<script type=\"text/javascript\">\n",
       "\n",
       "var ldavis_el1175217419275826644112704463_data = {\"mdsDat\": {\"x\": [0.02911717110376845, 0.01410103732969232, -0.2040534402232394, 0.16083523178977868], \"y\": [-0.17501612434700217, 0.16459144905910747, -0.0030102584409597917, 0.013434933728854369], \"topics\": [1, 2, 3, 4], \"cluster\": [1, 1, 1, 1], \"Freq\": [26.617839813232422, 26.430452346801758, 23.60651969909668, 23.34519386291504]}, \"tinfo\": {\"Term\": [\"movi\", \"doctor\", \"australia\", \"the\", \"australian\", \"year\", \"watch\", \"icc\", \"I\", \"day\", \"world\", \"show\", \"tenni\", \"medic\", \"one\", \"modi\", \"trump\", \"season\", \"stan\", \"rais\", \"play\", \"you\\u2019r\", \"senat\", \"player\", \"today\", \"impeach\", \"best\", \"last\", \"bushfir\", \"open\", \"far\", \"realli\", \"also\", \"decid\", \"nawaz\", \"Dr\", \"dad\", \"submit\", \"adnan\", \"drkhan\", \"condit\", \"use\", \"best\", \"watch\", \"that\", \"magic\", \"said\", \"let\", \"No\", \"social\", \"virat\", \"So\", \"13\", \"climat\", \"read\", \"end\", \"movi\", \"report\", \"ever\", \"got\", \"I\", \"peopl\", \"like\", \"trump\", \"think\", \"real\", \"get\", \"still\", \"and\", \"cricket\", \"thi\", \"the\", \"medic\", \"great\", \"want\", \"tenni\", \"If\", \"We\", \"play\", \"champion\", \"olivi\", \"chelsea\", \"power\", \"inter\", \"they\", \"amaz\", \"recommend\", \"giroud\", \"better\", \"last\", \"offer\", \"text\", \"most\", \"relat\", \"protest\", \"agreement\", \"she\\u2019\", \"show\", \"support\", \"come\", \"when\", \"test\", \"ukrain\", \"could\", \"someth\", \"prosecutor\", \"releas\", \"yovanovitch\", \"sander\", \"day\", \"player\", \"year\", \"the\", \"icc\", \"tenni\", \"open\", \"first\", \"run\", \"still\", \"trump\", \"odi\", \"team\", \"cricket\", \"I\", \"one\", \"think\", \"australian\", \"medic\", \"want\", \"new\", \"name\", \"modi\", \"life\", \"would\", \"1\", \"compani\", \"doctor\", \"season\", \"stan\", \"you\\u2019r\", \"seri\", \"bodi\", \"send\", \"impeach\", \"democrat\", \"articl\", \"latest\", \"that\\u2026\", \"robert\", \"hyde\", \"ball\", \"senat\", \"PM\", \"resign\", \"look\", \"black\", \"nike\", \"world\", \"skirt\", \"announc\", \"student\", \"issu\", \"associ\", \"indian\", \"how\", \"medic\", \"amp\", \"polit\", \"new\", \"cricket\", \"tenni\", \"My\", \"|\", \"the\", \"team\", \"night\", \"thi\", \"movi\", \"day\", \"time\", \"point\", \"\\ud83d\\udc4f\", \"mani\", \"word\", \"india\", \"nadal\", \"australia\", \"reason\", \"rais\", \"saw\", \"rally4relief\", \"moment\", \"girl\", \"bushfir\", \"relief\", \"game\", \"feder\", \"big\", \"biggest\", \"Of\", \"serena\", \"william\", \"nickkyrgio\", \"tri\", \"cricketcomau\", \"today\", \"incred\", \"young\", \"die\", \"wednesday\", \"australian\", \"play\", \"one\", \"It\", \"A\", \"cricket\", \"tenni\", \"win\", \"2019\", \"icc\", \"make\", \"new\", \"year\", \"medic\", \"good\", \"award\", \"amp\", \"I\", \"right\", \"peopl\", \"movi\", \"way\", \"player\"], \"Freq\": [45.0, 9.0, 8.0, 32.0, 13.0, 23.0, 12.0, 16.0, 31.0, 16.0, 10.0, 8.0, 62.0, 39.0, 15.0, 5.0, 10.0, 5.0, 5.0, 5.0, 13.0, 5.0, 7.0, 15.0, 9.0, 5.0, 6.0, 4.0, 5.0, 9.0, 2.9197463989257812, 2.919748544692993, 2.9197492599487305, 2.9197232723236084, 4.746509075164795, 3.7764644622802734, 2.8064217567443848, 2.806419610977173, 2.8064208030700684, 2.8064208030700684, 2.7618699073791504, 3.6496801376342773, 5.82985782623291, 10.566726684570312, 4.7465033531188965, 3.8897433280944824, 3.8897576332092285, 3.7764620780944824, 2.919745445251465, 2.919745445251465, 5.8298516273498535, 2.919748306274414, 2.9197494983673096, 2.9197452068328857, 2.919743061065674, 2.919739007949829, 32.73897933959961, 2.806417942047119, 4.13942289352417, 2.725778341293335, 18.86914825439453, 7.253624439239502, 5.603226184844971, 5.943162441253662, 4.8598175048828125, 3.7433853149414062, 4.9362688064575195, 4.652566432952881, 3.889782667160034, 8.329633712768555, 4.746500492095947, 7.074222087860107, 7.572977542877197, 3.889786720275879, 4.539923667907715, 7.132126808166504, 3.8897781372070312, 3.8897862434387207, 3.8897838592529297, 3.9523746967315674, 2.9667270183563232, 2.9667248725891113, 2.9667258262634277, 2.9667234420776367, 2.966726064682007, 2.9667258262634277, 2.9667253494262695, 2.9667229652404785, 2.966656446456909, 4.822871685028076, 3.837228536605835, 3.7778725624084473, 2.808889150619507, 3.7220799922943115, 2.789954900741577, 2.760350227355957, 2.6940174102783203, 7.766130447387695, 2.579101324081421, 4.793043613433838, 2.9667253494262695, 7.40087890625, 3.6400978565216064, 3.623784303665161, 2.8515710830688477, 2.8515748977661133, 2.851576328277588, 3.3549842834472656, 2.7049787044525146, 10.986236572265625, 10.194991111755371, 14.623801231384277, 18.5430908203125, 9.751099586486816, 29.501056671142578, 5.808515548706055, 4.822873592376709, 4.50577449798584, 4.958093643188477, 4.822850227355957, 3.952371120452881, 4.822865009307861, 6.613237380981445, 6.086023330688477, 4.766883850097656, 3.952364921569824, 4.348284721374512, 5.461106300354004, 3.986790180206299, 4.021159648895264, 3.749631881713867, 5.013354778289795, 4.012669086456299, 3.0119895935058594, 3.0119926929473877, 3.011991262435913, 8.899192810058594, 4.89639949798584, 4.896459579467773, 4.833343029022217, 2.8950886726379395, 2.895087480545044, 2.883087396621704, 4.760818958282471, 3.778839349746704, 3.750216484069824, 2.8231537342071533, 2.7603213787078857, 4.559597492218018, 4.5596022605896, 2.6184775829315186, 5.75865364074707, 4.896450996398926, 2.341883420944214, 3.7996795177459717, 3.0119950771331787, 3.011993885040283, 7.014712810516357, 2.011310338973999, 2.0113120079040527, 2.0113086700439453, 2.0113089084625244, 4.980656147003174, 4.390460014343262, 4.896462440490723, 19.39703941345215, 6.860861778259277, 4.896455764770508, 7.064020156860352, 9.516931533813477, 10.705912590026855, 4.012674331665039, 4.01267147064209, 6.78091287612915, 4.762552738189697, 3.9870500564575195, 4.1296067237854, 4.6827239990234375, 4.071537494659424, 3.895772695541382, 3.076078176498413, 3.0760838985443115, 3.076073408126831, 3.0760738849639893, 3.0760741233825684, 3.0760717391967773, 8.066557884216309, 2.9897565841674805, 4.9429030418396, 2.9566876888275146, 2.914742946624756, 2.885448455810547, 2.8854236602783203, 4.745906352996826, 2.8279149532318115, 3.75056529045105, 3.9786674976348877, 2.3917009830474854, 3.900862216949463, 3.076078414916992, 3.076077699661255, 3.076079845428467, 3.076077938079834, 3.076002836227417, 2.956688404083252, 6.564764499664307, 2.054105281829834, 2.0541021823883057, 2.054089069366455, 2.054102659225464, 8.6422758102417, 7.825377941131592, 8.363363265991211, 4.8603129386901855, 6.426513671875, 14.545475959777832, 15.38876724243164, 5.0006327629089355, 4.489808559417725, 5.701808452606201, 3.957014322280884, 5.900906562805176, 6.32371711730957, 7.468874931335449, 4.098050594329834, 4.098048686981201, 4.731429100036621, 5.402482032775879, 3.8155806064605713, 3.9701621532440186, 4.282411575317383, 3.2905311584472656, 3.380356788635254], \"Total\": [45.0, 9.0, 8.0, 32.0, 13.0, 23.0, 12.0, 16.0, 31.0, 16.0, 10.0, 8.0, 62.0, 39.0, 15.0, 5.0, 10.0, 5.0, 5.0, 5.0, 13.0, 5.0, 7.0, 15.0, 9.0, 5.0, 6.0, 4.0, 5.0, 9.0, 2.949829578399658, 2.94983172416687, 2.9498324394226074, 2.9498064517974854, 4.895970344543457, 3.9259252548217773, 2.9516398906707764, 2.9558777809143066, 2.955880880355835, 2.9558818340301514, 2.9523465633392334, 3.9326136112213135, 6.881832599639893, 12.736218452453613, 5.913613319396973, 4.920331001281738, 4.920438766479492, 4.91146993637085, 3.935382127761841, 3.9353833198547363, 7.867382049560547, 3.9504313468933105, 3.950434923171997, 3.9504292011260986, 3.9504268169403076, 3.9717109203338623, 45.07463836669922, 3.956481695175171, 5.950331687927246, 3.938528060913086, 31.48517608642578, 12.877185821533203, 9.857303619384766, 10.786238670349121, 8.832408905029297, 5.923501968383789, 9.841099739074707, 9.82425308227539, 6.943057060241699, 39.005279541015625, 10.940027236938477, 32.55925750732422, 39.89999771118164, 6.94930362701416, 10.887168884277344, 62.72786331176758, 8.878019332885742, 9.979602813720703, 13.070107460021973, 3.982301950454712, 2.9966542720794678, 2.996652126312256, 2.9966530799865723, 2.9966506958007812, 2.9966533184051514, 2.9966530799865723, 2.996652603149414, 2.996650218963623, 2.9965837001800537, 4.966109752655029, 3.9865334033966064, 3.988685131072998, 2.9941322803497314, 3.984692096710205, 2.993814706802368, 3.0042214393615723, 2.9919686317443848, 8.923417091369629, 2.9964914321899414, 5.967127323150635, 3.9665963649749756, 9.95641803741455, 4.986544132232666, 5.013585090637207, 3.9647903442382812, 4.0014777183532715, 4.0228047370910645, 4.988434791564941, 4.028200149536133, 16.828428268432617, 15.901493072509766, 23.957204818725586, 32.55925750732422, 16.016904830932617, 62.72786331176758, 9.017607688903809, 7.964643478393555, 7.871133804321289, 9.82425308227539, 10.786238670349121, 7.008231163024902, 13.900666236877441, 39.005279541015625, 31.48517608642578, 15.089960098266602, 8.832408905029297, 13.157501220703125, 39.89999771118164, 10.887168884277344, 20.019145965576172, 9.045639991760254, 5.043131351470947, 4.042445659637451, 3.041766405105591, 3.041769504547119, 3.0417680740356445, 9.044102668762207, 5.039486408233643, 5.04136848449707, 5.040404796600342, 3.0399985313415527, 3.0442399978637695, 3.0378050804138184, 5.035384654998779, 4.043127059936523, 4.03438663482666, 3.0388941764831543, 3.0379464626312256, 5.03442907333374, 5.034435749053955, 3.0357205867767334, 7.021658420562744, 6.009516716003418, 3.049859046936035, 5.0248308181762695, 4.011714458465576, 4.011714458465576, 10.001358032226562, 3.011030912399292, 3.0266435146331787, 3.0266387462615967, 3.026639461517334, 8.008750915527344, 7.037944793701172, 8.053399085998535, 39.89999771118164, 15.076972007751465, 8.952594757080078, 20.019145965576172, 39.005279541015625, 62.72786331176758, 6.9668121337890625, 7.035556316375732, 32.55925750732422, 13.900666236877441, 7.99647855758667, 10.940027236938477, 45.07463836669922, 16.828428268432617, 8.981283187866211, 3.1056418418884277, 3.105647563934326, 3.1056370735168457, 3.105637550354004, 3.105638027191162, 3.105635643005371, 8.213011741638184, 3.1025171279907227, 5.1458821296691895, 3.0995633602142334, 3.0974197387695312, 3.095926523208618, 3.095921277999878, 5.139099597930908, 3.092989206314087, 4.11275577545166, 5.093310832977295, 3.0912978649139404, 5.09342622756958, 4.091195583343506, 4.091195106506348, 4.091198921203613, 4.091197490692139, 4.091117858886719, 4.088697910308838, 9.127772331237793, 3.053614616394043, 3.0536112785339355, 3.0535974502563477, 3.069220542907715, 13.157501220703125, 13.070107460021973, 15.089960098266602, 9.049161911010742, 13.114581108093262, 39.005279541015625, 62.72786331176758, 10.055339813232422, 9.076416015625, 16.016904830932617, 7.124570846557617, 20.019145965576172, 23.957204818725586, 39.89999771118164, 8.013045310974121, 8.02320671081543, 15.076972007751465, 31.48517608642578, 8.094254493713379, 12.877185821533203, 45.07463836669922, 7.075425148010254, 15.901493072509766], \"Category\": [\"Default\", \"Default\", \"Default\", \"Default\", \"Default\", \"Default\", \"Default\", \"Default\", \"Default\", \"Default\", \"Default\", \"Default\", \"Default\", \"Default\", \"Default\", \"Default\", \"Default\", \"Default\", \"Default\", \"Default\", \"Default\", \"Default\", \"Default\", \"Default\", \"Default\", \"Default\", \"Default\", \"Default\", \"Default\", \"Default\", \"Topic1\", \"Topic1\", \"Topic1\", \"Topic1\", \"Topic1\", \"Topic1\", \"Topic1\", \"Topic1\", \"Topic1\", \"Topic1\", \"Topic1\", \"Topic1\", \"Topic1\", \"Topic1\", \"Topic1\", \"Topic1\", \"Topic1\", \"Topic1\", \"Topic1\", \"Topic1\", \"Topic1\", \"Topic1\", \"Topic1\", \"Topic1\", \"Topic1\", \"Topic1\", \"Topic1\", \"Topic1\", \"Topic1\", \"Topic1\", \"Topic1\", \"Topic1\", \"Topic1\", \"Topic1\", \"Topic1\", \"Topic1\", \"Topic1\", \"Topic1\", \"Topic1\", \"Topic1\", \"Topic1\", \"Topic1\", \"Topic1\", \"Topic1\", \"Topic1\", \"Topic1\", \"Topic1\", \"Topic1\", \"Topic1\", \"Topic2\", \"Topic2\", \"Topic2\", \"Topic2\", \"Topic2\", \"Topic2\", \"Topic2\", \"Topic2\", \"Topic2\", \"Topic2\", \"Topic2\", \"Topic2\", \"Topic2\", \"Topic2\", \"Topic2\", \"Topic2\", \"Topic2\", \"Topic2\", \"Topic2\", \"Topic2\", \"Topic2\", \"Topic2\", \"Topic2\", \"Topic2\", \"Topic2\", \"Topic2\", \"Topic2\", \"Topic2\", \"Topic2\", \"Topic2\", \"Topic2\", \"Topic2\", \"Topic2\", \"Topic2\", \"Topic2\", \"Topic2\", \"Topic2\", \"Topic2\", \"Topic2\", \"Topic2\", \"Topic2\", \"Topic2\", \"Topic2\", \"Topic2\", \"Topic2\", \"Topic2\", \"Topic2\", \"Topic2\", \"Topic2\", \"Topic2\", \"Topic2\", \"Topic2\", \"Topic3\", \"Topic3\", \"Topic3\", \"Topic3\", \"Topic3\", \"Topic3\", \"Topic3\", \"Topic3\", \"Topic3\", \"Topic3\", \"Topic3\", \"Topic3\", \"Topic3\", \"Topic3\", \"Topic3\", \"Topic3\", \"Topic3\", \"Topic3\", \"Topic3\", \"Topic3\", \"Topic3\", \"Topic3\", \"Topic3\", \"Topic3\", \"Topic3\", \"Topic3\", \"Topic3\", \"Topic3\", \"Topic3\", \"Topic3\", \"Topic3\", \"Topic3\", \"Topic3\", \"Topic3\", \"Topic3\", \"Topic3\", \"Topic3\", \"Topic3\", \"Topic3\", \"Topic3\", \"Topic3\", \"Topic3\", \"Topic3\", \"Topic3\", \"Topic3\", \"Topic3\", \"Topic3\", \"Topic3\", \"Topic3\", \"Topic4\", \"Topic4\", \"Topic4\", \"Topic4\", \"Topic4\", \"Topic4\", \"Topic4\", \"Topic4\", \"Topic4\", \"Topic4\", \"Topic4\", \"Topic4\", \"Topic4\", \"Topic4\", \"Topic4\", \"Topic4\", \"Topic4\", \"Topic4\", \"Topic4\", \"Topic4\", \"Topic4\", \"Topic4\", \"Topic4\", \"Topic4\", \"Topic4\", \"Topic4\", \"Topic4\", \"Topic4\", \"Topic4\", \"Topic4\", \"Topic4\", \"Topic4\", \"Topic4\", \"Topic4\", \"Topic4\", \"Topic4\", \"Topic4\", \"Topic4\", \"Topic4\", \"Topic4\", \"Topic4\", \"Topic4\", \"Topic4\", \"Topic4\", \"Topic4\", \"Topic4\", \"Topic4\", \"Topic4\", \"Topic4\", \"Topic4\", \"Topic4\", \"Topic4\", \"Topic4\"], \"logprob\": [30.0, 29.0, 28.0, 27.0, 26.0, 25.0, 24.0, 23.0, 22.0, 21.0, 20.0, 19.0, 18.0, 17.0, 16.0, 15.0, 14.0, 13.0, 12.0, 11.0, 10.0, 9.0, 8.0, 7.0, 6.0, 5.0, 4.0, 3.0, 2.0, 1.0, -5.102099895477295, -5.102099895477295, -5.102099895477295, -5.102099895477295, -4.616199970245361, -4.844799995422363, -5.14169979095459, -5.14169979095459, -5.14169979095459, -5.14169979095459, -5.157700061798096, -4.879000186920166, -4.410600185394287, -3.8159000873565674, -4.616199970245361, -4.815299987792969, -4.815299987792969, -4.844799995422363, -5.102099895477295, -5.102099895477295, -4.410600185394287, -5.102099895477295, -5.102099895477295, -5.102099895477295, -5.102099895477295, -5.102099895477295, -2.6851000785827637, -5.14169979095459, -4.7530999183654785, -5.170899868011475, -3.2360999584198, -4.1921000480651855, -4.450300216674805, -4.39139986038208, -4.592599868774414, -4.853600025177002, -4.577000141143799, -4.636199951171875, -4.815299987792969, -4.053800106048584, -4.616199970245361, -4.217199802398682, -4.14900016784668, -4.815299987792969, -4.660699844360352, -4.209000110626221, -4.815299987792969, -4.815299987792969, -4.815299987792969, -4.792200088500977, -5.079100131988525, -5.079100131988525, -5.079100131988525, -5.079100131988525, -5.079100131988525, -5.079100131988525, -5.079100131988525, -5.079100131988525, -5.079100131988525, -4.593200206756592, -4.821800231933594, -4.837399959564209, -5.133800029754639, -4.85230016708374, -5.140500068664551, -5.151199817657471, -5.17549991607666, -4.116799831390381, -5.219099998474121, -4.599400043487549, -5.079100131988525, -4.164999961853027, -4.874499797821045, -4.879000186920166, -5.11870002746582, -5.11870002746582, -5.11870002746582, -4.956099987030029, -5.171500205993652, -3.76990008354187, -3.8447000980377197, -3.4839000701904297, -3.246500015258789, -3.88919997215271, -2.782099962234497, -4.407199859619141, -4.593200206756592, -4.661200046539307, -4.565499782562256, -4.593200206756592, -4.792200088500977, -4.593200206756592, -4.277500152587891, -4.360599994659424, -4.604899883270264, -4.792200088500977, -4.696800231933594, -4.468900203704834, -4.783599853515625, -4.775000095367432, -4.844900131225586, -4.441500186920166, -4.664100170135498, -4.951000213623047, -4.951000213623047, -4.951000213623047, -3.8675999641418457, -4.465099811553955, -4.465000152587891, -4.478000164031982, -4.990499973297119, -4.990499973297119, -4.994699954986572, -4.493100166320801, -4.724100112915039, -4.7316999435424805, -5.015699863433838, -5.0381999015808105, -4.536300182342529, -4.536300182342529, -5.091000080108643, -4.3028998374938965, -4.465000152587891, -5.202600002288818, -4.718599796295166, -4.951000213623047, -4.951000213623047, -4.105599880218506, -5.354800224304199, -5.354800224304199, -5.354800224304199, -5.354800224304199, -4.447999954223633, -4.574100017547607, -4.465000152587891, -3.088399887084961, -4.127699851989746, -4.465000152587891, -4.098499774932861, -3.80049991607666, -3.682800054550171, -4.664100170135498, -4.664100170135498, -4.139400005340576, -4.492800235748291, -4.670499801635742, -4.63539981842041, -4.509699821472168, -4.649499893188477, -4.693699836730957, -4.918799877166748, -4.918799877166748, -4.918799877166748, -4.918799877166748, -4.918799877166748, -4.918799877166748, -3.954699993133545, -4.947199821472168, -4.444499969482422, -4.958399772644043, -4.972599983215332, -4.982699871063232, -4.982800006866455, -4.485099792480469, -5.002900123596191, -4.7204999923706055, -4.661499977111816, -5.170400142669678, -4.68120002746582, -4.918799877166748, -4.918799877166748, -4.918799877166748, -4.918799877166748, -4.918799877166748, -4.958399772644043, -4.160699844360352, -5.3225998878479, -5.3225998878479, -5.3225998878479, -5.3225998878479, -3.8857998847961426, -3.985100030899048, -3.918600082397461, -4.461299896240234, -4.182000160217285, -3.3650999069213867, -3.308799982070923, -4.4328999519348145, -4.540599822998047, -4.301599979400635, -4.666900157928467, -4.267300128936768, -4.1981000900268555, -4.031700134277344, -4.631899833679199, -4.631899833679199, -4.4882001876831055, -4.355599880218506, -4.7032999992370605, -4.663599967956543, -4.587900161743164, -4.851399898529053, -4.824399948120117], \"loglift\": [30.0, 29.0, 28.0, 27.0, 26.0, 25.0, 24.0, 23.0, 22.0, 21.0, 20.0, 19.0, 18.0, 17.0, 16.0, 15.0, 14.0, 13.0, 12.0, 11.0, 10.0, 9.0, 8.0, 7.0, 6.0, 5.0, 4.0, 3.0, 2.0, 1.0, 1.3133000135421753, 1.3133000135421753, 1.3133000135421753, 1.3133000135421753, 1.2926000356674194, 1.2848000526428223, 1.2731000185012817, 1.2717000246047974, 1.2717000246047974, 1.2717000246047974, 1.2568999528884888, 1.248900055885315, 1.1576999425888062, 1.1368000507354736, 1.103700041770935, 1.0886000394821167, 1.0885000228881836, 1.0607999563217163, 1.0250999927520752, 1.0250999927520752, 1.023900032043457, 1.021299958229065, 1.021299958229065, 1.021299958229065, 1.021299958229065, 1.0159000158309937, 1.0038000345230103, 0.9800999760627747, 0.9606999754905701, 0.9555000066757202, 0.8116000294685364, 0.7495999932289124, 0.7587000131607056, 0.7275999784469604, 0.7261999845504761, 0.8647000193595886, 0.6335999965667725, 0.576200008392334, 0.7441999912261963, -0.22030000388622284, 0.4885999858379364, -0.2029999941587448, -0.33820000290870667, 0.7433000206947327, 0.4489000141620636, -0.850600004196167, 0.4984000027179718, 0.3813999891281128, 0.11159999668598175, 1.323099970817566, 1.3206000328063965, 1.3206000328063965, 1.3206000328063965, 1.3206000328063965, 1.3206000328063965, 1.3206000328063965, 1.3206000328063965, 1.3206000328063965, 1.3206000328063965, 1.3013999462127686, 1.2925000190734863, 1.2763999700546265, 1.266800045967102, 1.2625000476837158, 1.26010000705719, 1.246000051498413, 1.2258000373840332, 1.1916999816894531, 1.1806999444961548, 1.1116000413894653, 1.0401999950408936, 1.034000039100647, 1.0159000158309937, 1.00600004196167, 1.001099944114685, 0.9919000267982483, 0.9865000247955322, 0.9340000152587891, 0.9323999881744385, 0.90420001745224, 0.8860999941825867, 0.8370000123977661, 0.7677000164985657, 0.8343999981880188, 0.5763000249862671, 0.8907999992370605, 0.8289999961853027, 0.7728000283241272, 0.6467999815940857, 0.5256999731063843, 0.7578999996185303, 0.2721000015735626, -0.4440000057220459, -0.31290000677108765, 0.17829999327659607, 0.5264999866485596, 0.22339999675750732, -0.6581000089645386, 0.3260999917984009, -0.2745000123977661, 0.44999998807907104, 1.4377000331878662, 1.4363000392913818, 1.4337999820709229, 1.4337999820709229, 1.4337999820709229, 1.4275000095367432, 1.4148000478744507, 1.4144999980926514, 1.4017000198364258, 1.3947999477386475, 1.393399953842163, 1.3913999795913696, 1.3875999450683594, 1.3760000467300415, 1.3705999851226807, 1.3700000047683716, 1.3478000164031982, 1.344599962234497, 1.344599962234497, 1.295799970626831, 1.2453999519348145, 1.238800048828125, 1.1794999837875366, 1.164199948310852, 1.156999945640564, 1.156999945640564, 1.0888999700546265, 1.0401999950408936, 1.034999966621399, 1.034999966621399, 1.034999966621399, 0.9686999917030334, 0.9718000292778015, 0.9460999965667725, 0.7224000096321106, 0.6563000082969666, 0.8402000069618225, 0.4020000100135803, 0.032999999821186066, -0.32440000772476196, 0.8919000029563904, 0.882099986076355, -0.12530000507831573, 0.3725000023841858, 0.7476999759674072, 0.46939998865127563, -0.8208000063896179, 0.02459999918937683, 0.6083999872207642, 1.445199966430664, 1.445199966430664, 1.445199966430664, 1.445199966430664, 1.445199966430664, 1.445199966430664, 1.4368000030517578, 1.417799949645996, 1.4144999980926514, 1.4076000452041626, 1.3940000534057617, 1.3844000101089478, 1.3844000101089478, 1.3752000331878662, 1.3652000427246094, 1.3625999689102173, 1.207800030708313, 1.198199987411499, 1.187999963760376, 1.169600009918213, 1.169600009918213, 1.169600009918213, 1.169600009918213, 1.169600009918213, 1.1305999755859375, 1.1252000331878662, 1.0583000183105469, 1.0583000183105469, 1.0583000183105469, 1.0532000064849854, 1.034500002861023, 0.9417999982833862, 0.8646000027656555, 0.8331999778747559, 0.7415000200271606, 0.4684000015258789, 0.04960000142455101, 0.7562000155448914, 0.7508999705314636, 0.4219000041484833, 0.8666999936103821, 0.23319999873638153, 0.12280000001192093, -0.22089999914169312, 0.7842000126838684, 0.7829999923706055, 0.29580000042915344, -0.30790001153945923, 0.7027000188827515, 0.27810001373291016, -0.8989999890327454, 0.6891999840736389, -0.09369999915361404]}, \"token.table\": {\"Topic\": [3, 1, 3, 1, 2, 3, 4, 1, 2, 3, 4, 1, 1, 2, 3, 4, 1, 2, 3, 1, 3, 4, 1, 3, 1, 2, 2, 4, 1, 3, 1, 3, 1, 3, 4, 1, 2, 1, 2, 1, 2, 3, 4, 1, 3, 4, 2, 3, 3, 2, 3, 4, 2, 4, 1, 2, 4, 3, 1, 4, 2, 3, 4, 1, 4, 1, 3, 3, 4, 2, 2, 1, 3, 2, 3, 3, 1, 2, 4, 1, 2, 3, 4, 2, 4, 1, 1, 2, 3, 1, 3, 1, 4, 3, 1, 1, 4, 1, 4, 1, 1, 4, 1, 2, 3, 4, 4, 1, 2, 3, 4, 2, 1, 4, 1, 2, 1, 2, 4, 1, 3, 4, 3, 2, 4, 3, 1, 4, 4, 1, 3, 4, 2, 2, 3, 2, 3, 1, 2, 3, 1, 2, 3, 4, 2, 3, 1, 3, 3, 4, 4, 1, 2, 3, 4, 3, 4, 2, 1, 2, 3, 4, 4, 2, 3, 4, 1, 1, 2, 3, 4, 2, 4, 1, 2, 3, 4, 1, 3, 2, 3, 4, 2, 2, 1, 2, 4, 2, 4, 1, 2, 4, 1, 2, 4, 1, 2, 4, 4, 1, 2, 3, 2, 2, 3, 2, 4, 4, 1, 3, 1, 3, 1, 4, 2, 2, 2, 4, 4, 1, 3, 3, 4, 2, 3, 4, 3, 1, 2, 1, 3, 2, 4, 4, 3, 2, 3, 3, 2, 4, 3, 2, 2, 3, 1, 3, 1, 2, 1, 2, 3, 1, 2, 2, 3, 1, 2, 1, 2, 3, 4, 1, 2, 3, 4, 2, 3, 4, 2, 1, 4, 3, 1, 2, 3, 2, 1, 3, 4, 1, 2, 1, 2, 3, 4, 1, 2, 4, 2, 4, 1, 2, 2, 3, 1, 1, 2, 4, 1, 2, 4, 1, 3, 4, 2, 3, 4, 2, 4, 1, 2, 2, 4, 1, 2, 3, 4, 4, 2, 3, 3, 2, 3, 4, 1, 4, 3, 2, 3, 2, 3, 4, 4], \"Freq\": [0.9862680435180664, 0.7594100832939148, 0.25313669443130493, 0.11017564684152603, 0.22035129368305206, 0.22035129368305206, 0.4407025873661041, 0.07625100761651993, 0.15250201523303986, 0.2287530153989792, 0.4575060307979584, 1.018868088722229, 0.60345858335495, 0.19056586921215057, 0.03176097944378853, 0.15880489349365234, 0.45055094361305237, 0.3379132151603699, 0.22527547180652618, 0.3315224051475525, 0.11050747334957123, 0.5525373816490173, 0.4306130111217499, 0.5741506814956665, 0.7623147964477539, 0.25410494208335876, 0.24442732334136963, 0.7332819700241089, 0.16640272736549377, 0.8320136666297913, 0.7594107389450073, 0.25313690304756165, 0.40081754326820374, 0.3006131649017334, 0.3006131649017334, 1.0149258375167847, 0.9985948204994202, 1.0170068740844727, 1.0011168718338013, 0.0663263127207756, 0.1326526254415512, 0.464284211397171, 0.3316315710544586, 0.576115071773529, 0.2880575358867645, 0.14402876794338226, 0.3303990066051483, 0.6607980132102966, 0.9914765954017639, 0.3745902478694916, 0.6243171095848083, 0.9740641117095947, 0.3040090799331665, 0.684020459651947, 0.37391534447669983, 0.12463844567537308, 0.4985537827014923, 0.9882332682609558, 0.8718608021736145, 0.14531013369560242, 1.0011401176452637, 0.323488712310791, 0.646977424621582, 0.19633150100708008, 0.7853260040283203, 0.2492699772119522, 0.7478099465370178, 0.9854676127433777, 0.9729330539703369, 1.0044441223144531, 1.00111722946167, 0.7594111561775208, 0.2531370520591736, 0.8379241228103638, 0.16758482158184052, 0.9862684607505798, 1.0161408185958862, 0.7978322505950928, 0.1994580626487732, 0.20510044693946838, 0.17946287989616394, 0.2563755512237549, 0.3845633268356323, 0.24457664787769318, 0.733729898929596, 1.0163841247558594, 0.11884651333093643, 0.6536558270454407, 0.23769302666187286, 1.0170159339904785, 0.9893332123756409, 0.32748258113861084, 0.6549651622772217, 0.9951236248016357, 1.0149255990982056, 0.7553420066833496, 0.2517806589603424, 0.6722314357757568, 0.3361157178878784, 1.0170079469680786, 0.19633594155311584, 0.7853437662124634, 0.1255549043416977, 0.6277744770050049, 0.1255549043416977, 0.1255549043416977, 0.9725838899612427, 0.5080732703208923, 0.40645864605903625, 0.10161466151475906, 0.9690169095993042, 1.0011178255081177, 0.4991860091686249, 0.4991860091686249, 0.7617058753967285, 0.25390195846557617, 0.5755972266197205, 0.14389930665493011, 0.28779861330986023, 0.1241711750626564, 0.6208558678627014, 0.2483423501253128, 0.9931599497795105, 0.6243403553962708, 0.3746042251586914, 0.9929727911949158, 0.3274807631969452, 0.6549615263938904, 0.9659850597381592, 0.1420869380235672, 0.5683477520942688, 0.1420869380235672, 1.0011177062988281, 0.33039945363998413, 0.6607989072799683, 1.006824254989624, 0.9872012138366699, 0.8144201040267944, 0.2036050260066986, 0.9894999861717224, 0.6086857318878174, 0.20289523899555206, 0.10144761949777603, 0.10144761949777603, 0.1990116685628891, 0.7960466742515564, 0.8129534125328064, 0.2032383531332016, 0.42107799649238586, 0.5614373087882996, 0.9659853577613831, 0.20050126314163208, 0.12531329691410065, 0.4761905074119568, 0.17543861269950867, 0.9914475083351135, 0.9690152406692505, 1.0019596815109253, 0.7321190237998962, 0.06655627489089966, 0.11092712730169296, 0.08874169737100601, 0.9659858345985413, 0.44220200181007385, 0.3316514790058136, 0.3316514790058136, 1.0212479829788208, 0.1498565375804901, 0.19980871677398682, 0.34966525435447693, 0.2997130751609802, 0.24442721903324127, 0.7332816123962402, 0.25011008977890015, 0.12505504488945007, 0.5002201795578003, 0.12505504488945007, 0.2492699772119522, 0.7478099465370178, 0.5707574486732483, 0.28537872433662415, 0.14268936216831207, 1.0033780336380005, 1.0011165142059326, 0.13253845274448395, 0.3313461244106293, 0.5301538109779358, 0.6653649210929871, 0.33268246054649353, 0.5435970425605774, 0.1553134322166443, 0.3106268644332886, 0.3060418665409088, 0.0765104666352272, 0.6120837330818176, 0.1257743537425995, 0.628871738910675, 0.18866153061389923, 0.9659838676452637, 0.22339892387390137, 0.22339892387390137, 0.5584973096847534, 1.0011168718338013, 0.7497230172157288, 0.24990767240524292, 1.0020660161972046, 0.9716507196426392, 0.9685481190681458, 0.759411633014679, 0.2531372010707855, 0.6752762198448181, 0.33763810992240906, 1.0170071125030518, 0.9669567942619324, 1.0011169910430908, 1.0038416385650635, 0.7457483410835266, 0.24858278036117554, 0.9699354767799377, 0.7582494616508484, 0.25274980068206787, 0.6557680368423462, 0.3278840184211731, 0.24708884954452515, 0.24708884954452515, 0.4941776990890503, 0.9931612610816956, 0.38113948702812195, 0.6352325081825256, 0.8129356503486633, 0.20323391258716583, 0.7447494864463806, 0.2482498288154602, 0.9678782820701599, 0.9921646118164062, 0.14241649210453033, 0.8544989824295044, 0.9875551462173462, 0.24442735314369202, 0.7332820892333984, 0.9868425726890564, 1.0026843547821045, 0.8965175747871399, 0.11206469684839249, 0.3321121633052826, 0.6642243266105652, 0.7623145580291748, 0.2541048526763916, 0.25222015380859375, 0.7566604614257812, 0.9917941689491272, 0.508944571018219, 0.508944571018219, 0.3303995132446289, 0.6607990264892578, 1.0149269104003906, 1.0011708736419678, 0.21581698954105377, 0.3596949875354767, 0.3596949875354767, 0.07193899899721146, 0.11159314960241318, 0.47825637459754944, 0.17536066472530365, 0.23912818729877472, 0.7030640840530396, 0.10043773055076599, 0.10043773055076599, 1.0028367042541504, 0.8455067276954651, 0.16910135746002197, 0.9875091910362244, 0.21499261260032654, 0.5835514068603516, 0.21499261260032654, 1.0011167526245117, 0.4570372402667999, 0.36562979221343994, 0.18281489610671997, 0.5660969614982605, 0.45287758111953735, 0.2226853221654892, 0.2226853221654892, 0.4453706443309784, 0.1113426610827446, 0.10955575853586197, 0.21911151707172394, 0.766890287399292, 0.2444319725036621, 0.7332959175109863, 0.556264340877533, 0.46355360746383667, 0.802158772945404, 0.200539693236351, 1.0171352624893188, 0.762642502784729, 0.12710708379745483, 0.12710708379745483, 0.45925623178482056, 0.367404967546463, 0.1837024837732315, 0.8636786341667175, 0.07851624488830566, 0.07851624488830566, 0.2826685309410095, 0.2826685309410095, 0.4240027964115143, 0.3258156180381775, 0.651631236076355, 0.2521052956581116, 0.7563159465789795, 0.2444271296262741, 0.7332813739776611, 0.1988992989063263, 0.1988992989063263, 0.09944964945316315, 0.49724823236465454, 0.9659852385520935, 0.299959272146225, 0.6999049782752991, 0.9862690567970276, 0.6261164546012878, 0.1252232939004898, 0.2504465878009796, 0.32748112082481384, 0.6549622416496277, 0.9919838309288025, 0.6013910174369812, 0.4009273648262024, 0.28427034616470337, 0.5685406923294067, 0.14213517308235168, 0.9659821391105652], \"Term\": [\"1\", \"13\", \"13\", \"2019\", \"2019\", \"2019\", \"2019\", \"A\", \"A\", \"A\", \"A\", \"Dr\", \"I\", \"I\", \"I\", \"I\", \"If\", \"If\", \"If\", \"It\", \"It\", \"It\", \"My\", \"My\", \"No\", \"No\", \"Of\", \"Of\", \"PM\", \"PM\", \"So\", \"So\", \"We\", \"We\", \"We\", \"adnan\", \"agreement\", \"also\", \"amaz\", \"amp\", \"amp\", \"amp\", \"amp\", \"and\", \"and\", \"and\", \"announc\", \"announc\", \"articl\", \"associ\", \"associ\", \"australia\", \"australian\", \"australian\", \"award\", \"award\", \"award\", \"ball\", \"best\", \"best\", \"better\", \"big\", \"big\", \"biggest\", \"biggest\", \"black\", \"black\", \"bodi\", \"bushfir\", \"champion\", \"chelsea\", \"climat\", \"climat\", \"come\", \"come\", \"compani\", \"condit\", \"could\", \"could\", \"cricket\", \"cricket\", \"cricket\", \"cricket\", \"cricketcomau\", \"cricketcomau\", \"dad\", \"day\", \"day\", \"day\", \"decid\", \"democrat\", \"die\", \"die\", \"doctor\", \"drkhan\", \"end\", \"end\", \"ever\", \"ever\", \"far\", \"feder\", \"feder\", \"first\", \"first\", \"first\", \"first\", \"game\", \"get\", \"get\", \"get\", \"girl\", \"giroud\", \"good\", \"good\", \"got\", \"got\", \"great\", \"great\", \"great\", \"how\", \"how\", \"how\", \"hyde\", \"icc\", \"icc\", \"impeach\", \"incred\", \"incred\", \"india\", \"indian\", \"indian\", \"indian\", \"inter\", \"issu\", \"issu\", \"last\", \"latest\", \"let\", \"let\", \"life\", \"like\", \"like\", \"like\", \"like\", \"look\", \"look\", \"magic\", \"magic\", \"make\", \"make\", \"mani\", \"medic\", \"medic\", \"medic\", \"medic\", \"modi\", \"moment\", \"most\", \"movi\", \"movi\", \"movi\", \"movi\", \"nadal\", \"name\", \"name\", \"name\", \"nawaz\", \"new\", \"new\", \"new\", \"new\", \"nickkyrgio\", \"nickkyrgio\", \"night\", \"night\", \"night\", \"night\", \"nike\", \"nike\", \"odi\", \"odi\", \"odi\", \"offer\", \"olivi\", \"one\", \"one\", \"one\", \"open\", \"open\", \"peopl\", \"peopl\", \"peopl\", \"play\", \"play\", \"play\", \"player\", \"player\", \"player\", \"point\", \"polit\", \"polit\", \"polit\", \"power\", \"prosecutor\", \"prosecutor\", \"protest\", \"rais\", \"rally4relief\", \"read\", \"read\", \"real\", \"real\", \"realli\", \"reason\", \"recommend\", \"relat\", \"releas\", \"releas\", \"relief\", \"report\", \"report\", \"resign\", \"resign\", \"right\", \"right\", \"right\", \"robert\", \"run\", \"run\", \"said\", \"said\", \"sander\", \"sander\", \"saw\", \"season\", \"senat\", \"senat\", \"send\", \"serena\", \"serena\", \"seri\", \"she\\u2019\", \"show\", \"show\", \"skirt\", \"skirt\", \"social\", \"social\", \"someth\", \"someth\", \"stan\", \"still\", \"still\", \"student\", \"student\", \"submit\", \"support\", \"team\", \"team\", \"team\", \"team\", \"tenni\", \"tenni\", \"tenni\", \"tenni\", \"test\", \"test\", \"test\", \"text\", \"that\", \"that\", \"that\\u2026\", \"the\", \"the\", \"the\", \"they\", \"thi\", \"thi\", \"thi\", \"think\", \"think\", \"time\", \"time\", \"time\", \"time\", \"today\", \"today\", \"today\", \"tri\", \"tri\", \"trump\", \"trump\", \"ukrain\", \"ukrain\", \"use\", \"virat\", \"virat\", \"virat\", \"want\", \"want\", \"want\", \"watch\", \"watch\", \"watch\", \"way\", \"way\", \"way\", \"wednesday\", \"wednesday\", \"when\", \"when\", \"william\", \"william\", \"win\", \"win\", \"win\", \"win\", \"word\", \"world\", \"world\", \"would\", \"year\", \"year\", \"year\", \"young\", \"young\", \"you\\u2019r\", \"yovanovitch\", \"yovanovitch\", \"|\", \"|\", \"|\", \"\\ud83d\\udc4f\"]}, \"R\": 30, \"lambda.step\": 0.01, \"plot.opts\": {\"xlab\": \"PC1\", \"ylab\": \"PC2\"}, \"topic.order\": [1, 2, 4, 3]};\n",
       "\n",
       "function LDAvis_load_lib(url, callback){\n",
       "  var s = document.createElement('script');\n",
       "  s.src = url;\n",
       "  s.async = true;\n",
       "  s.onreadystatechange = s.onload = callback;\n",
       "  s.onerror = function(){console.warn(\"failed to load library \" + url);};\n",
       "  document.getElementsByTagName(\"head\")[0].appendChild(s);\n",
       "}\n",
       "\n",
       "if(typeof(LDAvis) !== \"undefined\"){\n",
       "   // already loaded: just create the visualization\n",
       "   !function(LDAvis){\n",
       "       new LDAvis(\"#\" + \"ldavis_el1175217419275826644112704463\", ldavis_el1175217419275826644112704463_data);\n",
       "   }(LDAvis);\n",
       "}else if(typeof define === \"function\" && define.amd){\n",
       "   // require.js is available: use it to load d3/LDAvis\n",
       "   require.config({paths: {d3: \"https://cdnjs.cloudflare.com/ajax/libs/d3/3.5.5/d3.min\"}});\n",
       "   require([\"d3\"], function(d3){\n",
       "      window.d3 = d3;\n",
       "      LDAvis_load_lib(\"https://cdn.rawgit.com/bmabey/pyLDAvis/files/ldavis.v1.0.0.js\", function(){\n",
       "        new LDAvis(\"#\" + \"ldavis_el1175217419275826644112704463\", ldavis_el1175217419275826644112704463_data);\n",
       "      });\n",
       "    });\n",
       "}else{\n",
       "    // require.js not available: dynamically load d3 & LDAvis\n",
       "    LDAvis_load_lib(\"https://cdnjs.cloudflare.com/ajax/libs/d3/3.5.5/d3.min.js\", function(){\n",
       "         LDAvis_load_lib(\"https://cdn.rawgit.com/bmabey/pyLDAvis/files/ldavis.v1.0.0.js\", function(){\n",
       "                 new LDAvis(\"#\" + \"ldavis_el1175217419275826644112704463\", ldavis_el1175217419275826644112704463_data);\n",
       "            })\n",
       "         });\n",
       "}\n",
       "</script>"
      ],
      "text/plain": [
       "<IPython.core.display.HTML object>"
      ]
     },
     "execution_count": 120,
     "metadata": {},
     "output_type": "execute_result"
    }
   ],
   "source": [
    "%matplotlib inline\n",
    "import pyLDAvis\n",
    "import pyLDAvis.gensim\n",
    "vis = pyLDAvis.gensim.prepare(topic_model=lda_model, corpus=corpus, dictionary=dictionary_LDA)\n",
    "pyLDAvis.enable_notebook()\n",
    "pyLDAvis.display(vis)"
   ]
  },
  {
   "cell_type": "code",
   "execution_count": 121,
   "metadata": {},
   "outputs": [],
   "source": [
    "# 4. Doc2Vec"
   ]
  },
  {
   "cell_type": "code",
   "execution_count": 122,
   "metadata": {},
   "outputs": [],
   "source": [
    "from gensim.models.doc2vec import Doc2Vec, TaggedDocument\n",
    "from nltk.tokenize import word_tokenize"
   ]
  },
  {
   "cell_type": "code",
   "execution_count": 123,
   "metadata": {},
   "outputs": [],
   "source": [
    "data = Text['Updated'].to_list()"
   ]
  },
  {
   "cell_type": "code",
   "execution_count": 124,
   "metadata": {},
   "outputs": [],
   "source": [
    "tagged_data = [TaggedDocument(words=word_tokenize(_d.lower()), tags=[str(i)]) for i, _d in enumerate(data)]\n",
    "\n",
    "# tagged_data"
   ]
  },
  {
   "cell_type": "code",
   "execution_count": 125,
   "metadata": {},
   "outputs": [],
   "source": [
    "max_epochs = 100\n",
    "vec_size = 20\n",
    "alpha = 0.025\n",
    "\n",
    "model = Doc2Vec(size=vec_size, alpha=alpha,min_alpha=0.00025, min_count=1, dm =1)\n",
    "  \n",
    "model.build_vocab(tagged_data)"
   ]
  },
  {
   "cell_type": "code",
   "execution_count": 126,
   "metadata": {},
   "outputs": [],
   "source": [
    "# for epoch in range(max_epochs):\n",
    "#     print('iteration {0}'.format(epoch))\n",
    "#     model.train(tagged_data,\n",
    "#                 total_examples=model.corpus_count,\n",
    "#                 epochs=model.iter)\n",
    "#     # decrease the learning rate\n",
    "#     model.alpha -= 0.0002\n",
    "#     # fix the learning rate, no decay\n",
    "#     model.min_alpha = model.alpha\n",
    "\n",
    "# model.save(\"d2v.model\")\n",
    "# print(\"Model Saved\")"
   ]
  },
  {
   "cell_type": "code",
   "execution_count": 127,
   "metadata": {},
   "outputs": [],
   "source": [
    "from gensim.models.doc2vec import Doc2Vec\n",
    "\n",
    "model= Doc2Vec.load(\"d2v.model\")\n",
    "#to find the vector of a document which is not in training data\n",
    "# test_data = word_tokenize(\"I love chatbots\".lower())\n",
    "# v1 = model.infer_vector(test_data)\n",
    "# print(\"V1_infer\", v1)\n",
    "\n",
    "# to find most similar doc using tags\n",
    "similar_doc = model.docvecs.most_similar('1')\n",
    "# print(similar_doc)\n",
    "\n",
    "\n",
    "# to find vector of doc in training data using tags or in other words, printing the vector of document at index 1 in training data\n",
    "# print(model.docvecs['1'])"
   ]
  },
  {
   "cell_type": "code",
   "execution_count": 128,
   "metadata": {},
   "outputs": [],
   "source": [
    "# model.docvecs"
   ]
  },
  {
   "cell_type": "code",
   "execution_count": 129,
   "metadata": {},
   "outputs": [],
   "source": [
    "# print(similar_doc)\n"
   ]
  },
  {
   "cell_type": "code",
   "execution_count": 130,
   "metadata": {},
   "outputs": [],
   "source": [
    "final_array = []\n",
    "\n",
    "for i in range(241):\n",
    "    temp = []\n",
    "    simi = model.docvecs[i]\n",
    "#     temp.append(i)\n",
    "    for j in simi:\n",
    "\n",
    "        temp.append(j)\n",
    "#         temp.append(vec)\n",
    "    final_array.append(temp)\n",
    "    "
   ]
  },
  {
   "cell_type": "code",
   "execution_count": 131,
   "metadata": {},
   "outputs": [],
   "source": [
    "# final_array"
   ]
  },
  {
   "cell_type": "code",
   "execution_count": 132,
   "metadata": {},
   "outputs": [],
   "source": [
    "d2v_euclidean_model, d2v_euclidean_labels = kmeans_euclidean(final_array, 4)"
   ]
  },
  {
   "cell_type": "code",
   "execution_count": null,
   "metadata": {},
   "outputs": [],
   "source": []
  },
  {
   "cell_type": "markdown",
   "metadata": {},
   "source": [
    "# 5. Non Negative Matrix Factorization"
   ]
  },
  {
   "cell_type": "code",
   "execution_count": 151,
   "metadata": {},
   "outputs": [],
   "source": [
    "from sklearn.feature_extraction.text import TfidfVectorizer\n",
    "from sklearn.decomposition import NMF\n",
    "def nmf():\n",
    "    tfidf = TfidfVectorizer(max_df=0.95, min_df=2, stop_words='english')\n",
    "    dtm = tfidf.fit_transform(Text['Updated'])\n",
    "    nmf_model = NMF(n_components=4, random_state=101)\n",
    "    print(\"nmf_model\")\n",
    "    print(nmf_model)\n",
    "    nmf_model = nmf_model.fit(dtm)\n",
    "    freq_words = {}\n",
    "    print(\"Words in the model\\n\")\n",
    "    for index, topic in enumerate(nmf_model.components_):\n",
    "        print(f\"The new models# {index}\")\n",
    "        words = [tfidf.get_feature_names()[i] for i in topic.argsort()[-15:]]\n",
    "        freq_words[index] = words\n",
    "        print(words)\n",
    "        print('\\n')\n",
    "        \n",
    "        \n",
    "    topic_model = nmf_model.transform(dtm)\n",
    "    nmf_labels = topic_model.argmax(axis =1)\n",
    "    print(\"nmf lables\")\n",
    "    print(nmf_labels)\n",
    "    Text['topic'] = topic_model.argmax(axis =1)\n",
    "    model = {0:'A', 1:'B', 2:'C', 3:'D', 4:'E'}\n",
    "    Text['Title'] = Text['topic'].map(model)\n",
    "    Text.head()\n",
    "    counts = Text['topic'].value_counts()\n",
    "#     print(\"nmf Counts\")\n",
    "#     print(counts)\n",
    "    return nmf_model, freq_words, topic_model, nmf_labels, counts"
   ]
  },
  {
   "cell_type": "code",
   "execution_count": 152,
   "metadata": {},
   "outputs": [
    {
     "name": "stdout",
     "output_type": "stream",
     "text": [
      "nmf_model\n",
      "NMF(alpha=0.0, beta_loss='frobenius', init=None, l1_ratio=0.0, max_iter=200,\n",
      "    n_components=4, random_state=101, shuffle=False, solver='cd', tol=0.0001,\n",
      "    verbose=0)\n",
      "Words in the model\n",
      "\n",
      "The new models# 0\n",
      "['work', 'presid', 'ye', 'great', 'think', 'amaz', 'thank', 'night', 'thi', 'wa', 'best', 'want', 'rt', 'watch', 'movi']\n",
      "\n",
      "\n",
      "The new models# 1\n",
      "['champion', 'wrong', 'match', 'nike', 'right', 'play', 'australia', 'bet', 'rais', 'open', 'guy', 'day', 'player', 'australian', 'tenni']\n",
      "\n",
      "\n",
      "The new models# 2\n",
      "['kohli', 'iccaward', 'spirit', 'win', 'virat', 'odi', 'rt', 'award', 'player', '2019', 'team', 'test', 'icc', 'year', 'cricket']\n",
      "\n",
      "\n",
      "The new models# 3\n",
      "['senat', 'thi', 'modi', 'femal', 'https', 'say', 'trump', 'help', 'new', 'look', 'associ', 'amp', 'doctor', 'medic', 'rt']\n",
      "\n",
      "\n",
      "nmf lables\n",
      "[2 2 2 2 2 2 2 2 2 2 2 2 2 3 2 3 2 2 2 2 2 2 2 2 3 2 2 2 2 2 2 2 2 3 2 3 2\n",
      " 2 2 2 2 2 2 2 3 2 2 2 2 2 2 2 2 2 2 2 3 2 2 2 0 0 0 0 0 3 0 0 0 0 0 1 0 0\n",
      " 0 0 3 0 0 3 0 0 0 0 3 0 3 0 0 0 0 0 0 0 0 0 0 0 0 0 0 0 0 0 0 0 2 0 0 0 3\n",
      " 3 3 2 0 3 3 3 2 3 3 3 3 3 3 3 3 3 3 3 3 3 3 3 2 3 1 0 3 3 3 3 3 3 3 3 3 1\n",
      " 3 3 3 0 3 3 3 3 3 3 3 3 3 3 3 3 3 3 3 3 3 3 3 3 3 3 3 3 3 3 3 3 3 3 3 3 3\n",
      " 3 3 3 3 3 3 3 3 3 3 3 2 3 3 3 3 3 3 3 3 3 3 3 3 3 3 3 3 3 3 3 3 3 3 3 3 3\n",
      " 3 3 3 3 3 3 3 3 3 3 3 3 3 3 3 3 3 1 1 1 1 2 3 1 3 1 3 3 1 1 3 1 1 1 1 1 3\n",
      " 1 1 3 2 1 1 3 0 1 1 3 3 1 3 1 2 1 1 1 3 1 0 1 1 1 1 2 3 3 1 1 1 1 2 3 1 1\n",
      " 1 1 1 1 1 3 1 1 1 1 1 1 1 1 1 1 1 1 1 1 3 1 1 1 3 1 1 1 1 1 1 1 1 2 3 1 3]\n"
     ]
    }
   ],
   "source": [
    "nmf_model, freq_words, nmf_vec, nmf_labels, counts = nmf()\n"
   ]
  },
  {
   "cell_type": "code",
   "execution_count": 159,
   "metadata": {},
   "outputs": [
    {
     "name": "stdout",
     "output_type": "stream",
     "text": [
      "   Cluster  Count\n",
      "0        2     64\n",
      "1        3    152\n",
      "2        0     48\n",
      "3        1     69\n"
     ]
    },
    {
     "data": {
      "image/png": "[encoded data removed]",
      "text/plain": [
       "<Figure size 432x288 with 1 Axes>"
      ]
     },
     "metadata": {},
     "output_type": "display_data"
    }
   ],
   "source": [
    "pie_chart(nmf_labels)"
   ]
  },
  {
   "cell_type": "markdown",
   "metadata": {},
   "source": [
    "### Internal Evaluation"
   ]
  },
  {
   "cell_type": "markdown",
   "metadata": {},
   "source": [
    "NMF Kmeans Report"
   ]
  },
  {
   "cell_type": "code",
   "execution_count": 172,
   "metadata": {},
   "outputs": [
    {
     "data": {
      "text/plain": [
       "array([1, 1, 0, 0, 0, 1, 1, 1, 0, 1, 0, 0, 1, 1, 0, 1, 1, 1, 1, 0, 0, 0,\n",
       "       1, 1, 1, 0, 1, 0, 0, 0, 1, 0, 1, 1, 0, 1, 0, 1, 1, 0, 0, 0, 1, 0,\n",
       "       1, 0, 0, 1, 0, 1, 0, 0, 0, 0, 0, 1, 1, 0, 0, 1, 2, 2, 1, 2, 2, 1,\n",
       "       2, 2, 2, 2, 2, 1, 2, 2, 2, 2, 1, 2, 2, 1, 2, 2, 1, 2, 1, 2, 1, 2,\n",
       "       2, 2, 2, 2, 2, 2, 2, 2, 2, 2, 2, 2, 2, 2, 1, 2, 2, 2, 2, 2, 2, 2,\n",
       "       1, 1, 1, 0, 2, 1, 1, 1, 1, 1, 1, 1, 1, 1, 1, 1, 1, 1, 1, 1, 1, 1,\n",
       "       1, 1, 1, 1, 1, 1, 1, 1, 1, 1, 1, 1, 1, 1, 1, 1, 1, 1, 1, 1, 1, 1,\n",
       "       1, 1, 1, 1, 1, 1, 1, 1, 1, 1, 1, 1, 1, 1, 1, 1, 1, 1, 1, 1, 1, 1,\n",
       "       1, 1, 1, 1, 1, 1, 1, 1, 1, 1, 1, 1, 1, 1, 1, 1, 1, 1, 1, 1, 0, 1,\n",
       "       1, 1, 1, 1, 1, 1, 1, 1, 1, 1, 1, 1, 1, 1, 1, 1, 1, 1, 1, 1, 1, 1,\n",
       "       1, 1, 1, 1, 1, 1, 1, 1, 1, 1, 1, 1, 1, 1, 1, 1, 1, 1, 1, 3, 3, 3,\n",
       "       3, 0, 1, 3, 1, 3, 1, 1, 3, 3, 1, 3, 3, 3, 3, 3, 1, 3, 3, 1, 1, 3,\n",
       "       3, 1, 1, 3, 3, 1, 1, 3, 1, 3, 1, 3, 3, 3, 1, 3, 2, 3, 3, 3, 3, 0,\n",
       "       1, 1, 3, 1, 3, 1, 1, 1, 3, 3, 1, 3, 3, 3, 3, 1, 3, 3, 3, 3, 3, 3,\n",
       "       3, 3, 3, 3, 3, 3, 3, 3, 1, 3, 3, 3, 1, 3, 3, 1, 3, 3, 3, 3, 3, 0,\n",
       "       1, 3, 1])"
      ]
     },
     "execution_count": 172,
     "metadata": {},
     "output_type": "execute_result"
    }
   ],
   "source": [
    "kmeans_nmf = KMeans (n_clusters = 4,\n",
    "                    max_iter = 100,\n",
    "                    init = 'k-means++',\n",
    "                    n_init = 1)\n",
    "nmf_kmeans_labels = kmeans_nmf.fit_predict(nmf_vec)\n",
    "nmf_kmeans_labels"
   ]
  },
  {
   "cell_type": "code",
   "execution_count": 173,
   "metadata": {},
   "outputs": [
    {
     "data": {
      "text/plain": [
       "[0.5019813760022528, 208.23357427038377, 0.6955898767047408]"
      ]
     },
     "execution_count": 173,
     "metadata": {},
     "output_type": "execute_result"
    }
   ],
   "source": [
    "nmf_kmeans_report = clusterReport(nmf_vec, nmf_kmeans_labels)\n",
    "nmf_kmeans_report "
   ]
  },
  {
   "cell_type": "code",
   "execution_count": 174,
   "metadata": {},
   "outputs": [
    {
     "data": {
      "text/html": [
       "<div>\n",
       "<style scoped>\n",
       "    .dataframe tbody tr th:only-of-type {\n",
       "        vertical-align: middle;\n",
       "    }\n",
       "\n",
       "    .dataframe tbody tr th {\n",
       "        vertical-align: top;\n",
       "    }\n",
       "\n",
       "    .dataframe thead th {\n",
       "        text-align: right;\n",
       "    }\n",
       "</style>\n",
       "<table border=\"1\" class=\"dataframe\">\n",
       "  <thead>\n",
       "    <tr style=\"text-align: right;\">\n",
       "      <th></th>\n",
       "      <th>Silhoutte Score</th>\n",
       "      <th>Calinski Score</th>\n",
       "      <th>Davies Score</th>\n",
       "    </tr>\n",
       "  </thead>\n",
       "  <tbody>\n",
       "    <tr>\n",
       "      <th>NMF</th>\n",
       "      <td>0.455764</td>\n",
       "      <td>171.581266</td>\n",
       "      <td>0.805417</td>\n",
       "    </tr>\n",
       "  </tbody>\n",
       "</table>\n",
       "</div>"
      ],
      "text/plain": [
       "     Silhoutte Score  Calinski Score  Davies Score\n",
       "NMF         0.455764      171.581266      0.805417"
      ]
     },
     "execution_count": 174,
     "metadata": {},
     "output_type": "execute_result"
    }
   ],
   "source": [
    "nmf_report = clusterReport(nmf_vec, nmf_labels)\n",
    "nmf_report = [nmf_report]\n",
    "nmf_df = pd.DataFrame(nmf_report, \n",
    "               columns =[\"Silhoutte Score\", \"Calinski Score\", \"Davies Score\"], index = [\"NMF\"]) \n",
    "nmf_df"
   ]
  },
  {
   "cell_type": "code",
   "execution_count": 161,
   "metadata": {},
   "outputs": [],
   "source": [
    "# nmf_kmeans_labels"
   ]
  },
  {
   "cell_type": "code",
   "execution_count": 135,
   "metadata": {},
   "outputs": [
    {
     "data": {
      "text/plain": [
       "<matplotlib.axes._subplots.AxesSubplot at 0x19593009e88>"
      ]
     },
     "execution_count": 135,
     "metadata": {},
     "output_type": "execute_result"
    },
    {
     "data": {
      "image/png": "[encoded data removed]",
      "text/plain": [
       "<Figure size 1080x648 with 1 Axes>"
      ]
     },
     "metadata": {
      "needs_background": "light"
     },
     "output_type": "display_data"
    }
   ],
   "source": [
    "# import matplotlib.pyplot as plt\n",
    "# plt.figure(figsize=(15,9))\n",
    "# sns.countplot(x = 'topic', data = Text)"
   ]
  },
  {
   "cell_type": "code",
   "execution_count": null,
   "metadata": {},
   "outputs": [],
   "source": [
    "\n",
    "\n"
   ]
  },
  {
   "cell_type": "code",
   "execution_count": null,
   "metadata": {},
   "outputs": [],
   "source": []
  },
  {
   "cell_type": "code",
   "execution_count": null,
   "metadata": {},
   "outputs": [],
   "source": []
  },
  {
   "cell_type": "code",
   "execution_count": null,
   "metadata": {},
   "outputs": [],
   "source": []
  },
  {
   "cell_type": "code",
   "execution_count": null,
   "metadata": {},
   "outputs": [],
   "source": []
  },
  {
   "cell_type": "code",
   "execution_count": null,
   "metadata": {},
   "outputs": [],
   "source": []
  },
  {
   "cell_type": "code",
   "execution_count": null,
   "metadata": {},
   "outputs": [],
   "source": []
  },
  {
   "cell_type": "code",
   "execution_count": null,
   "metadata": {},
   "outputs": [],
   "source": []
  },
  {
   "cell_type": "code",
   "execution_count": null,
   "metadata": {},
   "outputs": [],
   "source": []
  },
  {
   "cell_type": "code",
   "execution_count": null,
   "metadata": {},
   "outputs": [],
   "source": []
  },
  {
   "cell_type": "code",
   "execution_count": null,
   "metadata": {},
   "outputs": [],
   "source": [
    "\n"
   ]
  },
  {
   "cell_type": "code",
   "execution_count": null,
   "metadata": {},
   "outputs": [],
   "source": []
  },
  {
   "cell_type": "code",
   "execution_count": null,
   "metadata": {},
   "outputs": [],
   "source": []
  }
 ],
 "metadata": {
  "kernelspec": {
   "display_name": "Python 3",
   "language": "python",
   "name": "python3"
  },
  "language_info": {
   "codemirror_mode": {
    "name": "ipython",
    "version": 3
   },
   "file_extension": ".py",
   "mimetype": "text/x-python",
   "name": "python",
   "nbconvert_exporter": "python",
   "pygments_lexer": "ipython3",
   "version": "3.7.6"
  }
 },
 "nbformat": 4,
 "nbformat_minor": 2
}
